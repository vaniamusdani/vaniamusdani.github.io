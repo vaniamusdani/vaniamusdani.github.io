{
  "cells": [
    {
      "cell_type": "markdown",
      "metadata": {
        "id": "view-in-github",
        "colab_type": "text"
      },
      "source": [
        "<a href=\"https://colab.research.google.com/github/vaniamusdani/vaniamusdani.github.io/blob/main/Case%20Study%20Clustering%20Analysis%20Group%208.ipynb\" target=\"_parent\"><img src=\"https://colab.research.google.com/assets/colab-badge.svg\" alt=\"Open In Colab\"/></a>"
      ]
    },
    {
      "cell_type": "markdown",
      "source": [
        "**DATA MINING CASE STUDY 02**\n",
        "\n",
        "KELOMPOK 8\n",
        "1. M Dzaky Jaya (1806193640)\n",
        "2. Zahra Novanka (1806185834)\n",
        "3. Salsabil Felia (1806185815)\n",
        "4. Muhamad Ido Raskapati (1906354154)\n",
        "5. I Ketut Doni Damara (1906299502)\n",
        "6. Timothy Devan Chandra (1906375726)\n",
        "7. Vania Putri Musdani (1906377706)\n",
        "8. Angelina Putri (2006464152)\n"
      ],
      "metadata": {
        "id": "4Tanuyxqfi1u"
      }
    },
    {
      "cell_type": "markdown",
      "source": [
        "Pertama-tama akan kita import data menggunakan library pandas. Karena data \"Case-Study-02-MixITup\" berbasis excel, maka kita ubah terlebih dahulu menjadi format csv dengan mengubah nama filenya menjadi CS2.csv dan mengimportnya secara lokal.\n",
        "\n",
        "Kemudian akan dilihat shape untuk mengetahui jumlah ukuran data seperti jumlah variabel dan jumlah data.\n",
        "\n"
      ],
      "metadata": {
        "id": "tqFNRm9Mfyq7"
      }
    },
    {
      "cell_type": "code",
      "execution_count": null,
      "metadata": {
        "colab": {
          "base_uri": "https://localhost:8080/"
        },
        "id": "Ks9jawZ9GHlo",
        "outputId": "97dcb8ee-fd90-456f-f078-625fb0f7926e"
      },
      "outputs": [
        {
          "output_type": "execute_result",
          "data": {
            "text/plain": [
              "(200, 10)"
            ]
          },
          "metadata": {},
          "execution_count": 195
        }
      ],
      "source": [
        "# Loading Data:\n",
        "import pandas as pd\n",
        "\n",
        "try: # Running Locally, yakinkan \"file_\" berada di folder \"data\"\n",
        "    df = pd.read_csv(\"CS2.csv\", low_memory = False, encoding='utf8')\n",
        "except: # Running in Google Colab\n",
        "    !mkdir data\n",
        "    !wget -P data/ https://raw.githubusercontent.com/raskapati/casestudy02/main/CS2%20(2).csv\n",
        "    df = pd.read_csv(\"CS2 (2).csv\", low_memory = False, encoding='utf8')\n",
        "\n",
        "df.shape"
      ]
    },
    {
      "cell_type": "markdown",
      "source": [
        "Diperoleh bahwa ukuran data yang akan kita analisis memiliki 200 data dan 10 variabel."
      ],
      "metadata": {
        "id": "sfhmrM6wf0cZ"
      }
    },
    {
      "cell_type": "markdown",
      "source": [
        "Kemudian kita akan melihat df.info untuk mengetahui variabel mana saja yang terdapat missing value serta tipe dari setiap variabel (interger/object/float)."
      ],
      "metadata": {
        "id": "puzr1wxQgLg1"
      }
    },
    {
      "cell_type": "code",
      "execution_count": null,
      "metadata": {
        "colab": {
          "base_uri": "https://localhost:8080/"
        },
        "id": "UcYSBxw5JOgF",
        "outputId": "6bf63c26-78d8-4102-938c-b5a487b15529"
      },
      "outputs": [
        {
          "output_type": "stream",
          "name": "stdout",
          "text": [
            "<class 'pandas.core.frame.DataFrame'>\n",
            "RangeIndex: 200 entries, 0 to 199\n",
            "Data columns (total 10 columns):\n",
            " #   Column                Non-Null Count  Dtype  \n",
            "---  ------                --------------  -----  \n",
            " 0   ID                    200 non-null    int64  \n",
            " 1   Jenis Kelamin         196 non-null    object \n",
            " 2   Umur                  200 non-null    object \n",
            " 3   Pendapatan-per-bulan  200 non-null    int64  \n",
            " 4   skor-pengeluaran      200 non-null    int64  \n",
            " 5   Menikah               188 non-null    object \n",
            " 6   Kota                  200 non-null    object \n",
            " 7   Promo                 194 non-null    float64\n",
            " 8   HariFav               200 non-null    object \n",
            " 9   FavFlavor             200 non-null    int64  \n",
            "dtypes: float64(1), int64(4), object(5)\n",
            "memory usage: 15.8+ KB\n"
          ]
        }
      ],
      "source": [
        "df.info()"
      ]
    },
    {
      "cell_type": "markdown",
      "source": [
        "Secara umum terlihat bahwa terdapat missing value untuk beberapa variabel."
      ],
      "metadata": {
        "id": "GjDwZN4rgP4a"
      }
    },
    {
      "cell_type": "markdown",
      "source": [
        "Selanjutnya akan digunakan fungsi duplicated untuk memeriksa jumlah data yang terdapat duplikasi."
      ],
      "metadata": {
        "id": "n_wyJuo2gTXA"
      }
    },
    {
      "cell_type": "code",
      "execution_count": null,
      "metadata": {
        "colab": {
          "base_uri": "https://localhost:8080/"
        },
        "id": "Sd4BAAaqJ4LO",
        "outputId": "7ba7b5d2-99a4-4ac3-de28-7fe185f0ef78"
      },
      "outputs": [
        {
          "output_type": "execute_result",
          "data": {
            "text/plain": [
              "0"
            ]
          },
          "metadata": {},
          "execution_count": 197
        }
      ],
      "source": [
        "df.duplicated().sum()"
      ]
    },
    {
      "cell_type": "markdown",
      "source": [
        "Setelah diperiksa duplikasinya, diketahui bahwa data yang kita miliki sudah tidak terdapat duplikasi."
      ],
      "metadata": {
        "id": "epr-RiDBgVl9"
      }
    },
    {
      "cell_type": "markdown",
      "source": [
        "Akan dilihat plot Heatmap Missing Value untuk mengetahui sebaran missing value untuk masing-masing variabel yang ada di data kita."
      ],
      "metadata": {
        "id": "y8YbgCk-gYrQ"
      }
    },
    {
      "cell_type": "code",
      "execution_count": null,
      "metadata": {
        "colab": {
          "base_uri": "https://localhost:8080/",
          "height": 382
        },
        "id": "ZrAy2TtLKGfJ",
        "outputId": "ab823597-e42c-475a-d733-719a4b59a909"
      },
      "outputs": [
        {
          "output_type": "display_data",
          "data": {
            "text/plain": [
              "<Figure size 432x288 with 1 Axes>"
            ],
            "image/png": "[encoded data removed]"
          },
          "metadata": {
            "needs_background": "light"
          }
        }
      ],
      "source": [
        "import seaborn as sns\n",
        "import matplotlib.pyplot as plt\n",
        "\n",
        "sns.heatmap(df.isnull(), cbar=False)\n",
        "plt.title('Heatmap Missing Value')\n",
        "plt.show()"
      ]
    },
    {
      "cell_type": "markdown",
      "source": [
        "Terlihat bahwa variabel yang memiliki missing value berada pada variabel Jenis Kelamin, Menikah, dan Promo.\n"
      ],
      "metadata": {
        "id": "oBWeYVvrgal3"
      }
    },
    {
      "cell_type": "markdown",
      "source": [
        "Akan dilihat presentase missing:"
      ],
      "metadata": {
        "id": "LeMcNp11gcPw"
      }
    },
    {
      "cell_type": "code",
      "execution_count": null,
      "metadata": {
        "colab": {
          "base_uri": "https://localhost:8080/",
          "height": 363
        },
        "id": "fY9Iwq0tKN_N",
        "outputId": "c8826e64-041b-4ce8-c173-cfab454b2f38"
      },
      "outputs": [
        {
          "output_type": "execute_result",
          "data": {
            "text/plain": [
              "                      persentase missing\n",
              "ID                                  0.00\n",
              "Jenis Kelamin                       0.02\n",
              "Umur                                0.00\n",
              "Pendapatan-per-bulan                0.00\n",
              "skor-pengeluaran                    0.00\n",
              "Menikah                             0.06\n",
              "Kota                                0.00\n",
              "Promo                               0.03\n",
              "HariFav                             0.00\n",
              "FavFlavor                           0.00"
            ],
            "text/html": [
              "\n",
              "  <div id=\"df-9af11b9f-0257-448a-bf77-413ae9a61eb4\">\n",
              "    <div class=\"colab-df-container\">\n",
              "      <div>\n",
              "<style scoped>\n",
              "    .dataframe tbody tr th:only-of-type {\n",
              "        vertical-align: middle;\n",
              "    }\n",
              "\n",
              "    .dataframe tbody tr th {\n",
              "        vertical-align: top;\n",
              "    }\n",
              "\n",
              "    .dataframe thead th {\n",
              "        text-align: right;\n",
              "    }\n",
              "</style>\n",
              "<table border=\"1\" class=\"dataframe\">\n",
              "  <thead>\n",
              "    <tr style=\"text-align: right;\">\n",
              "      <th></th>\n",
              "      <th>persentase missing</th>\n",
              "    </tr>\n",
              "  </thead>\n",
              "  <tbody>\n",
              "    <tr>\n",
              "      <th>ID</th>\n",
              "      <td>0.00</td>\n",
              "    </tr>\n",
              "    <tr>\n",
              "      <th>Jenis Kelamin</th>\n",
              "      <td>0.02</td>\n",
              "    </tr>\n",
              "    <tr>\n",
              "      <th>Umur</th>\n",
              "      <td>0.00</td>\n",
              "    </tr>\n",
              "    <tr>\n",
              "      <th>Pendapatan-per-bulan</th>\n",
              "      <td>0.00</td>\n",
              "    </tr>\n",
              "    <tr>\n",
              "      <th>skor-pengeluaran</th>\n",
              "      <td>0.00</td>\n",
              "    </tr>\n",
              "    <tr>\n",
              "      <th>Menikah</th>\n",
              "      <td>0.06</td>\n",
              "    </tr>\n",
              "    <tr>\n",
              "      <th>Kota</th>\n",
              "      <td>0.00</td>\n",
              "    </tr>\n",
              "    <tr>\n",
              "      <th>Promo</th>\n",
              "      <td>0.03</td>\n",
              "    </tr>\n",
              "    <tr>\n",
              "      <th>HariFav</th>\n",
              "      <td>0.00</td>\n",
              "    </tr>\n",
              "    <tr>\n",
              "      <th>FavFlavor</th>\n",
              "      <td>0.00</td>\n",
              "    </tr>\n",
              "  </tbody>\n",
              "</table>\n",
              "</div>\n",
              "      <button class=\"colab-df-convert\" onclick=\"convertToInteractive('df-9af11b9f-0257-448a-bf77-413ae9a61eb4')\"\n",
              "              title=\"Convert this dataframe to an interactive table.\"\n",
              "              style=\"display:none;\">\n",
              "        \n",
              "  <svg xmlns=\"http://www.w3.org/2000/svg\" height=\"24px\"viewBox=\"0 0 24 24\"\n",
              "       width=\"24px\">\n",
              "    <path d=\"M0 0h24v24H0V0z\" fill=\"none\"/>\n",
              "    <path d=\"M18.56 5.44l.94 2.06.94-2.06 2.06-.94-2.06-.94-.94-2.06-.94 2.06-2.06.94zm-11 1L8.5 8.5l.94-2.06 2.06-.94-2.06-.94L8.5 2.5l-.94 2.06-2.06.94zm10 10l.94 2.06.94-2.06 2.06-.94-2.06-.94-.94-2.06-.94 2.06-2.06.94z\"/><path d=\"M17.41 7.96l-1.37-1.37c-.4-.4-.92-.59-1.43-.59-.52 0-1.04.2-1.43.59L10.3 9.45l-7.72 7.72c-.78.78-.78 2.05 0 2.83L4 21.41c.39.39.9.59 1.41.59.51 0 1.02-.2 1.41-.59l7.78-7.78 2.81-2.81c.8-.78.8-2.07 0-2.86zM5.41 20L4 18.59l7.72-7.72 1.47 1.35L5.41 20z\"/>\n",
              "  </svg>\n",
              "      </button>\n",
              "      \n",
              "  <style>\n",
              "    .colab-df-container {\n",
              "      display:flex;\n",
              "      flex-wrap:wrap;\n",
              "      gap: 12px;\n",
              "    }\n",
              "\n",
              "    .colab-df-convert {\n",
              "      background-color: #E8F0FE;\n",
              "      border: none;\n",
              "      border-radius: 50%;\n",
              "      cursor: pointer;\n",
              "      display: none;\n",
              "      fill: #1967D2;\n",
              "      height: 32px;\n",
              "      padding: 0 0 0 0;\n",
              "      width: 32px;\n",
              "    }\n",
              "\n",
              "    .colab-df-convert:hover {\n",
              "      background-color: #E2EBFA;\n",
              "      box-shadow: 0px 1px 2px rgba(60, 64, 67, 0.3), 0px 1px 3px 1px rgba(60, 64, 67, 0.15);\n",
              "      fill: #174EA6;\n",
              "    }\n",
              "\n",
              "    [theme=dark] .colab-df-convert {\n",
              "      background-color: #3B4455;\n",
              "      fill: #D2E3FC;\n",
              "    }\n",
              "\n",
              "    [theme=dark] .colab-df-convert:hover {\n",
              "      background-color: #434B5C;\n",
              "      box-shadow: 0px 1px 3px 1px rgba(0, 0, 0, 0.15);\n",
              "      filter: drop-shadow(0px 1px 2px rgba(0, 0, 0, 0.3));\n",
              "      fill: #FFFFFF;\n",
              "    }\n",
              "  </style>\n",
              "\n",
              "      <script>\n",
              "        const buttonEl =\n",
              "          document.querySelector('#df-9af11b9f-0257-448a-bf77-413ae9a61eb4 button.colab-df-convert');\n",
              "        buttonEl.style.display =\n",
              "          google.colab.kernel.accessAllowed ? 'block' : 'none';\n",
              "\n",
              "        async function convertToInteractive(key) {\n",
              "          const element = document.querySelector('#df-9af11b9f-0257-448a-bf77-413ae9a61eb4');\n",
              "          const dataTable =\n",
              "            await google.colab.kernel.invokeFunction('convertToInteractive',\n",
              "                                                     [key], {});\n",
              "          if (!dataTable) return;\n",
              "\n",
              "          const docLinkHtml = 'Like what you see? Visit the ' +\n",
              "            '<a target=\"_blank\" href=https://colab.research.google.com/notebooks/data_table.ipynb>data table notebook</a>'\n",
              "            + ' to learn more about interactive tables.';\n",
              "          element.innerHTML = '';\n",
              "          dataTable['output_type'] = 'display_data';\n",
              "          await google.colab.output.renderOutput(dataTable, element);\n",
              "          const docLink = document.createElement('div');\n",
              "          docLink.innerHTML = docLinkHtml;\n",
              "          element.appendChild(docLink);\n",
              "        }\n",
              "      </script>\n",
              "    </div>\n",
              "  </div>\n",
              "  "
            ]
          },
          "metadata": {},
          "execution_count": 199
        }
      ],
      "source": [
        "(df.isnull().sum()/len(df)).to_frame('persentase missing')"
      ]
    },
    {
      "cell_type": "markdown",
      "source": [
        "Terlihat bahwa ketiga variabel tadi, yaitu Jenis Kelamin, Menikah, dan Promo memiliki persentase missing untuk setiap variabel."
      ],
      "metadata": {
        "id": "ZmsKYlP9gf8U"
      }
    },
    {
      "cell_type": "markdown",
      "source": [
        "Karena missing value yang terdapat pada data cukup sedikit, maka akan dilakukan penghapusan missing value menggunakan dropna.\n"
      ],
      "metadata": {
        "id": "dBMskzIAgifa"
      }
    },
    {
      "cell_type": "code",
      "execution_count": null,
      "metadata": {
        "colab": {
          "base_uri": "https://localhost:8080/"
        },
        "id": "gcc2Ooe6KStZ",
        "outputId": "b45dcd16-af59-4bf2-e47f-af72d7ce24d6"
      },
      "outputs": [
        {
          "output_type": "stream",
          "name": "stdout",
          "text": [
            "ID                      0\n",
            "Jenis Kelamin           0\n",
            "Umur                    0\n",
            "Pendapatan-per-bulan    0\n",
            "skor-pengeluaran        0\n",
            "Menikah                 0\n",
            "Kota                    0\n",
            "Promo                   0\n",
            "HariFav                 0\n",
            "FavFlavor               0\n",
            "dtype: int64 (178, 10)\n"
          ]
        }
      ],
      "source": [
        "df.dropna(inplace=True)\n",
        "print(df.isnull().sum(),df.shape)"
      ]
    },
    {
      "cell_type": "markdown",
      "source": [
        "Setelah dihapus missing valuenya, terlihat bahwa data yang kita miliki sekarang hanya 178 data dan 10 variabel."
      ],
      "metadata": {
        "id": "nvTBJQnNglSw"
      }
    },
    {
      "cell_type": "markdown",
      "source": [
        "Akan dilihat kembali data terbaru beserta jenis datanya setelah missing valuenya dihapus.\n"
      ],
      "metadata": {
        "id": "yAF8xRdJgojw"
      }
    },
    {
      "cell_type": "code",
      "execution_count": null,
      "metadata": {
        "colab": {
          "base_uri": "https://localhost:8080/"
        },
        "id": "TtKlkv58Keqg",
        "outputId": "4f848972-0edf-44f8-abd6-b1b72919a05c"
      },
      "outputs": [
        {
          "output_type": "stream",
          "name": "stdout",
          "text": [
            "ID   Jenis Kelamin  Umur  Pendapatan-per-bulan  skor-pengeluaran  Menikah  Kota       Promo  HariFav  FavFlavor\n",
            "101  Wanita         49    13114754              52                1        Jakarta    1.0    Sabtu    2            1\n",
            "254  Pria           26    19262295              55                1        Jakarta    1.0    Rabu     0            1\n",
            "229  Wanita         23    22540983              29                1        Tangerang  3.0    Selasa   8            1\n",
            "230  Pria           55    19672131              43                1        Jakarta    2.0    Minggu   5            1\n",
            "231  Wanita         44    25819672              20                1        Tangerang  3.0    Sabtu    9            1\n",
            "                                                                                                                  ..\n",
            "169  Wanita         20    409836                6                 0        Tangerang  3.0    Senin    0            1\n",
            "170  Pria           28    35245901              68                1        Depok      1.0    Senin    8            1\n",
            "171  Wanita         49    11065573              52                1        Jakarta    1.0    Minggu   0            1\n",
            "172  Wanita         49    7377049               14                1        Tangerang  3.0    Sabtu    3            1\n",
            "300  Pria           50    1639344               14                1        Tangerang  3.0    Minggu   6            1\n",
            "Length: 178, dtype: int64\n",
            "ID                        int64\n",
            "Jenis Kelamin            object\n",
            "Umur                     object\n",
            "Pendapatan-per-bulan      int64\n",
            "skor-pengeluaran          int64\n",
            "Menikah                  object\n",
            "Kota                     object\n",
            "Promo                   float64\n",
            "HariFav                  object\n",
            "FavFlavor                 int64\n",
            "dtype: object\n"
          ]
        }
      ],
      "source": [
        "print(df.value_counts())\n",
        "print(df.dtypes)"
      ]
    },
    {
      "cell_type": "markdown",
      "source": [
        "Karena setelah dilihat variabel \"Umur\" berjenis object, maka perlu diubah jenis variabel \"Umur\" menjadi float karena umur tidak bisa dimasukkan kedalam kategori objek."
      ],
      "metadata": {
        "id": "7hCYxMpDgrhR"
      }
    },
    {
      "cell_type": "code",
      "execution_count": null,
      "metadata": {
        "colab": {
          "base_uri": "https://localhost:8080/"
        },
        "id": "pzKmGRznKjR_",
        "outputId": "0aa016fb-507b-4746-f42d-1ec15f759afb"
      },
      "outputs": [
        {
          "output_type": "execute_result",
          "data": {
            "text/plain": [
              "ID                        int64\n",
              "Jenis Kelamin            object\n",
              "Umur                    float64\n",
              "Pendapatan-per-bulan      int64\n",
              "skor-pengeluaran          int64\n",
              "Menikah                  object\n",
              "Kota                     object\n",
              "Promo                   float64\n",
              "HariFav                  object\n",
              "FavFlavor                 int64\n",
              "dtype: object"
            ]
          },
          "metadata": {},
          "execution_count": 202
        }
      ],
      "source": [
        "df['Umur'] = df['Umur'].astype('float64')\n",
        "df.dtypes"
      ]
    },
    {
      "cell_type": "markdown",
      "source": [
        "Kemudian kita akan menghitung jumlah data untuk masing-masing indikator untuk variabel \"FavFlavor\", \"Promo\", dan \"Menikah\" serta kategorinya untuk variabel \"Kota\""
      ],
      "metadata": {
        "id": "kIUbOnTOhFxX"
      }
    },
    {
      "cell_type": "code",
      "execution_count": null,
      "metadata": {
        "colab": {
          "base_uri": "https://localhost:8080/"
        },
        "id": "iVvOFhSzMqci",
        "outputId": "136befff-726a-4c78-cb48-243909b90417"
      },
      "outputs": [
        {
          "output_type": "execute_result",
          "data": {
            "text/plain": [
              "0    37\n",
              "4    20\n",
              "8    19\n",
              "1    19\n",
              "3    18\n",
              "7    17\n",
              "5    17\n",
              "2    16\n",
              "6    14\n",
              "9     1\n",
              "Name: FavFlavor, dtype: int64"
            ]
          },
          "metadata": {},
          "execution_count": 203
        }
      ],
      "source": [
        "df['FavFlavor'].value_counts()"
      ]
    },
    {
      "cell_type": "markdown",
      "source": [
        "Pada data \"FavFlavor\" terdapat data yang memiliki indikator 9, karena indikator 9 diluar dari indikator yang ditentukan, maka akan diubah menjadi indikator 2, yang menunjukkan bahwa indikator 2 adalah rasa lainnya."
      ],
      "metadata": {
        "id": "GxJcKfBthW6e"
      }
    },
    {
      "cell_type": "code",
      "execution_count": null,
      "metadata": {
        "colab": {
          "base_uri": "https://localhost:8080/"
        },
        "id": "vc20InHrKjvQ",
        "outputId": "0a69a055-e229-4c13-e18a-5a94882a2f6e"
      },
      "outputs": [
        {
          "output_type": "execute_result",
          "data": {
            "text/plain": [
              "Jakarta      76\n",
              "Depok        55\n",
              "Tangerang    46\n",
              "JJakarta      1\n",
              "Name: Kota, dtype: int64"
            ]
          },
          "metadata": {},
          "execution_count": 204
        }
      ],
      "source": [
        "df['Kota'].value_counts()"
      ]
    },
    {
      "cell_type": "markdown",
      "source": [
        "Terlihat bahwa terdapat data yang memiliki kesalahan dalam penulisan Kota, sehingga perlu diganti untuk menyesuaikan dengan data yang lainnya."
      ],
      "metadata": {
        "id": "SBJ7st4MhSV6"
      }
    },
    {
      "cell_type": "code",
      "execution_count": null,
      "metadata": {
        "colab": {
          "base_uri": "https://localhost:8080/"
        },
        "id": "a9UursStNddU",
        "outputId": "f4288b0b-bf40-4666-c33c-69ec63bd09f7"
      },
      "outputs": [
        {
          "output_type": "execute_result",
          "data": {
            "text/plain": [
              "1.0    83\n",
              "3.0    44\n",
              "2.0    37\n",
              "0.0    13\n",
              "5.0     1\n",
              "Name: Promo, dtype: int64"
            ]
          },
          "metadata": {},
          "execution_count": 205
        }
      ],
      "source": [
        "df['Promo'].value_counts()"
      ]
    },
    {
      "cell_type": "markdown",
      "source": [
        "Pada data \"Promo\" terdapat data yang memiliki indikator 5 yang melebihi dari indikator yang telah ditentukan (0-3), hal ini menunjukkan bahwa data tersebut termasuk kedalam indikator 3 karena indikator 3 menandakan bahwa pelanggan tersebut sering menggunakan promo."
      ],
      "metadata": {
        "id": "ciynElQAhUey"
      }
    },
    {
      "cell_type": "code",
      "execution_count": null,
      "metadata": {
        "colab": {
          "base_uri": "https://localhost:8080/"
        },
        "id": "z08D34qzOBMG",
        "outputId": "b4486451-226d-4e6d-96ca-6d322341cd1f"
      },
      "outputs": [
        {
          "output_type": "execute_result",
          "data": {
            "text/plain": [
              "1    151\n",
              "0     26\n",
              "-      1\n",
              "Name: Menikah, dtype: int64"
            ]
          },
          "metadata": {},
          "execution_count": 206
        }
      ],
      "source": [
        "df['Menikah'].value_counts()"
      ]
    },
    {
      "cell_type": "markdown",
      "source": [
        "Pada data \"Menikah\" terdapat data yang memiliki indikator \"-\", karena indikator \"-\" diluar dari indikator yang ditentukan, maka akan diubah menjadi indikator \"1\" yang menunjukkan bahwa indikator 1 adalah Menikah. Hal ini dilakukan karena melihat modus dari data pada variabel \"Menikah\" adalah Menikah (indikator 1)."
      ],
      "metadata": {
        "id": "gzc8FggahYsW"
      }
    },
    {
      "cell_type": "code",
      "execution_count": null,
      "metadata": {
        "id": "m6FG4D7dLRiw"
      },
      "outputs": [],
      "source": [
        "df['Kota'] = df['Kota'].replace(['JJakarta'],'Jakarta')\n",
        "df['Promo'] = df['Promo'].replace([5],3)\n",
        "df['FavFlavor'] = df['FavFlavor'].replace([9],2)\n",
        "df['Menikah'] = df['Menikah'].replace(['-'],'1')\n"
      ]
    },
    {
      "cell_type": "markdown",
      "source": [
        "Kemudian kita akan menghitung kembali jumlah data untuk masing-masing indikator untuk variabel \"FavFlavor\", \"Promo\", dan \"Menikah\" serta kategorinya untuk variabel \"Kota\" yang sudah disesuaikan datanya. Akan dihitung juga untuk variabel \"Umur\" dan \"Jenis Kelamin\"."
      ],
      "metadata": {
        "id": "WWWghaZLhb54"
      }
    },
    {
      "cell_type": "code",
      "execution_count": null,
      "metadata": {
        "colab": {
          "base_uri": "https://localhost:8080/"
        },
        "id": "8RPkG7wCL_It",
        "outputId": "0fd52adc-f4b4-46fa-db0a-eff1c5b3f49d"
      },
      "outputs": [
        {
          "output_type": "stream",
          "name": "stdout",
          "text": [
            "0    37\n",
            "4    20\n",
            "8    19\n",
            "1    19\n",
            "3    18\n",
            "2    17\n",
            "7    17\n",
            "5    17\n",
            "6    14\n",
            "Name: FavFlavor, dtype: int64\n",
            "Jakarta      77\n",
            "Depok        55\n",
            "Tangerang    46\n",
            "Name: Kota, dtype: int64\n",
            "1.0    83\n",
            "3.0    45\n",
            "2.0    37\n",
            "0.0    13\n",
            "Name: Promo, dtype: int64\n",
            "1    152\n",
            "0     26\n",
            "Name: Menikah, dtype: int64\n",
            "32.0    10\n",
            "19.0     8\n",
            "35.0     7\n",
            "27.0     6\n",
            "40.0     6\n",
            "48.0     6\n",
            "23.0     6\n",
            "47.0     6\n",
            "49.0     5\n",
            "29.0     5\n",
            "50.0     5\n",
            "54.0     5\n",
            "34.0     5\n",
            "20.0     5\n",
            "30.0     5\n",
            "38.0     5\n",
            "21.0     5\n",
            "59.0     4\n",
            "43.0     4\n",
            "45.0     4\n",
            "46.0     4\n",
            "36.0     4\n",
            "24.0     4\n",
            "28.0     4\n",
            "22.0     3\n",
            "33.0     3\n",
            "31.0     3\n",
            "42.0     3\n",
            "25.0     3\n",
            "53.0     3\n",
            "18.0     3\n",
            "37.0     3\n",
            "60.0     3\n",
            "58.0     3\n",
            "44.0     3\n",
            "57.0     3\n",
            "41.0     2\n",
            "55.0     2\n",
            "39.0     2\n",
            "52.0     2\n",
            "56.0     2\n",
            "26.0     2\n",
            "51.0     1\n",
            "2.0      1\n",
            "Name: Umur, dtype: int64\n",
            "Wanita    95\n",
            "Pria      82\n",
            "-          1\n",
            "Name: Jenis Kelamin, dtype: int64\n"
          ]
        }
      ],
      "source": [
        "print(df['FavFlavor'].value_counts())\n",
        "print(df['Kota'].value_counts())\n",
        "print(df['Promo'].value_counts())\n",
        "print(df['Menikah'].value_counts())\n",
        "print(df['Umur'].value_counts())\n",
        "print(df['Jenis Kelamin'].value_counts())"
      ]
    },
    {
      "cell_type": "markdown",
      "source": [
        "Terlihat bahwa terdapat data salah satu pelanggan dengan umur 2 tahun yang dimana datanya tidak valid. Sehingga kami memutuskan untuk menghapus data tersebut menggunakan df.drop\n"
      ],
      "metadata": {
        "id": "JM0whRWwhhHP"
      }
    },
    {
      "cell_type": "code",
      "execution_count": null,
      "metadata": {
        "colab": {
          "base_uri": "https://localhost:8080/",
          "height": 162
        },
        "id": "OZQkck3NOmp5",
        "outputId": "87327c36-b6a7-475a-858c-73bf53b24983"
      },
      "outputs": [
        {
          "output_type": "execute_result",
          "data": {
            "text/plain": [
              "      ID Jenis Kelamin  Umur  Pendapatan-per-bulan  skor-pengeluaran Menikah  \\\n",
              "119  220          Pria   2.0              18032786                41       0   \n",
              "\n",
              "        Kota  Promo HariFav  FavFlavor  \n",
              "119  Jakarta    2.0   Senin          0  "
            ],
            "text/html": [
              "\n",
              "  <div id=\"df-495f7273-e84b-41ef-a51d-67a5c9a29248\">\n",
              "    <div class=\"colab-df-container\">\n",
              "      <div>\n",
              "<style scoped>\n",
              "    .dataframe tbody tr th:only-of-type {\n",
              "        vertical-align: middle;\n",
              "    }\n",
              "\n",
              "    .dataframe tbody tr th {\n",
              "        vertical-align: top;\n",
              "    }\n",
              "\n",
              "    .dataframe thead th {\n",
              "        text-align: right;\n",
              "    }\n",
              "</style>\n",
              "<table border=\"1\" class=\"dataframe\">\n",
              "  <thead>\n",
              "    <tr style=\"text-align: right;\">\n",
              "      <th></th>\n",
              "      <th>ID</th>\n",
              "      <th>Jenis Kelamin</th>\n",
              "      <th>Umur</th>\n",
              "      <th>Pendapatan-per-bulan</th>\n",
              "      <th>skor-pengeluaran</th>\n",
              "      <th>Menikah</th>\n",
              "      <th>Kota</th>\n",
              "      <th>Promo</th>\n",
              "      <th>HariFav</th>\n",
              "      <th>FavFlavor</th>\n",
              "    </tr>\n",
              "  </thead>\n",
              "  <tbody>\n",
              "    <tr>\n",
              "      <th>119</th>\n",
              "      <td>220</td>\n",
              "      <td>Pria</td>\n",
              "      <td>2.0</td>\n",
              "      <td>18032786</td>\n",
              "      <td>41</td>\n",
              "      <td>0</td>\n",
              "      <td>Jakarta</td>\n",
              "      <td>2.0</td>\n",
              "      <td>Senin</td>\n",
              "      <td>0</td>\n",
              "    </tr>\n",
              "  </tbody>\n",
              "</table>\n",
              "</div>\n",
              "      <button class=\"colab-df-convert\" onclick=\"convertToInteractive('df-495f7273-e84b-41ef-a51d-67a5c9a29248')\"\n",
              "              title=\"Convert this dataframe to an interactive table.\"\n",
              "              style=\"display:none;\">\n",
              "        \n",
              "  <svg xmlns=\"http://www.w3.org/2000/svg\" height=\"24px\"viewBox=\"0 0 24 24\"\n",
              "       width=\"24px\">\n",
              "    <path d=\"M0 0h24v24H0V0z\" fill=\"none\"/>\n",
              "    <path d=\"M18.56 5.44l.94 2.06.94-2.06 2.06-.94-2.06-.94-.94-2.06-.94 2.06-2.06.94zm-11 1L8.5 8.5l.94-2.06 2.06-.94-2.06-.94L8.5 2.5l-.94 2.06-2.06.94zm10 10l.94 2.06.94-2.06 2.06-.94-2.06-.94-.94-2.06-.94 2.06-2.06.94z\"/><path d=\"M17.41 7.96l-1.37-1.37c-.4-.4-.92-.59-1.43-.59-.52 0-1.04.2-1.43.59L10.3 9.45l-7.72 7.72c-.78.78-.78 2.05 0 2.83L4 21.41c.39.39.9.59 1.41.59.51 0 1.02-.2 1.41-.59l7.78-7.78 2.81-2.81c.8-.78.8-2.07 0-2.86zM5.41 20L4 18.59l7.72-7.72 1.47 1.35L5.41 20z\"/>\n",
              "  </svg>\n",
              "      </button>\n",
              "      \n",
              "  <style>\n",
              "    .colab-df-container {\n",
              "      display:flex;\n",
              "      flex-wrap:wrap;\n",
              "      gap: 12px;\n",
              "    }\n",
              "\n",
              "    .colab-df-convert {\n",
              "      background-color: #E8F0FE;\n",
              "      border: none;\n",
              "      border-radius: 50%;\n",
              "      cursor: pointer;\n",
              "      display: none;\n",
              "      fill: #1967D2;\n",
              "      height: 32px;\n",
              "      padding: 0 0 0 0;\n",
              "      width: 32px;\n",
              "    }\n",
              "\n",
              "    .colab-df-convert:hover {\n",
              "      background-color: #E2EBFA;\n",
              "      box-shadow: 0px 1px 2px rgba(60, 64, 67, 0.3), 0px 1px 3px 1px rgba(60, 64, 67, 0.15);\n",
              "      fill: #174EA6;\n",
              "    }\n",
              "\n",
              "    [theme=dark] .colab-df-convert {\n",
              "      background-color: #3B4455;\n",
              "      fill: #D2E3FC;\n",
              "    }\n",
              "\n",
              "    [theme=dark] .colab-df-convert:hover {\n",
              "      background-color: #434B5C;\n",
              "      box-shadow: 0px 1px 3px 1px rgba(0, 0, 0, 0.15);\n",
              "      filter: drop-shadow(0px 1px 2px rgba(0, 0, 0, 0.3));\n",
              "      fill: #FFFFFF;\n",
              "    }\n",
              "  </style>\n",
              "\n",
              "      <script>\n",
              "        const buttonEl =\n",
              "          document.querySelector('#df-495f7273-e84b-41ef-a51d-67a5c9a29248 button.colab-df-convert');\n",
              "        buttonEl.style.display =\n",
              "          google.colab.kernel.accessAllowed ? 'block' : 'none';\n",
              "\n",
              "        async function convertToInteractive(key) {\n",
              "          const element = document.querySelector('#df-495f7273-e84b-41ef-a51d-67a5c9a29248');\n",
              "          const dataTable =\n",
              "            await google.colab.kernel.invokeFunction('convertToInteractive',\n",
              "                                                     [key], {});\n",
              "          if (!dataTable) return;\n",
              "\n",
              "          const docLinkHtml = 'Like what you see? Visit the ' +\n",
              "            '<a target=\"_blank\" href=https://colab.research.google.com/notebooks/data_table.ipynb>data table notebook</a>'\n",
              "            + ' to learn more about interactive tables.';\n",
              "          element.innerHTML = '';\n",
              "          dataTable['output_type'] = 'display_data';\n",
              "          await google.colab.output.renderOutput(dataTable, element);\n",
              "          const docLink = document.createElement('div');\n",
              "          docLink.innerHTML = docLinkHtml;\n",
              "          element.appendChild(docLink);\n",
              "        }\n",
              "      </script>\n",
              "    </div>\n",
              "  </div>\n",
              "  "
            ]
          },
          "metadata": {},
          "execution_count": 209
        }
      ],
      "source": [
        "df.loc[(df['Umur']==2)]"
      ]
    },
    {
      "cell_type": "code",
      "execution_count": null,
      "metadata": {
        "id": "0MBP3bTvNstx"
      },
      "outputs": [],
      "source": [
        "df.drop(119, inplace=True)"
      ]
    },
    {
      "cell_type": "markdown",
      "source": [
        "Terlihat pula bahwa terdapat data salah satu pelanggan dengan jenis kelamin \"-\" yang dimana datanya tidak valid. Sehingga kami memutuskan untuk menghapus data tersebut menggunakan df.drop."
      ],
      "metadata": {
        "id": "spB1yLzXhjE_"
      }
    },
    {
      "cell_type": "code",
      "execution_count": null,
      "metadata": {
        "colab": {
          "base_uri": "https://localhost:8080/",
          "height": 162
        },
        "id": "q4I2nAFbSanD",
        "outputId": "47d9abbb-7c19-49e5-b534-69b733cf865d"
      },
      "outputs": [
        {
          "output_type": "execute_result",
          "data": {
            "text/plain": [
              "      ID Jenis Kelamin  Umur  Pendapatan-per-bulan  skor-pengeluaran Menikah  \\\n",
              "185  286             -  21.0                     0                81       0   \n",
              "\n",
              "      Kota  Promo HariFav  FavFlavor  \n",
              "185  Depok    1.0   Jumat          0  "
            ],
            "text/html": [
              "\n",
              "  <div id=\"df-8f6f3d1f-f38f-403a-9004-21e9489e84f7\">\n",
              "    <div class=\"colab-df-container\">\n",
              "      <div>\n",
              "<style scoped>\n",
              "    .dataframe tbody tr th:only-of-type {\n",
              "        vertical-align: middle;\n",
              "    }\n",
              "\n",
              "    .dataframe tbody tr th {\n",
              "        vertical-align: top;\n",
              "    }\n",
              "\n",
              "    .dataframe thead th {\n",
              "        text-align: right;\n",
              "    }\n",
              "</style>\n",
              "<table border=\"1\" class=\"dataframe\">\n",
              "  <thead>\n",
              "    <tr style=\"text-align: right;\">\n",
              "      <th></th>\n",
              "      <th>ID</th>\n",
              "      <th>Jenis Kelamin</th>\n",
              "      <th>Umur</th>\n",
              "      <th>Pendapatan-per-bulan</th>\n",
              "      <th>skor-pengeluaran</th>\n",
              "      <th>Menikah</th>\n",
              "      <th>Kota</th>\n",
              "      <th>Promo</th>\n",
              "      <th>HariFav</th>\n",
              "      <th>FavFlavor</th>\n",
              "    </tr>\n",
              "  </thead>\n",
              "  <tbody>\n",
              "    <tr>\n",
              "      <th>185</th>\n",
              "      <td>286</td>\n",
              "      <td>-</td>\n",
              "      <td>21.0</td>\n",
              "      <td>0</td>\n",
              "      <td>81</td>\n",
              "      <td>0</td>\n",
              "      <td>Depok</td>\n",
              "      <td>1.0</td>\n",
              "      <td>Jumat</td>\n",
              "      <td>0</td>\n",
              "    </tr>\n",
              "  </tbody>\n",
              "</table>\n",
              "</div>\n",
              "      <button class=\"colab-df-convert\" onclick=\"convertToInteractive('df-8f6f3d1f-f38f-403a-9004-21e9489e84f7')\"\n",
              "              title=\"Convert this dataframe to an interactive table.\"\n",
              "              style=\"display:none;\">\n",
              "        \n",
              "  <svg xmlns=\"http://www.w3.org/2000/svg\" height=\"24px\"viewBox=\"0 0 24 24\"\n",
              "       width=\"24px\">\n",
              "    <path d=\"M0 0h24v24H0V0z\" fill=\"none\"/>\n",
              "    <path d=\"M18.56 5.44l.94 2.06.94-2.06 2.06-.94-2.06-.94-.94-2.06-.94 2.06-2.06.94zm-11 1L8.5 8.5l.94-2.06 2.06-.94-2.06-.94L8.5 2.5l-.94 2.06-2.06.94zm10 10l.94 2.06.94-2.06 2.06-.94-2.06-.94-.94-2.06-.94 2.06-2.06.94z\"/><path d=\"M17.41 7.96l-1.37-1.37c-.4-.4-.92-.59-1.43-.59-.52 0-1.04.2-1.43.59L10.3 9.45l-7.72 7.72c-.78.78-.78 2.05 0 2.83L4 21.41c.39.39.9.59 1.41.59.51 0 1.02-.2 1.41-.59l7.78-7.78 2.81-2.81c.8-.78.8-2.07 0-2.86zM5.41 20L4 18.59l7.72-7.72 1.47 1.35L5.41 20z\"/>\n",
              "  </svg>\n",
              "      </button>\n",
              "      \n",
              "  <style>\n",
              "    .colab-df-container {\n",
              "      display:flex;\n",
              "      flex-wrap:wrap;\n",
              "      gap: 12px;\n",
              "    }\n",
              "\n",
              "    .colab-df-convert {\n",
              "      background-color: #E8F0FE;\n",
              "      border: none;\n",
              "      border-radius: 50%;\n",
              "      cursor: pointer;\n",
              "      display: none;\n",
              "      fill: #1967D2;\n",
              "      height: 32px;\n",
              "      padding: 0 0 0 0;\n",
              "      width: 32px;\n",
              "    }\n",
              "\n",
              "    .colab-df-convert:hover {\n",
              "      background-color: #E2EBFA;\n",
              "      box-shadow: 0px 1px 2px rgba(60, 64, 67, 0.3), 0px 1px 3px 1px rgba(60, 64, 67, 0.15);\n",
              "      fill: #174EA6;\n",
              "    }\n",
              "\n",
              "    [theme=dark] .colab-df-convert {\n",
              "      background-color: #3B4455;\n",
              "      fill: #D2E3FC;\n",
              "    }\n",
              "\n",
              "    [theme=dark] .colab-df-convert:hover {\n",
              "      background-color: #434B5C;\n",
              "      box-shadow: 0px 1px 3px 1px rgba(0, 0, 0, 0.15);\n",
              "      filter: drop-shadow(0px 1px 2px rgba(0, 0, 0, 0.3));\n",
              "      fill: #FFFFFF;\n",
              "    }\n",
              "  </style>\n",
              "\n",
              "      <script>\n",
              "        const buttonEl =\n",
              "          document.querySelector('#df-8f6f3d1f-f38f-403a-9004-21e9489e84f7 button.colab-df-convert');\n",
              "        buttonEl.style.display =\n",
              "          google.colab.kernel.accessAllowed ? 'block' : 'none';\n",
              "\n",
              "        async function convertToInteractive(key) {\n",
              "          const element = document.querySelector('#df-8f6f3d1f-f38f-403a-9004-21e9489e84f7');\n",
              "          const dataTable =\n",
              "            await google.colab.kernel.invokeFunction('convertToInteractive',\n",
              "                                                     [key], {});\n",
              "          if (!dataTable) return;\n",
              "\n",
              "          const docLinkHtml = 'Like what you see? Visit the ' +\n",
              "            '<a target=\"_blank\" href=https://colab.research.google.com/notebooks/data_table.ipynb>data table notebook</a>'\n",
              "            + ' to learn more about interactive tables.';\n",
              "          element.innerHTML = '';\n",
              "          dataTable['output_type'] = 'display_data';\n",
              "          await google.colab.output.renderOutput(dataTable, element);\n",
              "          const docLink = document.createElement('div');\n",
              "          docLink.innerHTML = docLinkHtml;\n",
              "          element.appendChild(docLink);\n",
              "        }\n",
              "      </script>\n",
              "    </div>\n",
              "  </div>\n",
              "  "
            ]
          },
          "metadata": {},
          "execution_count": 211
        }
      ],
      "source": [
        "df.loc[(df['Jenis Kelamin']=='-')]"
      ]
    },
    {
      "cell_type": "code",
      "execution_count": null,
      "metadata": {
        "id": "p6gPJYoMTDnN"
      },
      "outputs": [],
      "source": [
        "df.drop(185, inplace=True)"
      ]
    },
    {
      "cell_type": "markdown",
      "source": [
        "Akan dibuat Plot untuk sebaran data dengan membandingkan \"skor-pengeluaran\" dengan \"Pendapatan-per-bulan\" untuk mengetahui gambaran berapa cluster yang terbentuk dari data."
      ],
      "metadata": {
        "id": "nG2RySUZhm1Q"
      }
    },
    {
      "cell_type": "code",
      "execution_count": null,
      "metadata": {
        "colab": {
          "base_uri": "https://localhost:8080/",
          "height": 307
        },
        "id": "6j1tAHIqUHi_",
        "outputId": "27e2f09b-6597-446d-ab2a-660234ef716d"
      },
      "outputs": [
        {
          "output_type": "execute_result",
          "data": {
            "text/plain": [
              "<matplotlib.axes._subplots.AxesSubplot at 0x7fdbcf292310>"
            ]
          },
          "metadata": {},
          "execution_count": 213
        },
        {
          "output_type": "display_data",
          "data": {
            "text/plain": [
              "<Figure size 432x288 with 1 Axes>"
            ],
            "image/png": "[encoded data removed]"
          },
          "metadata": {
            "needs_background": "light"
          }
        }
      ],
      "source": [
        "df.plot.scatter('skor-pengeluaran','Pendapatan-per-bulan')"
      ]
    },
    {
      "cell_type": "code",
      "execution_count": null,
      "metadata": {
        "id": "10rhR5lOUzoz"
      },
      "outputs": [],
      "source": [
        "df.loc[df['HariFav']=='Sabtu','Tipe Hari'] = 'Weekend'\n",
        "df.loc[df['HariFav']=='Minggu','Tipe Hari'] = 'Weekend'\n",
        "\n",
        "df.loc[df['HariFav']=='Senin','Tipe Hari'] = 'Weekday'\n",
        "df.loc[df['HariFav']=='Selasa','Tipe Hari'] = 'Weekday'\n",
        "df.loc[df['HariFav']=='Rabu','Tipe Hari'] = 'Weekday'\n",
        "df.loc[df['HariFav']=='Kamis','Tipe Hari'] = 'Weekday'\n",
        "df.loc[df['HariFav']=='Jumat','Tipe Hari'] = 'Weekday'\n"
      ]
    },
    {
      "cell_type": "code",
      "execution_count": null,
      "metadata": {
        "colab": {
          "base_uri": "https://localhost:8080/"
        },
        "id": "HPvAex1GWuxC",
        "outputId": "34ba94b2-9665-4df5-df58-a813fb5d7882"
      },
      "outputs": [
        {
          "output_type": "stream",
          "name": "stdout",
          "text": [
            "<class 'pandas.core.frame.DataFrame'>\n",
            "Int64Index: 176 entries, 0 to 199\n",
            "Data columns (total 11 columns):\n",
            " #   Column                Non-Null Count  Dtype  \n",
            "---  ------                --------------  -----  \n",
            " 0   ID                    176 non-null    int64  \n",
            " 1   Jenis Kelamin         176 non-null    object \n",
            " 2   Umur                  176 non-null    float64\n",
            " 3   Pendapatan-per-bulan  176 non-null    int64  \n",
            " 4   skor-pengeluaran      176 non-null    int64  \n",
            " 5   Menikah               176 non-null    object \n",
            " 6   Kota                  176 non-null    object \n",
            " 7   Promo                 176 non-null    float64\n",
            " 8   HariFav               176 non-null    object \n",
            " 9   FavFlavor             176 non-null    int64  \n",
            " 10  Tipe Hari             176 non-null    object \n",
            "dtypes: float64(2), int64(4), object(5)\n",
            "memory usage: 16.5+ KB\n"
          ]
        }
      ],
      "source": [
        "df.info()"
      ]
    },
    {
      "cell_type": "code",
      "execution_count": null,
      "metadata": {
        "colab": {
          "base_uri": "https://localhost:8080/"
        },
        "id": "y5hreaMWWx9_",
        "outputId": "26b84405-f8d3-4559-e2ce-24bc33e2bf93"
      },
      "outputs": [
        {
          "output_type": "execute_result",
          "data": {
            "text/plain": [
              "Weekday    94\n",
              "Weekend    82\n",
              "Name: Tipe Hari, dtype: int64"
            ]
          },
          "metadata": {},
          "execution_count": 216
        }
      ],
      "source": [
        "df['Tipe Hari'].value_counts()"
      ]
    },
    {
      "cell_type": "code",
      "execution_count": null,
      "metadata": {
        "colab": {
          "base_uri": "https://localhost:8080/",
          "height": 369
        },
        "id": "_SWPKfF2aEr8",
        "outputId": "0fe2f41c-8fcb-4879-d825-b2cb5316614c"
      },
      "outputs": [
        {
          "output_type": "display_data",
          "data": {
            "text/plain": [
              "<Figure size 441.75x360 with 1 Axes>"
            ],
            "image/png": "[encoded data removed]"
          },
          "metadata": {
            "needs_background": "light"
          }
        }
      ],
      "source": [
        "import seaborn as sns\n",
        "p = sns.catplot(x=\"Jenis Kelamin\", y=\"Umur\", hue=\"Tipe Hari\", kind=\"box\", data=df)"
      ]
    },
    {
      "cell_type": "markdown",
      "source": [
        "Terlihat dari Box Plot bahwa pelanggan yang berumur kurang lebih 35 tahun kebawah membeli ice cream pada hari weekday, untuk umur 35 tahun keatas cenderung membeli ice cream pada weekend."
      ],
      "metadata": {
        "id": "D_5lh7ftpmZR"
      }
    },
    {
      "cell_type": "code",
      "source": [
        "var = df.iloc[:, [2,4]].values\n",
        "\n",
        "from sklearn.cluster import KMeans\n",
        "\n",
        "wcss = []\n",
        "\n",
        "for i in range(1, 11):\n",
        "    kmeans = KMeans(n_clusters = i, init = \"k-means++\", random_state = 30)\n",
        "    kmeans.fit(var)\n",
        "    wcss.append(kmeans.inertia_)\n",
        "\n",
        "plt.plot(range(1,11), wcss)\n",
        "plt.xlabel(\"number of cluster\")\n",
        "plt.ylabel(\"WCSS value\")\n",
        "plt.show()"
      ],
      "metadata": {
        "colab": {
          "base_uri": "https://localhost:8080/",
          "height": 279
        },
        "id": "SK--5AkQktVQ",
        "outputId": "1f5f6a88-bd59-4d63-cfff-4286b5ed5e07"
      },
      "execution_count": null,
      "outputs": [
        {
          "output_type": "display_data",
          "data": {
            "text/plain": [
              "<Figure size 432x288 with 1 Axes>"
            ],
            "image/png": "[encoded data removed]"
          },
          "metadata": {
            "needs_background": "light"
          }
        }
      ]
    },
    {
      "cell_type": "markdown",
      "source": [
        "akan dipilih jumlah cluster yaitu 6\n",
        "\n"
      ],
      "metadata": {
        "id": "rVcfvGw4mZKS"
      }
    },
    {
      "cell_type": "code",
      "source": [
        "kmeans = KMeans(init = \"k-means++\", n_clusters = 6, random_state = 30)\n",
        "cluster = kmeans.fit_predict(var)\n",
        "\n",
        "df = df.assign(cluster = cluster)\n",
        "\n",
        "plt.figure(figsize = (16,9))\n",
        "\n",
        "plt.scatter(df[\"Umur\"].array,\n",
        "            df[\"skor-pengeluaran\"].array,\n",
        "            c = df[\"cluster\"],\n",
        "\t\t\ts = 100)"
      ],
      "metadata": {
        "colab": {
          "base_uri": "https://localhost:8080/",
          "height": 411
        },
        "id": "UtRZZd01mdLY",
        "outputId": "a4ac7a65-de42-43cb-edb2-a13aa9778f09"
      },
      "execution_count": null,
      "outputs": [
        {
          "output_type": "execute_result",
          "data": {
            "text/plain": [
              "<matplotlib.collections.PathCollection at 0x7fdbcd157110>"
            ]
          },
          "metadata": {},
          "execution_count": 242
        },
        {
          "output_type": "display_data",
          "data": {
            "text/plain": [
              "<Figure size 1152x648 with 1 Axes>"
            ],
            "image/png": "[encoded data removed]"
          },
          "metadata": {
            "needs_background": "light"
          }
        }
      ]
    },
    {
      "cell_type": "markdown",
      "source": [
        "**KESIMPULAN**\n",
        "\n",
        "Data yang dimiliki perusahaan MixITup Ice cream bisa dibilang cukup baik, karena hanya terdapat sedikit missing value dan beberapa data yang tidak valid. Sehingga cukup mudah untuk melakukan Cleaning Data."
      ],
      "metadata": {
        "id": "BJ51W2YZofaV"
      }
    },
    {
      "cell_type": "markdown",
      "source": [
        "**SARAN**\n",
        "\n",
        "Setelah menganalisis data yang dimiliki perusahaan tersebut, terlihat bahwa untuk rasa favorite yang pelanggan minati adalah vanila.\n",
        "\n",
        "Kemudian Kota yang cukup terdapat banyak penjualan adalah Kota Jakarta.\n",
        "\n",
        "Kelompok kami menyarankan untuk perusahaan MixITup Ice cream apabila ingin memiliki tambahan omset atau penghasilan, dapat menjual lebih banyak Ice Cream rasa vanila serta membuka cabang lebih banyak di daerah Jakarta. Disamping itu juga, perusahaan tersebut perlu meningkatkan promosi untuk rasa-rasa ice cream selain vanila agar penjualan rasa lain juga dapat maksimal.\n",
        "\n",
        "Informasi dari boxplot berguna untuk menentukan target penjualan dengan mengadakan promo yang dapat disesuaikan pada hari weekday atau weekend."
      ],
      "metadata": {
        "id": "D2u8qV0Sp5i9"
      }
    }
  ],
  "metadata": {
    "colab": {
      "provenance": [],
      "include_colab_link": true
    },
    "kernelspec": {
      "display_name": "Python 3",
      "name": "python3"
    },
    "language_info": {
      "name": "python"
    }
  },
  "nbformat": 4,
  "nbformat_minor": 0
}