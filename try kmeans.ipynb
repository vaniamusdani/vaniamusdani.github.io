{
  "nbformat": 4,
  "nbformat_minor": 0,
  "metadata": {
    "colab": {
      "provenance": [],
      "authorship_tag": "ABX9TyOCf7AiUgYIw+XmYia+eefx",
      "include_colab_link": true
    },
    "kernelspec": {
      "name": "python3",
      "display_name": "Python 3"
    },
    "language_info": {
      "name": "python"
    }
  },
  "cells": [
    {
      "cell_type": "markdown",
      "metadata": {
        "id": "view-in-github",
        "colab_type": "text"
      },
      "source": [
        "<a href=\"https://colab.research.google.com/github/vaniamusdani/vaniamusdani.github.io/blob/main/try%20kmeans.ipynb\" target=\"_parent\"><img src=\"https://colab.research.google.com/assets/colab-badge.svg\" alt=\"Open In Colab\"/></a>"
      ]
    },
    {
      "cell_type": "code",
      "execution_count": null,
      "metadata": {
        "colab": {
          "base_uri": "https://localhost:8080/"
        },
        "id": "IcNcSIdxHqxQ",
        "outputId": "e1c58d96-bc2a-4599-d390-c4ee9523d49e"
      },
      "outputs": [
        {
          "output_type": "stream",
          "name": "stdout",
          "text": [
            "Mounted at /content/drive\n"
          ]
        }
      ],
      "source": [
        "from google.colab import drive\n",
        "drive.mount('/content/drive')"
      ]
    },
    {
      "cell_type": "code",
      "source": [
        "from google.colab import files\n",
        "uploaded = files.upload()"
      ],
      "metadata": {
        "colab": {
          "base_uri": "https://localhost:8080/",
          "height": 73
        },
        "id": "X9oRhYsVLwpd",
        "outputId": "f047de2c-9cf8-4cd9-a600-9f5e8e60e666"
      },
      "execution_count": null,
      "outputs": [
        {
          "output_type": "display_data",
          "data": {
            "text/plain": [
              "<IPython.core.display.HTML object>"
            ],
            "text/html": [
              "\n",
              "     <input type=\"file\" id=\"files-f4d5ed28-45a5-445f-b04f-fe2e311dfef7\" name=\"files[]\" multiple disabled\n",
              "        style=\"border:none\" />\n",
              "     <output id=\"result-f4d5ed28-45a5-445f-b04f-fe2e311dfef7\">\n",
              "      Upload widget is only available when the cell has been executed in the\n",
              "      current browser session. Please rerun this cell to enable.\n",
              "      </output>\n",
              "      <script>// Copyright 2017 Google LLC\n",
              "//\n",
              "// Licensed under the Apache License, Version 2.0 (the \"License\");\n",
              "// you may not use this file except in compliance with the License.\n",
              "// You may obtain a copy of the License at\n",
              "//\n",
              "//      http://www.apache.org/licenses/LICENSE-2.0\n",
              "//\n",
              "// Unless required by applicable law or agreed to in writing, software\n",
              "// distributed under the License is distributed on an \"AS IS\" BASIS,\n",
              "// WITHOUT WARRANTIES OR CONDITIONS OF ANY KIND, either express or implied.\n",
              "// See the License for the specific language governing permissions and\n",
              "// limitations under the License.\n",
              "\n",
              "/**\n",
              " * @fileoverview Helpers for google.colab Python module.\n",
              " */\n",
              "(function(scope) {\n",
              "function span(text, styleAttributes = {}) {\n",
              "  const element = document.createElement('span');\n",
              "  element.textContent = text;\n",
              "  for (const key of Object.keys(styleAttributes)) {\n",
              "    element.style[key] = styleAttributes[key];\n",
              "  }\n",
              "  return element;\n",
              "}\n",
              "\n",
              "// Max number of bytes which will be uploaded at a time.\n",
              "const MAX_PAYLOAD_SIZE = 100 * 1024;\n",
              "\n",
              "function _uploadFiles(inputId, outputId) {\n",
              "  const steps = uploadFilesStep(inputId, outputId);\n",
              "  const outputElement = document.getElementById(outputId);\n",
              "  // Cache steps on the outputElement to make it available for the next call\n",
              "  // to uploadFilesContinue from Python.\n",
              "  outputElement.steps = steps;\n",
              "\n",
              "  return _uploadFilesContinue(outputId);\n",
              "}\n",
              "\n",
              "// This is roughly an async generator (not supported in the browser yet),\n",
              "// where there are multiple asynchronous steps and the Python side is going\n",
              "// to poll for completion of each step.\n",
              "// This uses a Promise to block the python side on completion of each step,\n",
              "// then passes the result of the previous step as the input to the next step.\n",
              "function _uploadFilesContinue(outputId) {\n",
              "  const outputElement = document.getElementById(outputId);\n",
              "  const steps = outputElement.steps;\n",
              "\n",
              "  const next = steps.next(outputElement.lastPromiseValue);\n",
              "  return Promise.resolve(next.value.promise).then((value) => {\n",
              "    // Cache the last promise value to make it available to the next\n",
              "    // step of the generator.\n",
              "    outputElement.lastPromiseValue = value;\n",
              "    return next.value.response;\n",
              "  });\n",
              "}\n",
              "\n",
              "/**\n",
              " * Generator function which is called between each async step of the upload\n",
              " * process.\n",
              " * @param {string} inputId Element ID of the input file picker element.\n",
              " * @param {string} outputId Element ID of the output display.\n",
              " * @return {!Iterable<!Object>} Iterable of next steps.\n",
              " */\n",
              "function* uploadFilesStep(inputId, outputId) {\n",
              "  const inputElement = document.getElementById(inputId);\n",
              "  inputElement.disabled = false;\n",
              "\n",
              "  const outputElement = document.getElementById(outputId);\n",
              "  outputElement.innerHTML = '';\n",
              "\n",
              "  const pickedPromise = new Promise((resolve) => {\n",
              "    inputElement.addEventListener('change', (e) => {\n",
              "      resolve(e.target.files);\n",
              "    });\n",
              "  });\n",
              "\n",
              "  const cancel = document.createElement('button');\n",
              "  inputElement.parentElement.appendChild(cancel);\n",
              "  cancel.textContent = 'Cancel upload';\n",
              "  const cancelPromise = new Promise((resolve) => {\n",
              "    cancel.onclick = () => {\n",
              "      resolve(null);\n",
              "    };\n",
              "  });\n",
              "\n",
              "  // Wait for the user to pick the files.\n",
              "  const files = yield {\n",
              "    promise: Promise.race([pickedPromise, cancelPromise]),\n",
              "    response: {\n",
              "      action: 'starting',\n",
              "    }\n",
              "  };\n",
              "\n",
              "  cancel.remove();\n",
              "\n",
              "  // Disable the input element since further picks are not allowed.\n",
              "  inputElement.disabled = true;\n",
              "\n",
              "  if (!files) {\n",
              "    return {\n",
              "      response: {\n",
              "        action: 'complete',\n",
              "      }\n",
              "    };\n",
              "  }\n",
              "\n",
              "  for (const file of files) {\n",
              "    const li = document.createElement('li');\n",
              "    li.append(span(file.name, {fontWeight: 'bold'}));\n",
              "    li.append(span(\n",
              "        `(${file.type || 'n/a'}) - ${file.size} bytes, ` +\n",
              "        `last modified: ${\n",
              "            file.lastModifiedDate ? file.lastModifiedDate.toLocaleDateString() :\n",
              "                                    'n/a'} - `));\n",
              "    const percent = span('0% done');\n",
              "    li.appendChild(percent);\n",
              "\n",
              "    outputElement.appendChild(li);\n",
              "\n",
              "    const fileDataPromise = new Promise((resolve) => {\n",
              "      const reader = new FileReader();\n",
              "      reader.onload = (e) => {\n",
              "        resolve(e.target.result);\n",
              "      };\n",
              "      reader.readAsArrayBuffer(file);\n",
              "    });\n",
              "    // Wait for the data to be ready.\n",
              "    let fileData = yield {\n",
              "      promise: fileDataPromise,\n",
              "      response: {\n",
              "        action: 'continue',\n",
              "      }\n",
              "    };\n",
              "\n",
              "    // Use a chunked sending to avoid message size limits. See b/62115660.\n",
              "    let position = 0;\n",
              "    do {\n",
              "      const length = Math.min(fileData.byteLength - position, MAX_PAYLOAD_SIZE);\n",
              "      const chunk = new Uint8Array(fileData, position, length);\n",
              "      position += length;\n",
              "\n",
              "      const base64 = btoa(String.fromCharCode.apply(null, chunk));\n",
              "      yield {\n",
              "        response: {\n",
              "          action: 'append',\n",
              "          file: file.name,\n",
              "          data: base64,\n",
              "        },\n",
              "      };\n",
              "\n",
              "      let percentDone = fileData.byteLength === 0 ?\n",
              "          100 :\n",
              "          Math.round((position / fileData.byteLength) * 100);\n",
              "      percent.textContent = `${percentDone}% done`;\n",
              "\n",
              "    } while (position < fileData.byteLength);\n",
              "  }\n",
              "\n",
              "  // All done.\n",
              "  yield {\n",
              "    response: {\n",
              "      action: 'complete',\n",
              "    }\n",
              "  };\n",
              "}\n",
              "\n",
              "scope.google = scope.google || {};\n",
              "scope.google.colab = scope.google.colab || {};\n",
              "scope.google.colab._files = {\n",
              "  _uploadFiles,\n",
              "  _uploadFilesContinue,\n",
              "};\n",
              "})(self);\n",
              "</script> "
            ]
          },
          "metadata": {}
        },
        {
          "output_type": "stream",
          "name": "stdout",
          "text": [
            "Saving Hargakomoditi.csv to Hargakomoditi.csv\n"
          ]
        }
      ]
    },
    {
      "cell_type": "code",
      "source": [
        "import io\n",
        "df = pd.read_csv(io.BytesIO(uploaded['Hargakomoditi.csv']))\n",
        "print(df)"
      ],
      "metadata": {
        "colab": {
          "base_uri": "https://localhost:8080/"
        },
        "id": "82QM3QodM5KE",
        "outputId": "d0c54dee-fb5f-4a4d-dd57-1d2e3d896750"
      },
      "execution_count": null,
      "outputs": [
        {
          "output_type": "stream",
          "name": "stdout",
          "text": [
            "   Province;Rice;Chicken Meat;Beef;Chicken Egg;Onion;Chili\n",
            "0              1;10343;26600;129890;21400;32453;39543     \n",
            "1              2;11320;29883;115930;18420;30290;35710     \n",
            "2              3;13493;38490;124627;20437;27483;39393     \n",
            "3              4;12297;31527;109657;22150;28800;41237     \n",
            "4              5;13250;32717;110057;24590;26337;45167     \n",
            "5              6;11813;29713;122360;20343;27537;35253     \n",
            "6              7;10383;33023;126317;20253;36033;38530     \n",
            "7              8;10637;29810;123807;19817;37437;45587     \n",
            "8              9;11508;33569;115812;21646;37946;56850     \n",
            "9             10;11797;28053;111673;19450;30320;36887     \n",
            "10            11;11347;34370;115527;21393;35580;39010     \n",
            "11            12;10557;32170;122807;20367;33993;39273     \n",
            "12            13;11410;31387;124093;20670;38243;44310     \n",
            "13             14;9890;31107;114293;19443;32717;31633     \n",
            "14            15;10563;31067;114310;19223;32527;31703     \n",
            "15             16;9960;28837;108767;18563;31580;28250     \n",
            "16            17;10113;32937;104600;18857;32147;27390     \n",
            "17             18;8593;36303;108110;19667;29540;28740     \n",
            "18             19;11077;37350;98247;23863;35540;44242     \n",
            "19            20;13010;28023;123807;23193;36183;35043     \n",
            "20            21;11403;34467;128200;21763;36567;35167     \n",
            "21            22;13823;32430;123283;23540;38923;54090     \n",
            "22            23;13823;32430;123283;23540;38923;54090     \n",
            "23            24;12650;39107;103237;22987;41833;41013     \n",
            "24             25;9983;40870;110000;21143;40030;30903     \n",
            "25             26;9703;24313;101437;18773;32120;24867     \n",
            "26             27;9997;31430;108623;21353;41260;33473     \n",
            "27            28;10461;25932;106268;21532;37396;29261     \n",
            "28             29;11590;31007;97230;22960;42373;38450     \n",
            "29             30;9337;32473;114030;18617;35453;28960     \n",
            "30            31;12133;36430;108477;32163;47060;56277     \n",
            "31            32;12373;37350;112280;21680;52293;42487     \n",
            "32            33;13193;37723;111277;33710;53143;49693     \n",
            "33            34;14239;36890;106787;29470;51200;48823     \n"
          ]
        }
      ]
    },
    {
      "cell_type": "code",
      "source": [
        "import pandas as pd\n",
        "import matplotlib.pyplot as plt"
      ],
      "metadata": {
        "id": "I6EnXxSDPAxt"
      },
      "execution_count": null,
      "outputs": []
    },
    {
      "cell_type": "code",
      "source": [
        "url = 'https://raw.githubusercontent.com/vaniamusdani/ts/main/Hargakomoditii.csv?token=GHSAT0AAAAAACG32NIGWZ5DKXLMAYTVBQ3AZHNNM2A'\n",
        "df1 = pd.read_csv(url)\n",
        "print(df1)"
      ],
      "metadata": {
        "colab": {
          "base_uri": "https://localhost:8080/"
        },
        "id": "0R5hfbnmP4gV",
        "outputId": "2fc974d9-134f-491d-c4a2-200a1da1e217"
      },
      "execution_count": null,
      "outputs": [
        {
          "output_type": "stream",
          "name": "stdout",
          "text": [
            "   Province;Rice;Chicken Meat;Beef;Chicken Egg;Onion;Chili\n",
            "0              1;10343;26600;129890;21400;32453;39543     \n",
            "1              2;11320;29883;115930;18420;30290;35710     \n",
            "2              3;13493;38490;124627;20437;27483;39393     \n",
            "3              4;12297;31527;109657;22150;28800;41237     \n",
            "4              5;13250;32717;110057;24590;26337;45167     \n",
            "5              6;11813;29713;122360;20343;27537;35253     \n",
            "6              7;10383;33023;126317;20253;36033;38530     \n",
            "7              8;10637;29810;123807;19817;37437;45587     \n",
            "8              9;11508;33569;115812;21646;37946;56850     \n",
            "9             10;11797;28053;111673;19450;30320;36887     \n",
            "10            11;11347;34370;115527;21393;35580;39010     \n",
            "11            12;10557;32170;122807;20367;33993;39273     \n",
            "12            13;11410;31387;124093;20670;38243;44310     \n",
            "13             14;9890;31107;114293;19443;32717;31633     \n",
            "14            15;10563;31067;114310;19223;32527;31703     \n",
            "15             16;9960;28837;108767;18563;31580;28250     \n",
            "16            17;10113;32937;104600;18857;32147;27390     \n",
            "17             18;8593;36303;108110;19667;29540;28740     \n",
            "18             19;11077;37350;98247;23863;35540;44242     \n",
            "19            20;13010;28023;123807;23193;36183;35043     \n",
            "20            21;11403;34467;128200;21763;36567;35167     \n",
            "21            22;13823;32430;123283;23540;38923;54090     \n",
            "22            23;13823;32430;123283;23540;38923;54090     \n",
            "23            24;12650;39107;103237;22987;41833;41013     \n",
            "24             25;9983;40870;110000;21143;40030;30903     \n",
            "25             26;9703;24313;101437;18773;32120;24867     \n",
            "26             27;9997;31430;108623;21353;41260;33473     \n",
            "27            28;10461;25932;106268;21532;37396;29261     \n",
            "28             29;11590;31007;97230;22960;42373;38450     \n",
            "29             30;9337;32473;114030;18617;35453;28960     \n",
            "30            31;12133;36430;108477;32163;47060;56277     \n",
            "31            32;12373;37350;112280;21680;52293;42487     \n",
            "32            33;13193;37723;111277;33710;53143;49693     \n",
            "33            34;14239;36890;106787;29470;51200;48823     \n"
          ]
        }
      ]
    },
    {
      "cell_type": "code",
      "source": [
        "from google.colab import files\n",
        "uploaded = files.upload()"
      ],
      "metadata": {
        "colab": {
          "base_uri": "https://localhost:8080/",
          "height": 73
        },
        "id": "F3EOPFK1bj38",
        "outputId": "481bd878-2d4e-4807-a93a-f034104c0d11"
      },
      "execution_count": null,
      "outputs": [
        {
          "output_type": "display_data",
          "data": {
            "text/plain": [
              "<IPython.core.display.HTML object>"
            ],
            "text/html": [
              "\n",
              "     <input type=\"file\" id=\"files-2bf72746-e187-4f93-9bfc-89a3247e7b15\" name=\"files[]\" multiple disabled\n",
              "        style=\"border:none\" />\n",
              "     <output id=\"result-2bf72746-e187-4f93-9bfc-89a3247e7b15\">\n",
              "      Upload widget is only available when the cell has been executed in the\n",
              "      current browser session. Please rerun this cell to enable.\n",
              "      </output>\n",
              "      <script>// Copyright 2017 Google LLC\n",
              "//\n",
              "// Licensed under the Apache License, Version 2.0 (the \"License\");\n",
              "// you may not use this file except in compliance with the License.\n",
              "// You may obtain a copy of the License at\n",
              "//\n",
              "//      http://www.apache.org/licenses/LICENSE-2.0\n",
              "//\n",
              "// Unless required by applicable law or agreed to in writing, software\n",
              "// distributed under the License is distributed on an \"AS IS\" BASIS,\n",
              "// WITHOUT WARRANTIES OR CONDITIONS OF ANY KIND, either express or implied.\n",
              "// See the License for the specific language governing permissions and\n",
              "// limitations under the License.\n",
              "\n",
              "/**\n",
              " * @fileoverview Helpers for google.colab Python module.\n",
              " */\n",
              "(function(scope) {\n",
              "function span(text, styleAttributes = {}) {\n",
              "  const element = document.createElement('span');\n",
              "  element.textContent = text;\n",
              "  for (const key of Object.keys(styleAttributes)) {\n",
              "    element.style[key] = styleAttributes[key];\n",
              "  }\n",
              "  return element;\n",
              "}\n",
              "\n",
              "// Max number of bytes which will be uploaded at a time.\n",
              "const MAX_PAYLOAD_SIZE = 100 * 1024;\n",
              "\n",
              "function _uploadFiles(inputId, outputId) {\n",
              "  const steps = uploadFilesStep(inputId, outputId);\n",
              "  const outputElement = document.getElementById(outputId);\n",
              "  // Cache steps on the outputElement to make it available for the next call\n",
              "  // to uploadFilesContinue from Python.\n",
              "  outputElement.steps = steps;\n",
              "\n",
              "  return _uploadFilesContinue(outputId);\n",
              "}\n",
              "\n",
              "// This is roughly an async generator (not supported in the browser yet),\n",
              "// where there are multiple asynchronous steps and the Python side is going\n",
              "// to poll for completion of each step.\n",
              "// This uses a Promise to block the python side on completion of each step,\n",
              "// then passes the result of the previous step as the input to the next step.\n",
              "function _uploadFilesContinue(outputId) {\n",
              "  const outputElement = document.getElementById(outputId);\n",
              "  const steps = outputElement.steps;\n",
              "\n",
              "  const next = steps.next(outputElement.lastPromiseValue);\n",
              "  return Promise.resolve(next.value.promise).then((value) => {\n",
              "    // Cache the last promise value to make it available to the next\n",
              "    // step of the generator.\n",
              "    outputElement.lastPromiseValue = value;\n",
              "    return next.value.response;\n",
              "  });\n",
              "}\n",
              "\n",
              "/**\n",
              " * Generator function which is called between each async step of the upload\n",
              " * process.\n",
              " * @param {string} inputId Element ID of the input file picker element.\n",
              " * @param {string} outputId Element ID of the output display.\n",
              " * @return {!Iterable<!Object>} Iterable of next steps.\n",
              " */\n",
              "function* uploadFilesStep(inputId, outputId) {\n",
              "  const inputElement = document.getElementById(inputId);\n",
              "  inputElement.disabled = false;\n",
              "\n",
              "  const outputElement = document.getElementById(outputId);\n",
              "  outputElement.innerHTML = '';\n",
              "\n",
              "  const pickedPromise = new Promise((resolve) => {\n",
              "    inputElement.addEventListener('change', (e) => {\n",
              "      resolve(e.target.files);\n",
              "    });\n",
              "  });\n",
              "\n",
              "  const cancel = document.createElement('button');\n",
              "  inputElement.parentElement.appendChild(cancel);\n",
              "  cancel.textContent = 'Cancel upload';\n",
              "  const cancelPromise = new Promise((resolve) => {\n",
              "    cancel.onclick = () => {\n",
              "      resolve(null);\n",
              "    };\n",
              "  });\n",
              "\n",
              "  // Wait for the user to pick the files.\n",
              "  const files = yield {\n",
              "    promise: Promise.race([pickedPromise, cancelPromise]),\n",
              "    response: {\n",
              "      action: 'starting',\n",
              "    }\n",
              "  };\n",
              "\n",
              "  cancel.remove();\n",
              "\n",
              "  // Disable the input element since further picks are not allowed.\n",
              "  inputElement.disabled = true;\n",
              "\n",
              "  if (!files) {\n",
              "    return {\n",
              "      response: {\n",
              "        action: 'complete',\n",
              "      }\n",
              "    };\n",
              "  }\n",
              "\n",
              "  for (const file of files) {\n",
              "    const li = document.createElement('li');\n",
              "    li.append(span(file.name, {fontWeight: 'bold'}));\n",
              "    li.append(span(\n",
              "        `(${file.type || 'n/a'}) - ${file.size} bytes, ` +\n",
              "        `last modified: ${\n",
              "            file.lastModifiedDate ? file.lastModifiedDate.toLocaleDateString() :\n",
              "                                    'n/a'} - `));\n",
              "    const percent = span('0% done');\n",
              "    li.appendChild(percent);\n",
              "\n",
              "    outputElement.appendChild(li);\n",
              "\n",
              "    const fileDataPromise = new Promise((resolve) => {\n",
              "      const reader = new FileReader();\n",
              "      reader.onload = (e) => {\n",
              "        resolve(e.target.result);\n",
              "      };\n",
              "      reader.readAsArrayBuffer(file);\n",
              "    });\n",
              "    // Wait for the data to be ready.\n",
              "    let fileData = yield {\n",
              "      promise: fileDataPromise,\n",
              "      response: {\n",
              "        action: 'continue',\n",
              "      }\n",
              "    };\n",
              "\n",
              "    // Use a chunked sending to avoid message size limits. See b/62115660.\n",
              "    let position = 0;\n",
              "    do {\n",
              "      const length = Math.min(fileData.byteLength - position, MAX_PAYLOAD_SIZE);\n",
              "      const chunk = new Uint8Array(fileData, position, length);\n",
              "      position += length;\n",
              "\n",
              "      const base64 = btoa(String.fromCharCode.apply(null, chunk));\n",
              "      yield {\n",
              "        response: {\n",
              "          action: 'append',\n",
              "          file: file.name,\n",
              "          data: base64,\n",
              "        },\n",
              "      };\n",
              "\n",
              "      let percentDone = fileData.byteLength === 0 ?\n",
              "          100 :\n",
              "          Math.round((position / fileData.byteLength) * 100);\n",
              "      percent.textContent = `${percentDone}% done`;\n",
              "\n",
              "    } while (position < fileData.byteLength);\n",
              "  }\n",
              "\n",
              "  // All done.\n",
              "  yield {\n",
              "    response: {\n",
              "      action: 'complete',\n",
              "    }\n",
              "  };\n",
              "}\n",
              "\n",
              "scope.google = scope.google || {};\n",
              "scope.google.colab = scope.google.colab || {};\n",
              "scope.google.colab._files = {\n",
              "  _uploadFiles,\n",
              "  _uploadFilesContinue,\n",
              "};\n",
              "})(self);\n",
              "</script> "
            ]
          },
          "metadata": {}
        },
        {
          "output_type": "stream",
          "name": "stdout",
          "text": [
            "Saving Hargakomoditi.xlsx to Hargakomoditi.xlsx\n"
          ]
        }
      ]
    },
    {
      "cell_type": "code",
      "source": [
        "import io\n",
        "dfr = pd.read_excel(io.BytesIO(uploaded['Hargakomoditi.xlsx']))\n",
        "print(dfr)"
      ],
      "metadata": {
        "colab": {
          "base_uri": "https://localhost:8080/"
        },
        "id": "ZvmqU_STbrJ3",
        "outputId": "be0f481a-e11b-4141-bb27-f4f3a0d7cdf0"
      },
      "execution_count": null,
      "outputs": [
        {
          "output_type": "stream",
          "name": "stdout",
          "text": [
            "    Province   Rice  Chicken Meat    Beef  Chicken Egg  Onion  Chili\n",
            "0          1  10343         26600  129890        21400  32453  39543\n",
            "1          2  11320         29883  115930        18420  30290  35710\n",
            "2          3  13493         38490  124627        20437  27483  39393\n",
            "3          4  12297         31527  109657        22150  28800  41237\n",
            "4          5  13250         32717  110057        24590  26337  45167\n",
            "5          6  11813         29713  122360        20343  27537  35253\n",
            "6          7  10383         33023  126317        20253  36033  38530\n",
            "7          8  10637         29810  123807        19817  37437  45587\n",
            "8          9  11508         33569  115812        21646  37946  56850\n",
            "9         10  11797         28053  111673        19450  30320  36887\n",
            "10        11  11347         34370  115527        21393  35580  39010\n",
            "11        12  10557         32170  122807        20367  33993  39273\n",
            "12        13  11410         31387  124093        20670  38243  44310\n",
            "13        14   9890         31107  114293        19443  32717  31633\n",
            "14        15  10563         31067  114310        19223  32527  31703\n",
            "15        16   9960         28837  108767        18563  31580  28250\n",
            "16        17  10113         32937  104600        18857  32147  27390\n",
            "17        18   8593         36303  108110        19667  29540  28740\n",
            "18        19  11077         37350   98247        23863  35540  44242\n",
            "19        20  13010         28023  123807        23193  36183  35043\n",
            "20        21  11403         34467  128200        21763  36567  35167\n",
            "21        22  13823         32430  123283        23540  38923  54090\n",
            "22        23  13823         32430  123283        23540  38923  54090\n",
            "23        24  12650         39107  103237        22987  41833  41013\n",
            "24        25   9983         40870  110000        21143  40030  30903\n",
            "25        26   9703         24313  101437        18773  32120  24867\n",
            "26        27   9997         31430  108623        21353  41260  33473\n",
            "27        28  10461         25932  106268        21532  37396  29261\n",
            "28        29  11590         31007   97230        22960  42373  38450\n",
            "29        30   9337         32473  114030        18617  35453  28960\n",
            "30        31  12133         36430  108477        32163  47060  56277\n",
            "31        32  12373         37350  112280        21680  52293  42487\n",
            "32        33  13193         37723  111277        33710  53143  49693\n",
            "33        34  14239         36890  106787        29470  51200  48823\n"
          ]
        }
      ]
    },
    {
      "cell_type": "code",
      "source": [
        "dfr1 = dfr[['Province', 'Rice']]\n",
        "print(dfr1)"
      ],
      "metadata": {
        "id": "0vSFsmg8QUno",
        "colab": {
          "base_uri": "https://localhost:8080/"
        },
        "outputId": "0fe33e82-1dfe-4aff-8498-9710736938a6"
      },
      "execution_count": null,
      "outputs": [
        {
          "output_type": "stream",
          "name": "stdout",
          "text": [
            "    Province   Rice\n",
            "0          1  10343\n",
            "1          2  11320\n",
            "2          3  13493\n",
            "3          4  12297\n",
            "4          5  13250\n",
            "5          6  11813\n",
            "6          7  10383\n",
            "7          8  10637\n",
            "8          9  11508\n",
            "9         10  11797\n",
            "10        11  11347\n",
            "11        12  10557\n",
            "12        13  11410\n",
            "13        14   9890\n",
            "14        15  10563\n",
            "15        16   9960\n",
            "16        17  10113\n",
            "17        18   8593\n",
            "18        19  11077\n",
            "19        20  13010\n",
            "20        21  11403\n",
            "21        22  13823\n",
            "22        23  13823\n",
            "23        24  12650\n",
            "24        25   9983\n",
            "25        26   9703\n",
            "26        27   9997\n",
            "27        28  10461\n",
            "28        29  11590\n",
            "29        30   9337\n",
            "30        31  12133\n",
            "31        32  12373\n",
            "32        33  13193\n",
            "33        34  14239\n"
          ]
        }
      ]
    },
    {
      "cell_type": "code",
      "source": [
        "plt.scatter(dfr1['Province'], dfr1['Rice'])\n",
        "plt.xlabel('Province Number')\n",
        "plt.ylabel('Average Price Rice')"
      ],
      "metadata": {
        "colab": {
          "base_uri": "https://localhost:8080/",
          "height": 466
        },
        "id": "rLwTftXmaIAk",
        "outputId": "a10512c6-74d1-4499-c312-9e5ad14a5956"
      },
      "execution_count": null,
      "outputs": [
        {
          "output_type": "execute_result",
          "data": {
            "text/plain": [
              "Text(0, 0.5, 'Average Price Rice')"
            ]
          },
          "metadata": {},
          "execution_count": 27
        },
        {
          "output_type": "display_data",
          "data": {
            "text/plain": [
              "<Figure size 640x480 with 1 Axes>"
            ],
            "image/png": "[encoded data removed]"
          },
          "metadata": {}
        }
      ]
    },
    {
      "cell_type": "code",
      "source": [
        "dfr1.dtypes"
      ],
      "metadata": {
        "id": "36npSWS1Y9ab",
        "colab": {
          "base_uri": "https://localhost:8080/"
        },
        "outputId": "7774618a-28f6-4f54-9593-ce5c04cc9e67"
      },
      "execution_count": null,
      "outputs": [
        {
          "output_type": "execute_result",
          "data": {
            "text/plain": [
              "Province    int64\n",
              "Rice        int64\n",
              "dtype: object"
            ]
          },
          "metadata": {},
          "execution_count": 28
        }
      ]
    },
    {
      "cell_type": "code",
      "source": [
        "from sklearn.cluster import KMeans\n",
        "kmeans = KMeans(n_clusters=2,random_state=0)\n",
        "kmeans.fit(dfr1)\n",
        "y_kmeans = kmeans.predict(dfr1)\n",
        "print(y_kmeans)"
      ],
      "metadata": {
        "id": "B69r1-cdZE5e",
        "colab": {
          "base_uri": "https://localhost:8080/",
          "height": 427
        },
        "outputId": "7fbda83a-5fd4-450b-ca25-18c361e208af"
      },
      "execution_count": null,
      "outputs": [
        {
          "output_type": "stream",
          "name": "stderr",
          "text": [
            "/usr/local/lib/python3.10/dist-packages/sklearn/cluster/_kmeans.py:870: FutureWarning: The default value of `n_init` will change from 10 to 'auto' in 1.4. Set the value of `n_init` explicitly to suppress the warning\n",
            "  warnings.warn(\n"
          ]
        },
        {
          "output_type": "error",
          "ename": "NotFittedError",
          "evalue": "ignored",
          "traceback": [
            "\u001b[0;31m---------------------------------------------------------------------------\u001b[0m",
            "\u001b[0;31mNotFittedError\u001b[0m                            Traceback (most recent call last)",
            "\u001b[0;32m<ipython-input-38-cafa04928b25>\u001b[0m in \u001b[0;36m<cell line: 4>\u001b[0;34m()\u001b[0m\n\u001b[1;32m      2\u001b[0m \u001b[0mkmeans2\u001b[0m \u001b[0;34m=\u001b[0m \u001b[0mKMeans\u001b[0m\u001b[0;34m(\u001b[0m\u001b[0mn_clusters\u001b[0m\u001b[0;34m=\u001b[0m\u001b[0;36m2\u001b[0m\u001b[0;34m,\u001b[0m\u001b[0mrandom_state\u001b[0m\u001b[0;34m=\u001b[0m\u001b[0;36m0\u001b[0m\u001b[0;34m)\u001b[0m\u001b[0;34m\u001b[0m\u001b[0;34m\u001b[0m\u001b[0m\n\u001b[1;32m      3\u001b[0m \u001b[0mkmeans\u001b[0m\u001b[0;34m.\u001b[0m\u001b[0mfit\u001b[0m\u001b[0;34m(\u001b[0m\u001b[0mdfr1\u001b[0m\u001b[0;34m)\u001b[0m\u001b[0;34m\u001b[0m\u001b[0;34m\u001b[0m\u001b[0m\n\u001b[0;32m----> 4\u001b[0;31m \u001b[0my_kmeans2\u001b[0m \u001b[0;34m=\u001b[0m \u001b[0mkmeans2\u001b[0m\u001b[0;34m.\u001b[0m\u001b[0mpredict\u001b[0m\u001b[0;34m(\u001b[0m\u001b[0mdfr1\u001b[0m\u001b[0;34m)\u001b[0m\u001b[0;34m\u001b[0m\u001b[0;34m\u001b[0m\u001b[0m\n\u001b[0m\u001b[1;32m      5\u001b[0m \u001b[0mprint\u001b[0m\u001b[0;34m(\u001b[0m\u001b[0my_kmeans2\u001b[0m\u001b[0;34m)\u001b[0m\u001b[0;34m\u001b[0m\u001b[0;34m\u001b[0m\u001b[0m\n",
            "\u001b[0;32m/usr/local/lib/python3.10/dist-packages/sklearn/cluster/_kmeans.py\u001b[0m in \u001b[0;36mpredict\u001b[0;34m(self, X, sample_weight)\u001b[0m\n\u001b[1;32m   1054\u001b[0m             \u001b[0mIndex\u001b[0m \u001b[0mof\u001b[0m \u001b[0mthe\u001b[0m \u001b[0mcluster\u001b[0m \u001b[0meach\u001b[0m \u001b[0msample\u001b[0m \u001b[0mbelongs\u001b[0m \u001b[0mto\u001b[0m\u001b[0;34m.\u001b[0m\u001b[0;34m\u001b[0m\u001b[0;34m\u001b[0m\u001b[0m\n\u001b[1;32m   1055\u001b[0m         \"\"\"\n\u001b[0;32m-> 1056\u001b[0;31m         \u001b[0mcheck_is_fitted\u001b[0m\u001b[0;34m(\u001b[0m\u001b[0mself\u001b[0m\u001b[0;34m)\u001b[0m\u001b[0;34m\u001b[0m\u001b[0;34m\u001b[0m\u001b[0m\n\u001b[0m\u001b[1;32m   1057\u001b[0m \u001b[0;34m\u001b[0m\u001b[0m\n\u001b[1;32m   1058\u001b[0m         \u001b[0mX\u001b[0m \u001b[0;34m=\u001b[0m \u001b[0mself\u001b[0m\u001b[0;34m.\u001b[0m\u001b[0m_check_test_data\u001b[0m\u001b[0;34m(\u001b[0m\u001b[0mX\u001b[0m\u001b[0;34m)\u001b[0m\u001b[0;34m\u001b[0m\u001b[0;34m\u001b[0m\u001b[0m\n",
            "\u001b[0;32m/usr/local/lib/python3.10/dist-packages/sklearn/utils/validation.py\u001b[0m in \u001b[0;36mcheck_is_fitted\u001b[0;34m(estimator, attributes, msg, all_or_any)\u001b[0m\n\u001b[1;32m   1388\u001b[0m \u001b[0;34m\u001b[0m\u001b[0m\n\u001b[1;32m   1389\u001b[0m     \u001b[0;32mif\u001b[0m \u001b[0;32mnot\u001b[0m \u001b[0mfitted\u001b[0m\u001b[0;34m:\u001b[0m\u001b[0;34m\u001b[0m\u001b[0;34m\u001b[0m\u001b[0m\n\u001b[0;32m-> 1390\u001b[0;31m         \u001b[0;32mraise\u001b[0m \u001b[0mNotFittedError\u001b[0m\u001b[0;34m(\u001b[0m\u001b[0mmsg\u001b[0m \u001b[0;34m%\u001b[0m \u001b[0;34m{\u001b[0m\u001b[0;34m\"name\"\u001b[0m\u001b[0;34m:\u001b[0m \u001b[0mtype\u001b[0m\u001b[0;34m(\u001b[0m\u001b[0mestimator\u001b[0m\u001b[0;34m)\u001b[0m\u001b[0;34m.\u001b[0m\u001b[0m__name__\u001b[0m\u001b[0;34m}\u001b[0m\u001b[0;34m)\u001b[0m\u001b[0;34m\u001b[0m\u001b[0;34m\u001b[0m\u001b[0m\n\u001b[0m\u001b[1;32m   1391\u001b[0m \u001b[0;34m\u001b[0m\u001b[0m\n\u001b[1;32m   1392\u001b[0m \u001b[0;34m\u001b[0m\u001b[0m\n",
            "\u001b[0;31mNotFittedError\u001b[0m: This KMeans instance is not fitted yet. Call 'fit' with appropriate arguments before using this estimator."
          ]
        }
      ]
    },
    {
      "cell_type": "code",
      "source": [
        "plt.scatter(dfr1['Province'], dfr1['Rice'], c=y_kmeans, s=50, cmap='viridis')\n",
        "centers=kmeans.cluster_centers_\n",
        "plt.scatter(centers[:,0], centers[:,1], c='black', s=200, alpha=0.5)\n",
        "plt.xlabel('Province Number')\n",
        "plt.ylabel('Average Price Rice')"
      ],
      "metadata": {
        "id": "eQz03o_VZHQC",
        "colab": {
          "base_uri": "https://localhost:8080/",
          "height": 466
        },
        "outputId": "aced1cb7-7604-488c-809d-53776a8d010f"
      },
      "execution_count": null,
      "outputs": [
        {
          "output_type": "execute_result",
          "data": {
            "text/plain": [
              "Text(0, 0.5, 'Average Price Rice')"
            ]
          },
          "metadata": {},
          "execution_count": 30
        },
        {
          "output_type": "display_data",
          "data": {
            "text/plain": [
              "<Figure size 640x480 with 1 Axes>"
            ],
            "image/png": "[encoded data removed]"
          },
          "metadata": {}
        }
      ]
    },
    {
      "cell_type": "code",
      "source": [
        "dfr2=dfr[['Chicken Meat', 'Beef']]\n",
        "print(dfr2)\n",
        "plt.scatter(dfr2['Chicken Meat'], dfr2['Beef'])\n",
        "plt.xlabel('Average Price Meat')\n",
        "plt.ylabel('Average Price Beef')"
      ],
      "metadata": {
        "colab": {
          "base_uri": "https://localhost:8080/",
          "height": 1000
        },
        "id": "-fqBjoeAccnO",
        "outputId": "2339ade8-8c16-4e59-94d9-e5cb0d7d0d5c"
      },
      "execution_count": null,
      "outputs": [
        {
          "output_type": "stream",
          "name": "stdout",
          "text": [
            "    Chicken Meat    Beef\n",
            "0          26600  129890\n",
            "1          29883  115930\n",
            "2          38490  124627\n",
            "3          31527  109657\n",
            "4          32717  110057\n",
            "5          29713  122360\n",
            "6          33023  126317\n",
            "7          29810  123807\n",
            "8          33569  115812\n",
            "9          28053  111673\n",
            "10         34370  115527\n",
            "11         32170  122807\n",
            "12         31387  124093\n",
            "13         31107  114293\n",
            "14         31067  114310\n",
            "15         28837  108767\n",
            "16         32937  104600\n",
            "17         36303  108110\n",
            "18         37350   98247\n",
            "19         28023  123807\n",
            "20         34467  128200\n",
            "21         32430  123283\n",
            "22         32430  123283\n",
            "23         39107  103237\n",
            "24         40870  110000\n",
            "25         24313  101437\n",
            "26         31430  108623\n",
            "27         25932  106268\n",
            "28         31007   97230\n",
            "29         32473  114030\n",
            "30         36430  108477\n",
            "31         37350  112280\n",
            "32         37723  111277\n",
            "33         36890  106787\n"
          ]
        },
        {
          "output_type": "execute_result",
          "data": {
            "text/plain": [
              "Text(0, 0.5, 'Average Price Beef')"
            ]
          },
          "metadata": {},
          "execution_count": 31
        },
        {
          "output_type": "display_data",
          "data": {
            "text/plain": [
              "<Figure size 640x480 with 1 Axes>"
            ],
            "image/png": "[encoded data removed]"
          },
          "metadata": {}
        }
      ]
    },
    {
      "cell_type": "code",
      "source": [
        "dfr2.dtypes"
      ],
      "metadata": {
        "colab": {
          "base_uri": "https://localhost:8080/"
        },
        "id": "d1FF9NEtdjRN",
        "outputId": "96852c32-cf36-49b8-9056-6e02e6ae903f"
      },
      "execution_count": null,
      "outputs": [
        {
          "output_type": "execute_result",
          "data": {
            "text/plain": [
              "Chicken Meat    int64\n",
              "Beef            int64\n",
              "dtype: object"
            ]
          },
          "metadata": {},
          "execution_count": 32
        }
      ]
    },
    {
      "cell_type": "code",
      "source": [
        "from sklearn.cluster import KMeans\n",
        "kmeans=KMeans(n_clusters=2, random_state=0)\n",
        "kmeans.fit(dfr2)\n",
        "y_kmeans=kmeans.predict(dfr2)\n",
        "print(y_kmeans)"
      ],
      "metadata": {
        "colab": {
          "base_uri": "https://localhost:8080/"
        },
        "id": "bKF3GlardnO0",
        "outputId": "f2f3dcb7-f54f-439d-cb53-55a321da275f"
      },
      "execution_count": null,
      "outputs": [
        {
          "output_type": "stream",
          "name": "stderr",
          "text": [
            "/usr/local/lib/python3.10/dist-packages/sklearn/cluster/_kmeans.py:870: FutureWarning: The default value of `n_init` will change from 10 to 'auto' in 1.4. Set the value of `n_init` explicitly to suppress the warning\n",
            "  warnings.warn(\n"
          ]
        },
        {
          "output_type": "stream",
          "name": "stdout",
          "text": [
            "[0 1 0 1 1 0 0 0 1 1 1 0 0 1 1 1 1 1 1 0 0 0 0 1 1 1 1 1 1 1 1 1 1 1]\n"
          ]
        }
      ]
    },
    {
      "cell_type": "code",
      "source": [
        "plt.scatter(dfr2['Chicken Meat'], dfr2['Beef'], c=y_kmeans, s=50, cmap='viridis')\n",
        "centers=kmeans.cluster_centers_\n",
        "plt.scatter(centers[:,0], centers[:,1], c='black', s=200, alpha=0.5)\n",
        "plt.xlabel('Average Price Chicken Meat')\n",
        "plt.ylabel('Average Price Beef')"
      ],
      "metadata": {
        "colab": {
          "base_uri": "https://localhost:8080/",
          "height": 466
        },
        "id": "IXAg1QYkeCEh",
        "outputId": "f473e76d-b06e-4995-e91b-93211ba07e5c"
      },
      "execution_count": null,
      "outputs": [
        {
          "output_type": "execute_result",
          "data": {
            "text/plain": [
              "Text(0, 0.5, 'Average Price Beef')"
            ]
          },
          "metadata": {},
          "execution_count": 35
        },
        {
          "output_type": "display_data",
          "data": {
            "text/plain": [
              "<Figure size 640x480 with 1 Axes>"
            ],
            "image/png": "[encoded data removed]"
          },
          "metadata": {}
        }
      ]
    },
    {
      "cell_type": "code",
      "source": [
        "from sklearn.cluster import KMeans\n",
        "kmeans=KMeans(n_clusters=3, random_state=0)\n",
        "kmeans.fit(dfr2)\n",
        "y_kmeans=kmeans.predict(dfr2)\n",
        "print(y_kmeans)"
      ],
      "metadata": {
        "colab": {
          "base_uri": "https://localhost:8080/"
        },
        "id": "ORTQJKaVeDE6",
        "outputId": "c90f4702-b299-41fd-8f87-96e101551bef"
      },
      "execution_count": null,
      "outputs": [
        {
          "output_type": "stream",
          "name": "stdout",
          "text": [
            "[0 2 0 2 2 0 0 0 2 2 2 0 0 2 2 2 1 2 1 0 0 0 0 1 2 1 2 1 1 2 2 2 2 2]\n"
          ]
        },
        {
          "output_type": "stream",
          "name": "stderr",
          "text": [
            "/usr/local/lib/python3.10/dist-packages/sklearn/cluster/_kmeans.py:870: FutureWarning: The default value of `n_init` will change from 10 to 'auto' in 1.4. Set the value of `n_init` explicitly to suppress the warning\n",
            "  warnings.warn(\n"
          ]
        }
      ]
    },
    {
      "cell_type": "code",
      "source": [
        "plt.scatter(dfr2['Chicken Meat'], dfr2['Beef'], c=y_kmeans, s=50, cmap='viridis')\n",
        "centers=kmeans.cluster_centers_\n",
        "plt.scatter(centers[:,0], centers[:,1], c='black', s=200, alpha=0.5)\n",
        "plt.xlabel('Average Price Chicken Meat')\n",
        "plt.ylabel('Average Price Beef')"
      ],
      "metadata": {
        "colab": {
          "base_uri": "https://localhost:8080/",
          "height": 466
        },
        "id": "dYRbNg4peeKw",
        "outputId": "ae8e3d78-5653-411b-8811-f85b84714863"
      },
      "execution_count": null,
      "outputs": [
        {
          "output_type": "execute_result",
          "data": {
            "text/plain": [
              "Text(0, 0.5, 'Average Price Beef')"
            ]
          },
          "metadata": {},
          "execution_count": 40
        },
        {
          "output_type": "display_data",
          "data": {
            "text/plain": [
              "<Figure size 640x480 with 1 Axes>"
            ],
            "image/png": "[encoded data removed]"
          },
          "metadata": {}
        }
      ]
    },
    {
      "cell_type": "code",
      "source": [
        "from sklearn.cluster import KMeans\n",
        "kmeans=KMeans(n_clusters=4, random_state=0)\n",
        "kmeans.fit(dfr2)\n",
        "y_kmeans=kmeans.predict(dfr2)\n",
        "print(y_kmeans)"
      ],
      "metadata": {
        "colab": {
          "base_uri": "https://localhost:8080/"
        },
        "id": "YIEuRgioeTQc",
        "outputId": "7ff709d6-dce4-437f-c67c-217eb509b94d"
      },
      "execution_count": null,
      "outputs": [
        {
          "output_type": "stream",
          "name": "stdout",
          "text": [
            "[0 2 0 2 2 0 0 0 2 2 2 0 0 2 2 2 1 3 1 0 0 0 0 3 3 1 2 1 1 2 3 3 3 3]\n"
          ]
        },
        {
          "output_type": "stream",
          "name": "stderr",
          "text": [
            "/usr/local/lib/python3.10/dist-packages/sklearn/cluster/_kmeans.py:870: FutureWarning: The default value of `n_init` will change from 10 to 'auto' in 1.4. Set the value of `n_init` explicitly to suppress the warning\n",
            "  warnings.warn(\n"
          ]
        }
      ]
    },
    {
      "cell_type": "code",
      "source": [
        "plt.scatter(dfr2['Chicken Meat'], dfr2['Beef'], c=y_kmeans, s=50, cmap='viridis')\n",
        "centers=kmeans.cluster_centers_\n",
        "plt.scatter(centers[:,0], centers[:,1], c='black', s=200, alpha=0.5)\n",
        "plt.xlabel('Average Price Chicken Meat')\n",
        "plt.ylabel('Average Price Beef')"
      ],
      "metadata": {
        "colab": {
          "base_uri": "https://localhost:8080/",
          "height": 466
        },
        "id": "3o9YCdsbeVVQ",
        "outputId": "876adb0c-2f12-4edd-fb84-28e94ff07574"
      },
      "execution_count": null,
      "outputs": [
        {
          "output_type": "execute_result",
          "data": {
            "text/plain": [
              "Text(0, 0.5, 'Average Price Beef')"
            ]
          },
          "metadata": {},
          "execution_count": 43
        },
        {
          "output_type": "display_data",
          "data": {
            "text/plain": [
              "<Figure size 640x480 with 1 Axes>"
            ],
            "image/png": "[encoded data removed]"
          },
          "metadata": {}
        }
      ]
    },
    {
      "cell_type": "code",
      "source": [
        "print(dfr)"
      ],
      "metadata": {
        "colab": {
          "base_uri": "https://localhost:8080/"
        },
        "id": "gOeFEB-9fTnT",
        "outputId": "e48d20d0-1c83-44cf-fd41-9e40497c8b4a"
      },
      "execution_count": null,
      "outputs": [
        {
          "output_type": "stream",
          "name": "stdout",
          "text": [
            "    Province   Rice  Chicken Meat    Beef  Chicken Egg  Onion  Chili\n",
            "0          1  10343         26600  129890        21400  32453  39543\n",
            "1          2  11320         29883  115930        18420  30290  35710\n",
            "2          3  13493         38490  124627        20437  27483  39393\n",
            "3          4  12297         31527  109657        22150  28800  41237\n",
            "4          5  13250         32717  110057        24590  26337  45167\n",
            "5          6  11813         29713  122360        20343  27537  35253\n",
            "6          7  10383         33023  126317        20253  36033  38530\n",
            "7          8  10637         29810  123807        19817  37437  45587\n",
            "8          9  11508         33569  115812        21646  37946  56850\n",
            "9         10  11797         28053  111673        19450  30320  36887\n",
            "10        11  11347         34370  115527        21393  35580  39010\n",
            "11        12  10557         32170  122807        20367  33993  39273\n",
            "12        13  11410         31387  124093        20670  38243  44310\n",
            "13        14   9890         31107  114293        19443  32717  31633\n",
            "14        15  10563         31067  114310        19223  32527  31703\n",
            "15        16   9960         28837  108767        18563  31580  28250\n",
            "16        17  10113         32937  104600        18857  32147  27390\n",
            "17        18   8593         36303  108110        19667  29540  28740\n",
            "18        19  11077         37350   98247        23863  35540  44242\n",
            "19        20  13010         28023  123807        23193  36183  35043\n",
            "20        21  11403         34467  128200        21763  36567  35167\n",
            "21        22  13823         32430  123283        23540  38923  54090\n",
            "22        23  13823         32430  123283        23540  38923  54090\n",
            "23        24  12650         39107  103237        22987  41833  41013\n",
            "24        25   9983         40870  110000        21143  40030  30903\n",
            "25        26   9703         24313  101437        18773  32120  24867\n",
            "26        27   9997         31430  108623        21353  41260  33473\n",
            "27        28  10461         25932  106268        21532  37396  29261\n",
            "28        29  11590         31007   97230        22960  42373  38450\n",
            "29        30   9337         32473  114030        18617  35453  28960\n",
            "30        31  12133         36430  108477        32163  47060  56277\n",
            "31        32  12373         37350  112280        21680  52293  42487\n",
            "32        33  13193         37723  111277        33710  53143  49693\n",
            "33        34  14239         36890  106787        29470  51200  48823\n"
          ]
        }
      ]
    },
    {
      "cell_type": "code",
      "source": [
        "x = dfr.iloc[:,2:7].values"
      ],
      "metadata": {
        "id": "qml_fI14gzPQ"
      },
      "execution_count": null,
      "outputs": []
    },
    {
      "cell_type": "code",
      "source": [
        "kmeans=KMeans(n_clusters=2, random_state=0)\n",
        "kmeans.fit(x)\n",
        "y_kmeans=kmeans.predict(x)\n",
        "print(y_kmeans)"
      ],
      "metadata": {
        "colab": {
          "base_uri": "https://localhost:8080/"
        },
        "id": "H0eYBMzZhjr_",
        "outputId": "9555a72f-7166-4c7a-9b16-6c61a1176891"
      },
      "execution_count": null,
      "outputs": [
        {
          "output_type": "stream",
          "name": "stdout",
          "text": [
            "[1 1 1 1 1 1 1 1 0 1 1 1 1 1 1 1 1 1 0 1 1 0 0 0 1 1 1 1 0 1 0 0 0 0]\n"
          ]
        },
        {
          "output_type": "stream",
          "name": "stderr",
          "text": [
            "/usr/local/lib/python3.10/dist-packages/sklearn/cluster/_kmeans.py:870: FutureWarning: The default value of `n_init` will change from 10 to 'auto' in 1.4. Set the value of `n_init` explicitly to suppress the warning\n",
            "  warnings.warn(\n"
          ]
        }
      ]
    },
    {
      "cell_type": "code",
      "source": [
        "x1 = dfr.iloc[:,1:3].values"
      ],
      "metadata": {
        "id": "Li8X0ghhiDoT"
      },
      "execution_count": null,
      "outputs": []
    },
    {
      "cell_type": "code",
      "source": [
        "kmeans=KMeans(n_clusters=2, random_state=0)\n",
        "kmeans.fit(x1)\n",
        "y_kmeans=kmeans.predict(x1)\n",
        "print(y_kmeans)"
      ],
      "metadata": {
        "colab": {
          "base_uri": "https://localhost:8080/"
        },
        "id": "yztbcRq9isz-",
        "outputId": "01dd8169-c2f8-48d1-8bfd-8f0ccb6a3a5d"
      },
      "execution_count": null,
      "outputs": [
        {
          "output_type": "stream",
          "name": "stdout",
          "text": [
            "[0 0 1 0 0 0 0 0 0 0 1 0 0 0 0 0 0 1 1 0 1 0 0 1 1 0 0 0 0 0 1 1 1 1]\n"
          ]
        },
        {
          "output_type": "stream",
          "name": "stderr",
          "text": [
            "/usr/local/lib/python3.10/dist-packages/sklearn/cluster/_kmeans.py:870: FutureWarning: The default value of `n_init` will change from 10 to 'auto' in 1.4. Set the value of `n_init` explicitly to suppress the warning\n",
            "  warnings.warn(\n"
          ]
        }
      ]
    },
    {
      "cell_type": "code",
      "source": [
        "x2 = pd.DataFrame(dfr, columns=['Province', 'Rice', 'Chicken Meat'])\n",
        "kmeans=KMeans(n_clusters=3, random_state=0)\n",
        "kmeans.fit(x2)\n",
        "y = kmeans.predict(dfr[['Province', 'Rice', 'Chicken Meat']])\n",
        "\n",
        "print(y)"
      ],
      "metadata": {
        "colab": {
          "base_uri": "https://localhost:8080/"
        },
        "id": "xZvyrcyUivXU",
        "outputId": "0ffe250d-244a-45c1-9383-feddf3da104f"
      },
      "execution_count": null,
      "outputs": [
        {
          "output_type": "stream",
          "name": "stdout",
          "text": [
            "[0 0 2 1 1 0 1 0 1 0 1 1 1 1 1 0 1 2 2 0 1 1 1 2 2 0 1 0 1 1 2 2 2 2]\n"
          ]
        },
        {
          "output_type": "stream",
          "name": "stderr",
          "text": [
            "/usr/local/lib/python3.10/dist-packages/sklearn/cluster/_kmeans.py:870: FutureWarning: The default value of `n_init` will change from 10 to 'auto' in 1.4. Set the value of `n_init` explicitly to suppress the warning\n",
            "  warnings.warn(\n"
          ]
        }
      ]
    },
    {
      "cell_type": "code",
      "source": [
        "kmeans=KMeans(n_clusters=2, random_state=0)\n",
        "kmeans.fit(x2)\n",
        "y = kmeans.predict(dfr[['Province', 'Rice', 'Chicken Meat']])\n",
        "\n",
        "print(y)"
      ],
      "metadata": {
        "colab": {
          "base_uri": "https://localhost:8080/"
        },
        "id": "WhbnJECSn0Gt",
        "outputId": "483f20b9-338d-4936-a5eb-a70abf9638b1"
      },
      "execution_count": null,
      "outputs": [
        {
          "output_type": "stream",
          "name": "stderr",
          "text": [
            "/usr/local/lib/python3.10/dist-packages/sklearn/cluster/_kmeans.py:870: FutureWarning: The default value of `n_init` will change from 10 to 'auto' in 1.4. Set the value of `n_init` explicitly to suppress the warning\n",
            "  warnings.warn(\n"
          ]
        },
        {
          "output_type": "stream",
          "name": "stdout",
          "text": [
            "[0 0 1 0 0 0 0 0 0 0 1 0 0 0 0 0 0 1 1 0 1 0 0 1 1 0 0 0 0 0 1 1 1 1]\n"
          ]
        }
      ]
    },
    {
      "cell_type": "code",
      "source": [
        "x2['label'] = kmeans.labels_\n",
        "x2['label'].value_counts()"
      ],
      "metadata": {
        "colab": {
          "base_uri": "https://localhost:8080/"
        },
        "id": "WqtwlT68pDth",
        "outputId": "d8c48119-b7e5-41f0-d83b-e9393671a878"
      },
      "execution_count": null,
      "outputs": [
        {
          "output_type": "execute_result",
          "data": {
            "text/plain": [
              "0    23\n",
              "1    11\n",
              "Name: label, dtype: int64"
            ]
          },
          "metadata": {},
          "execution_count": 60
        }
      ]
    },
    {
      "cell_type": "code",
      "source": [
        "x2['cluster'] = y"
      ],
      "metadata": {
        "id": "dOfynLPhpZe1"
      },
      "execution_count": null,
      "outputs": []
    },
    {
      "cell_type": "code",
      "source": [],
      "metadata": {
        "id": "BKdUP2I6rVI_"
      },
      "execution_count": null,
      "outputs": []
    }
  ]
}