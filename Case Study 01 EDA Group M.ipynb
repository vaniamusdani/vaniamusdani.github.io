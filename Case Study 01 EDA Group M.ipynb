{
  "cells": [
    {
      "cell_type": "markdown",
      "metadata": {
        "id": "view-in-github",
        "colab_type": "text"
      },
      "source": [
        "<a href=\"https://colab.research.google.com/github/vaniamusdani/vaniamusdani.github.io/blob/main/Case%20Study%2001%20EDA%20Group%20M.ipynb\" target=\"_parent\"><img src=\"https://colab.research.google.com/assets/colab-badge.svg\" alt=\"Open In Colab\"/></a>"
      ]
    },
    {
      "cell_type": "markdown",
      "metadata": {
        "id": "TPqen_Qi98JE"
      },
      "source": [
        "**CASE STUDY 01 DATA MINING (A)**\n",
        "\n",
        "**Kelompok M**\n",
        "1. Angelina Putri (2006464152)\n",
        "2. Nathanael Andrian Patrick (1906375713)\n",
        "3. Timothy Devan Chandra (1906375726)\n",
        "4. Vania Putri Musdani (1906377706)"
      ]
    },
    {
      "cell_type": "markdown",
      "source": [
        "Keterangan Varabel:\n",
        "\n",
        "Created_at: Tanggal dimana iklan rumah dibuat\n",
        "\n",
        "LT : Luas Tanah properti yang ditawarkan\n",
        "\n",
        "LB : Luas Bangunan properti yang ditawarkan\n",
        "\n",
        "KT : Jumlah Kamar Tidur properti yang ditawarkan\n",
        "\n",
        "KM : Jumlah Kamar Mandi properti yang ditawarkan\n",
        "\n",
        "Garasi : Jumlah Kapasitas Garasi di properti yang ditawarkan\n",
        "\n",
        "Carport : Jumlah kapasitas Carport di properti yang ditawarkan\n",
        "\n",
        "Lokasi : Detail lokasi properti yang ditawarkan\n",
        "\n",
        "Sertifikat: Jenis sertifikat properti yang ditawarkan\n",
        "\n",
        "Listrik : Daya listrik dari properti yang ditawarkan\n",
        "\n",
        "Hadap : Keterangan property yang ditawarkan menghadap ke arah mana\n",
        "\n",
        "Harga : Harga property yang ditawarkan dalam Rupiah\n",
        "\n",
        "URL : Alamat tautan (link) property yang ditawarkan.\n",
        "\n",
        "Deskripsi : Deskripsi iklan property yang ditawarkan."
      ],
      "metadata": {
        "id": "mUHZjrXXJGTS"
      }
    },
    {
      "cell_type": "code",
      "execution_count": null,
      "metadata": {
        "colab": {
          "base_uri": "https://localhost:8080/"
        },
        "id": "RAUPj4kz95nF",
        "outputId": "511b6bc7-90f2-4aa6-ad8a-993de9e5d6ce"
      },
      "outputs": [
        {
          "output_type": "execute_result",
          "data": {
            "text/plain": [
              "((1024, 26), (998, 26), (999, 26), (128, 26), (992, 26))"
            ]
          },
          "metadata": {},
          "execution_count": 56
        }
      ],
      "source": [
        "# Loading Data:\n",
        "import pandas as pd\n",
        "\n",
        "try: # Running Locally, yakinkan \"file_\" berada di folder \"data\"\n",
        "    dfJ = pd.read_csv(\"data/jakarta.csv\", low_memory = False, encoding='utf8')\n",
        "    dfD = pd.read_csv(\"data/depok.csv\", low_memory = False, encoding='utf8')\n",
        "    dfB = pd.read_csv(\"data/bogor.csv\", low_memory = False, encoding='utf8')\n",
        "    dfT = pd.read_csv(\"data/tangerang.csv\", low_memory = False, encoding='utf8')\n",
        "    dfX = pd.read_csv(\"data/bekasi.csv\", low_memory = False, encoding='utf8')\n",
        "except: # Running in Google Colab\n",
        "    !mkdir data\n",
        "    !wget -P data/ https://raw.githubusercontent.com/NathanaelAP/ADM-Case-01-EDA/main/data/depok.csv\n",
        "    !wget -P data/ https://raw.githubusercontent.com/NathanaelAP/ADM-Case-01-EDA/main/data/bogor.csv\n",
        "    !wget -P data/ https://raw.githubusercontent.com/NathanaelAP/ADM-Case-01-EDA/main/data/jakarta.csv\n",
        "    !wget -P data/ https://raw.githubusercontent.com/NathanaelAP/ADM-Case-01-EDA/main/data/tangerang.csv\n",
        "    !wget -P data/ https://raw.githubusercontent.com/NathanaelAP/ADM-Case-01-EDA/main/data/bekasi.csv\n",
        "    dfJ = pd.read_csv(\"data/jakarta.csv\", low_memory = False, encoding='utf8')\n",
        "    dfD = pd.read_csv(\"data/depok.csv\", low_memory = False, encoding='utf8')\n",
        "    dfB = pd.read_csv(\"data/bogor.csv\", low_memory = False, encoding='utf8')\n",
        "    dfT = pd.read_csv(\"data/tangerang.csv\", low_memory = False, encoding='utf8')\n",
        "    dfX = pd.read_csv(\"data/bekasi.csv\", low_memory = False, encoding='utf8')\n",
        "\n",
        "dfJ.shape, dfD.shape, dfB.shape, dfT.shape, dfX.shape"
      ]
    },
    {
      "cell_type": "code",
      "source": [
        "print(dfJ)"
      ],
      "metadata": {
        "colab": {
          "base_uri": "https://localhost:8080/"
        },
        "id": "ozDZSRBAFuPV",
        "outputId": "058805d1-24ed-49fc-f22e-1203f49f7a17"
      },
      "execution_count": null,
      "outputs": [
        {
          "output_type": "stream",
          "name": "stdout",
          "text": [
            "      created_at     LT     LB   KT   KM  garasi  carport         lokasi  \\\n",
            "0     06-12-2021  202.0  198.0  8.0  3.0     NaN      NaN  Jakarta Pusat   \n",
            "1     02-12-2021   30.0   55.0  2.0  1.0     NaN      1.0  Jakarta Pusat   \n",
            "2     06-12-2021   19.0   35.0  2.0  1.0     NaN      NaN  Jakarta Pusat   \n",
            "3     06-12-2021   33.0   42.0  2.0  2.0     NaN      1.0  Jakarta Pusat   \n",
            "4     06-12-2021   30.0   55.0  2.0  2.0     NaN      1.0  Jakarta Pusat   \n",
            "...          ...    ...    ...  ...  ...     ...      ...            ...   \n",
            "1019         NaN    NaN    NaN  NaN  NaN     NaN      NaN            NaN   \n",
            "1020         NaN    NaN    NaN  NaN  NaN     NaN      NaN            NaN   \n",
            "1021         NaN    NaN    NaN  NaN  NaN     NaN      NaN            NaN   \n",
            "1022         NaN    NaN    NaN  NaN  NaN     NaN      NaN            NaN   \n",
            "1023         NaN    NaN    NaN  NaN  NaN     NaN      NaN            NaN   \n",
            "\n",
            "     sertifikat  listrik  ... Unnamed: 16  Unnamed: 17 Unnamed: 18  \\\n",
            "0           SHM   2200.0  ...         NaN          NaN         NaN   \n",
            "1           SHM   2200.0  ...         NaN          NaN         NaN   \n",
            "2           SHM   2200.0  ...         NaN          NaN         NaN   \n",
            "3           SHM   2200.0  ...         NaN          NaN         NaN   \n",
            "4           SHM   2200.0  ...         NaN          NaN         NaN   \n",
            "...         ...      ...  ...         ...          ...         ...   \n",
            "1019        NaN      NaN  ...         NaN          NaN         NaN   \n",
            "1020        NaN      NaN  ...         NaN          NaN         NaN   \n",
            "1021        NaN      NaN  ...         NaN          NaN         NaN   \n",
            "1022        NaN      NaN  ...         NaN          NaN         NaN   \n",
            "1023        NaN      NaN  ...         NaN          NaN         NaN   \n",
            "\n",
            "     Unnamed: 19  Unnamed: 20  Unnamed: 21  Unnamed: 22  Unnamed: 23  \\\n",
            "0            NaN          NaN          NaN          NaN          NaN   \n",
            "1            NaN          NaN          NaN          NaN          NaN   \n",
            "2            NaN          NaN          NaN          NaN          NaN   \n",
            "3            NaN          NaN          NaN          NaN          NaN   \n",
            "4            NaN          NaN          NaN          NaN          NaN   \n",
            "...          ...          ...          ...          ...          ...   \n",
            "1019         NaN          NaN          NaN          NaN          NaN   \n",
            "1020         NaN          NaN          NaN          NaN          NaN   \n",
            "1021         NaN          NaN          NaN          NaN          NaN   \n",
            "1022         NaN          NaN          NaN          NaN          NaN   \n",
            "1023         NaN          NaN          NaN          NaN          NaN   \n",
            "\n",
            "      Unnamed: 24  Unnamed: 25  \n",
            "0             NaN          NaN  \n",
            "1             NaN          NaN  \n",
            "2             NaN          NaN  \n",
            "3             NaN          NaN  \n",
            "4             NaN          NaN  \n",
            "...           ...          ...  \n",
            "1019          NaN          NaN  \n",
            "1020          NaN          NaN  \n",
            "1021          NaN          NaN  \n",
            "1022          NaN          NaN  \n",
            "1023          NaN          NaN  \n",
            "\n",
            "[1024 rows x 26 columns]\n"
          ]
        }
      ]
    },
    {
      "cell_type": "code",
      "execution_count": null,
      "metadata": {
        "id": "Mp3lLelN_gWc"
      },
      "outputs": [],
      "source": [
        "import pandas as pd\n",
        "import numpy as np\n",
        "import seaborn as sns                       #visualisation\n",
        "import matplotlib.pyplot as plt             #visualisation\n",
        "%matplotlib inline\n",
        "sns.set(color_codes=True)"
      ]
    },
    {
      "cell_type": "markdown",
      "source": [
        "# New Section"
      ],
      "metadata": {
        "id": "0HykjhknAG3A"
      }
    },
    {
      "cell_type": "code",
      "execution_count": null,
      "metadata": {
        "colab": {
          "base_uri": "https://localhost:8080/",
          "height": 404
        },
        "id": "-YoLmOJw_mzz",
        "outputId": "39a56570-a622-442f-a13d-1ea8429b9cf6"
      },
      "outputs": [
        {
          "output_type": "execute_result",
          "data": {
            "text/plain": [
              "   created_at     LT     LB   KT   KM  garasi  carport         lokasi  \\\n",
              "0  06-12-2021  202.0  198.0  8.0  3.0     NaN      NaN  Jakarta Pusat   \n",
              "1  02-12-2021   30.0   55.0  2.0  1.0     NaN      1.0  Jakarta Pusat   \n",
              "2  06-12-2021   19.0   35.0  2.0  1.0     NaN      NaN  Jakarta Pusat   \n",
              "3  06-12-2021   33.0   42.0  2.0  2.0     NaN      1.0  Jakarta Pusat   \n",
              "4  06-12-2021   30.0   55.0  2.0  2.0     NaN      1.0  Jakarta Pusat   \n",
              "\n",
              "  sertifikat  listrik  ... Unnamed: 16  Unnamed: 17 Unnamed: 18 Unnamed: 19  \\\n",
              "0        SHM   2200.0  ...         NaN          NaN         NaN         NaN   \n",
              "1        SHM   2200.0  ...         NaN          NaN         NaN         NaN   \n",
              "2        SHM   2200.0  ...         NaN          NaN         NaN         NaN   \n",
              "3        SHM   2200.0  ...         NaN          NaN         NaN         NaN   \n",
              "4        SHM   2200.0  ...         NaN          NaN         NaN         NaN   \n",
              "\n",
              "   Unnamed: 20  Unnamed: 21  Unnamed: 22  Unnamed: 23  Unnamed: 24  \\\n",
              "0          NaN          NaN          NaN          NaN          NaN   \n",
              "1          NaN          NaN          NaN          NaN          NaN   \n",
              "2          NaN          NaN          NaN          NaN          NaN   \n",
              "3          NaN          NaN          NaN          NaN          NaN   \n",
              "4          NaN          NaN          NaN          NaN          NaN   \n",
              "\n",
              "   Unnamed: 25  \n",
              "0          NaN  \n",
              "1          NaN  \n",
              "2          NaN  \n",
              "3          NaN  \n",
              "4          NaN  \n",
              "\n",
              "[5 rows x 26 columns]"
            ],
            "text/html": [
              "\n",
              "  <div id=\"df-88492f59-e33a-4428-8dec-09f69776ca1f\">\n",
              "    <div class=\"colab-df-container\">\n",
              "      <div>\n",
              "<style scoped>\n",
              "    .dataframe tbody tr th:only-of-type {\n",
              "        vertical-align: middle;\n",
              "    }\n",
              "\n",
              "    .dataframe tbody tr th {\n",
              "        vertical-align: top;\n",
              "    }\n",
              "\n",
              "    .dataframe thead th {\n",
              "        text-align: right;\n",
              "    }\n",
              "</style>\n",
              "<table border=\"1\" class=\"dataframe\">\n",
              "  <thead>\n",
              "    <tr style=\"text-align: right;\">\n",
              "      <th></th>\n",
              "      <th>created_at</th>\n",
              "      <th>LT</th>\n",
              "      <th>LB</th>\n",
              "      <th>KT</th>\n",
              "      <th>KM</th>\n",
              "      <th>garasi</th>\n",
              "      <th>carport</th>\n",
              "      <th>lokasi</th>\n",
              "      <th>sertifikat</th>\n",
              "      <th>listrik</th>\n",
              "      <th>...</th>\n",
              "      <th>Unnamed: 16</th>\n",
              "      <th>Unnamed: 17</th>\n",
              "      <th>Unnamed: 18</th>\n",
              "      <th>Unnamed: 19</th>\n",
              "      <th>Unnamed: 20</th>\n",
              "      <th>Unnamed: 21</th>\n",
              "      <th>Unnamed: 22</th>\n",
              "      <th>Unnamed: 23</th>\n",
              "      <th>Unnamed: 24</th>\n",
              "      <th>Unnamed: 25</th>\n",
              "    </tr>\n",
              "  </thead>\n",
              "  <tbody>\n",
              "    <tr>\n",
              "      <th>0</th>\n",
              "      <td>06-12-2021</td>\n",
              "      <td>202.0</td>\n",
              "      <td>198.0</td>\n",
              "      <td>8.0</td>\n",
              "      <td>3.0</td>\n",
              "      <td>NaN</td>\n",
              "      <td>NaN</td>\n",
              "      <td>Jakarta Pusat</td>\n",
              "      <td>SHM</td>\n",
              "      <td>2200.0</td>\n",
              "      <td>...</td>\n",
              "      <td>NaN</td>\n",
              "      <td>NaN</td>\n",
              "      <td>NaN</td>\n",
              "      <td>NaN</td>\n",
              "      <td>NaN</td>\n",
              "      <td>NaN</td>\n",
              "      <td>NaN</td>\n",
              "      <td>NaN</td>\n",
              "      <td>NaN</td>\n",
              "      <td>NaN</td>\n",
              "    </tr>\n",
              "    <tr>\n",
              "      <th>1</th>\n",
              "      <td>02-12-2021</td>\n",
              "      <td>30.0</td>\n",
              "      <td>55.0</td>\n",
              "      <td>2.0</td>\n",
              "      <td>1.0</td>\n",
              "      <td>NaN</td>\n",
              "      <td>1.0</td>\n",
              "      <td>Jakarta Pusat</td>\n",
              "      <td>SHM</td>\n",
              "      <td>2200.0</td>\n",
              "      <td>...</td>\n",
              "      <td>NaN</td>\n",
              "      <td>NaN</td>\n",
              "      <td>NaN</td>\n",
              "      <td>NaN</td>\n",
              "      <td>NaN</td>\n",
              "      <td>NaN</td>\n",
              "      <td>NaN</td>\n",
              "      <td>NaN</td>\n",
              "      <td>NaN</td>\n",
              "      <td>NaN</td>\n",
              "    </tr>\n",
              "    <tr>\n",
              "      <th>2</th>\n",
              "      <td>06-12-2021</td>\n",
              "      <td>19.0</td>\n",
              "      <td>35.0</td>\n",
              "      <td>2.0</td>\n",
              "      <td>1.0</td>\n",
              "      <td>NaN</td>\n",
              "      <td>NaN</td>\n",
              "      <td>Jakarta Pusat</td>\n",
              "      <td>SHM</td>\n",
              "      <td>2200.0</td>\n",
              "      <td>...</td>\n",
              "      <td>NaN</td>\n",
              "      <td>NaN</td>\n",
              "      <td>NaN</td>\n",
              "      <td>NaN</td>\n",
              "      <td>NaN</td>\n",
              "      <td>NaN</td>\n",
              "      <td>NaN</td>\n",
              "      <td>NaN</td>\n",
              "      <td>NaN</td>\n",
              "      <td>NaN</td>\n",
              "    </tr>\n",
              "    <tr>\n",
              "      <th>3</th>\n",
              "      <td>06-12-2021</td>\n",
              "      <td>33.0</td>\n",
              "      <td>42.0</td>\n",
              "      <td>2.0</td>\n",
              "      <td>2.0</td>\n",
              "      <td>NaN</td>\n",
              "      <td>1.0</td>\n",
              "      <td>Jakarta Pusat</td>\n",
              "      <td>SHM</td>\n",
              "      <td>2200.0</td>\n",
              "      <td>...</td>\n",
              "      <td>NaN</td>\n",
              "      <td>NaN</td>\n",
              "      <td>NaN</td>\n",
              "      <td>NaN</td>\n",
              "      <td>NaN</td>\n",
              "      <td>NaN</td>\n",
              "      <td>NaN</td>\n",
              "      <td>NaN</td>\n",
              "      <td>NaN</td>\n",
              "      <td>NaN</td>\n",
              "    </tr>\n",
              "    <tr>\n",
              "      <th>4</th>\n",
              "      <td>06-12-2021</td>\n",
              "      <td>30.0</td>\n",
              "      <td>55.0</td>\n",
              "      <td>2.0</td>\n",
              "      <td>2.0</td>\n",
              "      <td>NaN</td>\n",
              "      <td>1.0</td>\n",
              "      <td>Jakarta Pusat</td>\n",
              "      <td>SHM</td>\n",
              "      <td>2200.0</td>\n",
              "      <td>...</td>\n",
              "      <td>NaN</td>\n",
              "      <td>NaN</td>\n",
              "      <td>NaN</td>\n",
              "      <td>NaN</td>\n",
              "      <td>NaN</td>\n",
              "      <td>NaN</td>\n",
              "      <td>NaN</td>\n",
              "      <td>NaN</td>\n",
              "      <td>NaN</td>\n",
              "      <td>NaN</td>\n",
              "    </tr>\n",
              "  </tbody>\n",
              "</table>\n",
              "<p>5 rows × 26 columns</p>\n",
              "</div>\n",
              "      <button class=\"colab-df-convert\" onclick=\"convertToInteractive('df-88492f59-e33a-4428-8dec-09f69776ca1f')\"\n",
              "              title=\"Convert this dataframe to an interactive table.\"\n",
              "              style=\"display:none;\">\n",
              "        \n",
              "  <svg xmlns=\"http://www.w3.org/2000/svg\" height=\"24px\"viewBox=\"0 0 24 24\"\n",
              "       width=\"24px\">\n",
              "    <path d=\"M0 0h24v24H0V0z\" fill=\"none\"/>\n",
              "    <path d=\"M18.56 5.44l.94 2.06.94-2.06 2.06-.94-2.06-.94-.94-2.06-.94 2.06-2.06.94zm-11 1L8.5 8.5l.94-2.06 2.06-.94-2.06-.94L8.5 2.5l-.94 2.06-2.06.94zm10 10l.94 2.06.94-2.06 2.06-.94-2.06-.94-.94-2.06-.94 2.06-2.06.94z\"/><path d=\"M17.41 7.96l-1.37-1.37c-.4-.4-.92-.59-1.43-.59-.52 0-1.04.2-1.43.59L10.3 9.45l-7.72 7.72c-.78.78-.78 2.05 0 2.83L4 21.41c.39.39.9.59 1.41.59.51 0 1.02-.2 1.41-.59l7.78-7.78 2.81-2.81c.8-.78.8-2.07 0-2.86zM5.41 20L4 18.59l7.72-7.72 1.47 1.35L5.41 20z\"/>\n",
              "  </svg>\n",
              "      </button>\n",
              "      \n",
              "  <style>\n",
              "    .colab-df-container {\n",
              "      display:flex;\n",
              "      flex-wrap:wrap;\n",
              "      gap: 12px;\n",
              "    }\n",
              "\n",
              "    .colab-df-convert {\n",
              "      background-color: #E8F0FE;\n",
              "      border: none;\n",
              "      border-radius: 50%;\n",
              "      cursor: pointer;\n",
              "      display: none;\n",
              "      fill: #1967D2;\n",
              "      height: 32px;\n",
              "      padding: 0 0 0 0;\n",
              "      width: 32px;\n",
              "    }\n",
              "\n",
              "    .colab-df-convert:hover {\n",
              "      background-color: #E2EBFA;\n",
              "      box-shadow: 0px 1px 2px rgba(60, 64, 67, 0.3), 0px 1px 3px 1px rgba(60, 64, 67, 0.15);\n",
              "      fill: #174EA6;\n",
              "    }\n",
              "\n",
              "    [theme=dark] .colab-df-convert {\n",
              "      background-color: #3B4455;\n",
              "      fill: #D2E3FC;\n",
              "    }\n",
              "\n",
              "    [theme=dark] .colab-df-convert:hover {\n",
              "      background-color: #434B5C;\n",
              "      box-shadow: 0px 1px 3px 1px rgba(0, 0, 0, 0.15);\n",
              "      filter: drop-shadow(0px 1px 2px rgba(0, 0, 0, 0.3));\n",
              "      fill: #FFFFFF;\n",
              "    }\n",
              "  </style>\n",
              "\n",
              "      <script>\n",
              "        const buttonEl =\n",
              "          document.querySelector('#df-88492f59-e33a-4428-8dec-09f69776ca1f button.colab-df-convert');\n",
              "        buttonEl.style.display =\n",
              "          google.colab.kernel.accessAllowed ? 'block' : 'none';\n",
              "\n",
              "        async function convertToInteractive(key) {\n",
              "          const element = document.querySelector('#df-88492f59-e33a-4428-8dec-09f69776ca1f');\n",
              "          const dataTable =\n",
              "            await google.colab.kernel.invokeFunction('convertToInteractive',\n",
              "                                                     [key], {});\n",
              "          if (!dataTable) return;\n",
              "\n",
              "          const docLinkHtml = 'Like what you see? Visit the ' +\n",
              "            '<a target=\"_blank\" href=https://colab.research.google.com/notebooks/data_table.ipynb>data table notebook</a>'\n",
              "            + ' to learn more about interactive tables.';\n",
              "          element.innerHTML = '';\n",
              "          dataTable['output_type'] = 'display_data';\n",
              "          await google.colab.output.renderOutput(dataTable, element);\n",
              "          const docLink = document.createElement('div');\n",
              "          docLink.innerHTML = docLinkHtml;\n",
              "          element.appendChild(docLink);\n",
              "        }\n",
              "      </script>\n",
              "    </div>\n",
              "  </div>\n",
              "  "
            ]
          },
          "metadata": {},
          "execution_count": 17
        }
      ],
      "source": [
        "dfJ.head(5)"
      ]
    },
    {
      "cell_type": "code",
      "source": [
        "dfJ.tail(5)"
      ],
      "metadata": {
        "colab": {
          "base_uri": "https://localhost:8080/",
          "height": 317
        },
        "id": "HigFiXusEymb",
        "outputId": "c56fd702-2bd1-4bfe-f32d-bb9cffcf81a0"
      },
      "execution_count": null,
      "outputs": [
        {
          "output_type": "execute_result",
          "data": {
            "text/plain": [
              "     created_at  LT  LB  KT  KM  garasi  carport lokasi sertifikat  listrik  \\\n",
              "1019        NaN NaN NaN NaN NaN     NaN      NaN    NaN        NaN      NaN   \n",
              "1020        NaN NaN NaN NaN NaN     NaN      NaN    NaN        NaN      NaN   \n",
              "1021        NaN NaN NaN NaN NaN     NaN      NaN    NaN        NaN      NaN   \n",
              "1022        NaN NaN NaN NaN NaN     NaN      NaN    NaN        NaN      NaN   \n",
              "1023        NaN NaN NaN NaN NaN     NaN      NaN    NaN        NaN      NaN   \n",
              "\n",
              "      ... Unnamed: 16  Unnamed: 17 Unnamed: 18 Unnamed: 19  Unnamed: 20  \\\n",
              "1019  ...         NaN          NaN         NaN         NaN          NaN   \n",
              "1020  ...         NaN          NaN         NaN         NaN          NaN   \n",
              "1021  ...         NaN          NaN         NaN         NaN          NaN   \n",
              "1022  ...         NaN          NaN         NaN         NaN          NaN   \n",
              "1023  ...         NaN          NaN         NaN         NaN          NaN   \n",
              "\n",
              "      Unnamed: 21  Unnamed: 22  Unnamed: 23  Unnamed: 24  Unnamed: 25  \n",
              "1019          NaN          NaN          NaN          NaN          NaN  \n",
              "1020          NaN          NaN          NaN          NaN          NaN  \n",
              "1021          NaN          NaN          NaN          NaN          NaN  \n",
              "1022          NaN          NaN          NaN          NaN          NaN  \n",
              "1023          NaN          NaN          NaN          NaN          NaN  \n",
              "\n",
              "[5 rows x 26 columns]"
            ],
            "text/html": [
              "\n",
              "  <div id=\"df-f4097aaf-d85c-42a5-8285-5a71e5384a4e\">\n",
              "    <div class=\"colab-df-container\">\n",
              "      <div>\n",
              "<style scoped>\n",
              "    .dataframe tbody tr th:only-of-type {\n",
              "        vertical-align: middle;\n",
              "    }\n",
              "\n",
              "    .dataframe tbody tr th {\n",
              "        vertical-align: top;\n",
              "    }\n",
              "\n",
              "    .dataframe thead th {\n",
              "        text-align: right;\n",
              "    }\n",
              "</style>\n",
              "<table border=\"1\" class=\"dataframe\">\n",
              "  <thead>\n",
              "    <tr style=\"text-align: right;\">\n",
              "      <th></th>\n",
              "      <th>created_at</th>\n",
              "      <th>LT</th>\n",
              "      <th>LB</th>\n",
              "      <th>KT</th>\n",
              "      <th>KM</th>\n",
              "      <th>garasi</th>\n",
              "      <th>carport</th>\n",
              "      <th>lokasi</th>\n",
              "      <th>sertifikat</th>\n",
              "      <th>listrik</th>\n",
              "      <th>...</th>\n",
              "      <th>Unnamed: 16</th>\n",
              "      <th>Unnamed: 17</th>\n",
              "      <th>Unnamed: 18</th>\n",
              "      <th>Unnamed: 19</th>\n",
              "      <th>Unnamed: 20</th>\n",
              "      <th>Unnamed: 21</th>\n",
              "      <th>Unnamed: 22</th>\n",
              "      <th>Unnamed: 23</th>\n",
              "      <th>Unnamed: 24</th>\n",
              "      <th>Unnamed: 25</th>\n",
              "    </tr>\n",
              "  </thead>\n",
              "  <tbody>\n",
              "    <tr>\n",
              "      <th>1019</th>\n",
              "      <td>NaN</td>\n",
              "      <td>NaN</td>\n",
              "      <td>NaN</td>\n",
              "      <td>NaN</td>\n",
              "      <td>NaN</td>\n",
              "      <td>NaN</td>\n",
              "      <td>NaN</td>\n",
              "      <td>NaN</td>\n",
              "      <td>NaN</td>\n",
              "      <td>NaN</td>\n",
              "      <td>...</td>\n",
              "      <td>NaN</td>\n",
              "      <td>NaN</td>\n",
              "      <td>NaN</td>\n",
              "      <td>NaN</td>\n",
              "      <td>NaN</td>\n",
              "      <td>NaN</td>\n",
              "      <td>NaN</td>\n",
              "      <td>NaN</td>\n",
              "      <td>NaN</td>\n",
              "      <td>NaN</td>\n",
              "    </tr>\n",
              "    <tr>\n",
              "      <th>1020</th>\n",
              "      <td>NaN</td>\n",
              "      <td>NaN</td>\n",
              "      <td>NaN</td>\n",
              "      <td>NaN</td>\n",
              "      <td>NaN</td>\n",
              "      <td>NaN</td>\n",
              "      <td>NaN</td>\n",
              "      <td>NaN</td>\n",
              "      <td>NaN</td>\n",
              "      <td>NaN</td>\n",
              "      <td>...</td>\n",
              "      <td>NaN</td>\n",
              "      <td>NaN</td>\n",
              "      <td>NaN</td>\n",
              "      <td>NaN</td>\n",
              "      <td>NaN</td>\n",
              "      <td>NaN</td>\n",
              "      <td>NaN</td>\n",
              "      <td>NaN</td>\n",
              "      <td>NaN</td>\n",
              "      <td>NaN</td>\n",
              "    </tr>\n",
              "    <tr>\n",
              "      <th>1021</th>\n",
              "      <td>NaN</td>\n",
              "      <td>NaN</td>\n",
              "      <td>NaN</td>\n",
              "      <td>NaN</td>\n",
              "      <td>NaN</td>\n",
              "      <td>NaN</td>\n",
              "      <td>NaN</td>\n",
              "      <td>NaN</td>\n",
              "      <td>NaN</td>\n",
              "      <td>NaN</td>\n",
              "      <td>...</td>\n",
              "      <td>NaN</td>\n",
              "      <td>NaN</td>\n",
              "      <td>NaN</td>\n",
              "      <td>NaN</td>\n",
              "      <td>NaN</td>\n",
              "      <td>NaN</td>\n",
              "      <td>NaN</td>\n",
              "      <td>NaN</td>\n",
              "      <td>NaN</td>\n",
              "      <td>NaN</td>\n",
              "    </tr>\n",
              "    <tr>\n",
              "      <th>1022</th>\n",
              "      <td>NaN</td>\n",
              "      <td>NaN</td>\n",
              "      <td>NaN</td>\n",
              "      <td>NaN</td>\n",
              "      <td>NaN</td>\n",
              "      <td>NaN</td>\n",
              "      <td>NaN</td>\n",
              "      <td>NaN</td>\n",
              "      <td>NaN</td>\n",
              "      <td>NaN</td>\n",
              "      <td>...</td>\n",
              "      <td>NaN</td>\n",
              "      <td>NaN</td>\n",
              "      <td>NaN</td>\n",
              "      <td>NaN</td>\n",
              "      <td>NaN</td>\n",
              "      <td>NaN</td>\n",
              "      <td>NaN</td>\n",
              "      <td>NaN</td>\n",
              "      <td>NaN</td>\n",
              "      <td>NaN</td>\n",
              "    </tr>\n",
              "    <tr>\n",
              "      <th>1023</th>\n",
              "      <td>NaN</td>\n",
              "      <td>NaN</td>\n",
              "      <td>NaN</td>\n",
              "      <td>NaN</td>\n",
              "      <td>NaN</td>\n",
              "      <td>NaN</td>\n",
              "      <td>NaN</td>\n",
              "      <td>NaN</td>\n",
              "      <td>NaN</td>\n",
              "      <td>NaN</td>\n",
              "      <td>...</td>\n",
              "      <td>NaN</td>\n",
              "      <td>NaN</td>\n",
              "      <td>NaN</td>\n",
              "      <td>NaN</td>\n",
              "      <td>NaN</td>\n",
              "      <td>NaN</td>\n",
              "      <td>NaN</td>\n",
              "      <td>NaN</td>\n",
              "      <td>NaN</td>\n",
              "      <td>NaN</td>\n",
              "    </tr>\n",
              "  </tbody>\n",
              "</table>\n",
              "<p>5 rows × 26 columns</p>\n",
              "</div>\n",
              "      <button class=\"colab-df-convert\" onclick=\"convertToInteractive('df-f4097aaf-d85c-42a5-8285-5a71e5384a4e')\"\n",
              "              title=\"Convert this dataframe to an interactive table.\"\n",
              "              style=\"display:none;\">\n",
              "        \n",
              "  <svg xmlns=\"http://www.w3.org/2000/svg\" height=\"24px\"viewBox=\"0 0 24 24\"\n",
              "       width=\"24px\">\n",
              "    <path d=\"M0 0h24v24H0V0z\" fill=\"none\"/>\n",
              "    <path d=\"M18.56 5.44l.94 2.06.94-2.06 2.06-.94-2.06-.94-.94-2.06-.94 2.06-2.06.94zm-11 1L8.5 8.5l.94-2.06 2.06-.94-2.06-.94L8.5 2.5l-.94 2.06-2.06.94zm10 10l.94 2.06.94-2.06 2.06-.94-2.06-.94-.94-2.06-.94 2.06-2.06.94z\"/><path d=\"M17.41 7.96l-1.37-1.37c-.4-.4-.92-.59-1.43-.59-.52 0-1.04.2-1.43.59L10.3 9.45l-7.72 7.72c-.78.78-.78 2.05 0 2.83L4 21.41c.39.39.9.59 1.41.59.51 0 1.02-.2 1.41-.59l7.78-7.78 2.81-2.81c.8-.78.8-2.07 0-2.86zM5.41 20L4 18.59l7.72-7.72 1.47 1.35L5.41 20z\"/>\n",
              "  </svg>\n",
              "      </button>\n",
              "      \n",
              "  <style>\n",
              "    .colab-df-container {\n",
              "      display:flex;\n",
              "      flex-wrap:wrap;\n",
              "      gap: 12px;\n",
              "    }\n",
              "\n",
              "    .colab-df-convert {\n",
              "      background-color: #E8F0FE;\n",
              "      border: none;\n",
              "      border-radius: 50%;\n",
              "      cursor: pointer;\n",
              "      display: none;\n",
              "      fill: #1967D2;\n",
              "      height: 32px;\n",
              "      padding: 0 0 0 0;\n",
              "      width: 32px;\n",
              "    }\n",
              "\n",
              "    .colab-df-convert:hover {\n",
              "      background-color: #E2EBFA;\n",
              "      box-shadow: 0px 1px 2px rgba(60, 64, 67, 0.3), 0px 1px 3px 1px rgba(60, 64, 67, 0.15);\n",
              "      fill: #174EA6;\n",
              "    }\n",
              "\n",
              "    [theme=dark] .colab-df-convert {\n",
              "      background-color: #3B4455;\n",
              "      fill: #D2E3FC;\n",
              "    }\n",
              "\n",
              "    [theme=dark] .colab-df-convert:hover {\n",
              "      background-color: #434B5C;\n",
              "      box-shadow: 0px 1px 3px 1px rgba(0, 0, 0, 0.15);\n",
              "      filter: drop-shadow(0px 1px 2px rgba(0, 0, 0, 0.3));\n",
              "      fill: #FFFFFF;\n",
              "    }\n",
              "  </style>\n",
              "\n",
              "      <script>\n",
              "        const buttonEl =\n",
              "          document.querySelector('#df-f4097aaf-d85c-42a5-8285-5a71e5384a4e button.colab-df-convert');\n",
              "        buttonEl.style.display =\n",
              "          google.colab.kernel.accessAllowed ? 'block' : 'none';\n",
              "\n",
              "        async function convertToInteractive(key) {\n",
              "          const element = document.querySelector('#df-f4097aaf-d85c-42a5-8285-5a71e5384a4e');\n",
              "          const dataTable =\n",
              "            await google.colab.kernel.invokeFunction('convertToInteractive',\n",
              "                                                     [key], {});\n",
              "          if (!dataTable) return;\n",
              "\n",
              "          const docLinkHtml = 'Like what you see? Visit the ' +\n",
              "            '<a target=\"_blank\" href=https://colab.research.google.com/notebooks/data_table.ipynb>data table notebook</a>'\n",
              "            + ' to learn more about interactive tables.';\n",
              "          element.innerHTML = '';\n",
              "          dataTable['output_type'] = 'display_data';\n",
              "          await google.colab.output.renderOutput(dataTable, element);\n",
              "          const docLink = document.createElement('div');\n",
              "          docLink.innerHTML = docLinkHtml;\n",
              "          element.appendChild(docLink);\n",
              "        }\n",
              "      </script>\n",
              "    </div>\n",
              "  </div>\n",
              "  "
            ]
          },
          "metadata": {},
          "execution_count": 19
        }
      ]
    },
    {
      "cell_type": "code",
      "source": [
        "dfJ.dtypes"
      ],
      "metadata": {
        "id": "nQjBP_45E71i",
        "outputId": "1c6c4175-2961-4634-f09e-510054899dc1",
        "colab": {
          "base_uri": "https://localhost:8080/"
        }
      },
      "execution_count": null,
      "outputs": [
        {
          "output_type": "execute_result",
          "data": {
            "text/plain": [
              "created_at      object\n",
              "LT             float64\n",
              "LB             float64\n",
              "KT             float64\n",
              "KM             float64\n",
              "garasi         float64\n",
              "carport        float64\n",
              "lokasi          object\n",
              "sertifikat      object\n",
              "listrik        float64\n",
              "hadap           object\n",
              "harga          float64\n",
              "URL             object\n",
              "deskripsi       object\n",
              "Unnamed: 14    float64\n",
              "Unnamed: 15    float64\n",
              "Unnamed: 16    float64\n",
              "Unnamed: 17    float64\n",
              "Unnamed: 18    float64\n",
              "Unnamed: 19    float64\n",
              "Unnamed: 20    float64\n",
              "Unnamed: 21    float64\n",
              "Unnamed: 22    float64\n",
              "Unnamed: 23    float64\n",
              "Unnamed: 24    float64\n",
              "Unnamed: 25    float64\n",
              "dtype: object"
            ]
          },
          "metadata": {},
          "execution_count": 21
        }
      ]
    },
    {
      "cell_type": "code",
      "source": [
        "dfJ[['garasi', 'carport']] = dfJ[['garasi','carport']].fillna(value=0)\n",
        "dfD[['garasi', 'carport']] = dfD[['garasi','carport']].fillna(value=0)\n",
        "dfB[['garasi', 'carport']] = dfB[['garasi','carport']].fillna(value=0)\n",
        "dfT[['garasi', 'carport']] = dfT[['garasi','carport']].fillna(value=0)\n",
        "dfX[['garasi', 'carport']] = dfX[['garasi','carport']].fillna(value=0)"
      ],
      "metadata": {
        "id": "03LMK_rqIfIF"
      },
      "execution_count": null,
      "outputs": []
    },
    {
      "cell_type": "code",
      "source": [
        "print(dfJ.head(5))"
      ],
      "metadata": {
        "colab": {
          "base_uri": "https://localhost:8080/"
        },
        "id": "bESY07l1Lpuk",
        "outputId": "5dbdd721-b2d5-4241-992f-b423af504196"
      },
      "execution_count": null,
      "outputs": [
        {
          "output_type": "stream",
          "name": "stdout",
          "text": [
            "   created_at     LT     LB   KT   KM  garasi  carport         lokasi  \\\n",
            "0  06-12-2021  202.0  198.0  8.0  3.0     0.0      0.0  Jakarta Pusat   \n",
            "1  02-12-2021   30.0   55.0  2.0  1.0     0.0      1.0  Jakarta Pusat   \n",
            "2  06-12-2021   19.0   35.0  2.0  1.0     0.0      0.0  Jakarta Pusat   \n",
            "3  06-12-2021   33.0   42.0  2.0  2.0     0.0      1.0  Jakarta Pusat   \n",
            "4  06-12-2021   30.0   55.0  2.0  2.0     0.0      1.0  Jakarta Pusat   \n",
            "\n",
            "  sertifikat  listrik  ... Unnamed: 16  Unnamed: 17 Unnamed: 18 Unnamed: 19  \\\n",
            "0        SHM   2200.0  ...         NaN          NaN         NaN         NaN   \n",
            "1        SHM   2200.0  ...         NaN          NaN         NaN         NaN   \n",
            "2        SHM   2200.0  ...         NaN          NaN         NaN         NaN   \n",
            "3        SHM   2200.0  ...         NaN          NaN         NaN         NaN   \n",
            "4        SHM   2200.0  ...         NaN          NaN         NaN         NaN   \n",
            "\n",
            "   Unnamed: 20  Unnamed: 21  Unnamed: 22  Unnamed: 23  Unnamed: 24  \\\n",
            "0          NaN          NaN          NaN          NaN          NaN   \n",
            "1          NaN          NaN          NaN          NaN          NaN   \n",
            "2          NaN          NaN          NaN          NaN          NaN   \n",
            "3          NaN          NaN          NaN          NaN          NaN   \n",
            "4          NaN          NaN          NaN          NaN          NaN   \n",
            "\n",
            "   Unnamed: 25  \n",
            "0          NaN  \n",
            "1          NaN  \n",
            "2          NaN  \n",
            "3          NaN  \n",
            "4          NaN  \n",
            "\n",
            "[5 rows x 26 columns]\n"
          ]
        }
      ]
    },
    {
      "cell_type": "code",
      "source": [
        "print(dfJ.isnull().sum())\n",
        "dfJ.head()"
      ],
      "metadata": {
        "colab": {
          "base_uri": "https://localhost:8080/",
          "height": 1000
        },
        "id": "gNUUj7ovLyp6",
        "outputId": "a81db403-e88d-4273-ce32-457496a2928a"
      },
      "execution_count": null,
      "outputs": [
        {
          "output_type": "stream",
          "name": "stdout",
          "text": [
            "created_at      903\n",
            "LT              903\n",
            "LB              903\n",
            "KT              903\n",
            "KM              903\n",
            "garasi            0\n",
            "carport           0\n",
            "lokasi          903\n",
            "sertifikat      905\n",
            "listrik         904\n",
            "hadap           988\n",
            "harga           903\n",
            "URL             903\n",
            "deskripsi       912\n",
            "Unnamed: 14    1024\n",
            "Unnamed: 15    1024\n",
            "Unnamed: 16    1024\n",
            "Unnamed: 17    1024\n",
            "Unnamed: 18    1024\n",
            "Unnamed: 19    1024\n",
            "Unnamed: 20    1024\n",
            "Unnamed: 21    1024\n",
            "Unnamed: 22    1024\n",
            "Unnamed: 23    1024\n",
            "Unnamed: 24    1024\n",
            "Unnamed: 25    1024\n",
            "dtype: int64\n"
          ]
        },
        {
          "output_type": "execute_result",
          "data": {
            "text/plain": [
              "   created_at     LT     LB   KT   KM  garasi  carport         lokasi  \\\n",
              "0  06-12-2021  202.0  198.0  8.0  3.0     0.0      0.0  Jakarta Pusat   \n",
              "1  02-12-2021   30.0   55.0  2.0  1.0     0.0      1.0  Jakarta Pusat   \n",
              "2  06-12-2021   19.0   35.0  2.0  1.0     0.0      0.0  Jakarta Pusat   \n",
              "3  06-12-2021   33.0   42.0  2.0  2.0     0.0      1.0  Jakarta Pusat   \n",
              "4  06-12-2021   30.0   55.0  2.0  2.0     0.0      1.0  Jakarta Pusat   \n",
              "\n",
              "  sertifikat  listrik  ... Unnamed: 16  Unnamed: 17 Unnamed: 18 Unnamed: 19  \\\n",
              "0        SHM   2200.0  ...         NaN          NaN         NaN         NaN   \n",
              "1        SHM   2200.0  ...         NaN          NaN         NaN         NaN   \n",
              "2        SHM   2200.0  ...         NaN          NaN         NaN         NaN   \n",
              "3        SHM   2200.0  ...         NaN          NaN         NaN         NaN   \n",
              "4        SHM   2200.0  ...         NaN          NaN         NaN         NaN   \n",
              "\n",
              "   Unnamed: 20  Unnamed: 21  Unnamed: 22  Unnamed: 23  Unnamed: 24  \\\n",
              "0          NaN          NaN          NaN          NaN          NaN   \n",
              "1          NaN          NaN          NaN          NaN          NaN   \n",
              "2          NaN          NaN          NaN          NaN          NaN   \n",
              "3          NaN          NaN          NaN          NaN          NaN   \n",
              "4          NaN          NaN          NaN          NaN          NaN   \n",
              "\n",
              "   Unnamed: 25  \n",
              "0          NaN  \n",
              "1          NaN  \n",
              "2          NaN  \n",
              "3          NaN  \n",
              "4          NaN  \n",
              "\n",
              "[5 rows x 26 columns]"
            ],
            "text/html": [
              "\n",
              "  <div id=\"df-15b3467c-f1a5-4687-bac5-22b7cde31e6e\">\n",
              "    <div class=\"colab-df-container\">\n",
              "      <div>\n",
              "<style scoped>\n",
              "    .dataframe tbody tr th:only-of-type {\n",
              "        vertical-align: middle;\n",
              "    }\n",
              "\n",
              "    .dataframe tbody tr th {\n",
              "        vertical-align: top;\n",
              "    }\n",
              "\n",
              "    .dataframe thead th {\n",
              "        text-align: right;\n",
              "    }\n",
              "</style>\n",
              "<table border=\"1\" class=\"dataframe\">\n",
              "  <thead>\n",
              "    <tr style=\"text-align: right;\">\n",
              "      <th></th>\n",
              "      <th>created_at</th>\n",
              "      <th>LT</th>\n",
              "      <th>LB</th>\n",
              "      <th>KT</th>\n",
              "      <th>KM</th>\n",
              "      <th>garasi</th>\n",
              "      <th>carport</th>\n",
              "      <th>lokasi</th>\n",
              "      <th>sertifikat</th>\n",
              "      <th>listrik</th>\n",
              "      <th>...</th>\n",
              "      <th>Unnamed: 16</th>\n",
              "      <th>Unnamed: 17</th>\n",
              "      <th>Unnamed: 18</th>\n",
              "      <th>Unnamed: 19</th>\n",
              "      <th>Unnamed: 20</th>\n",
              "      <th>Unnamed: 21</th>\n",
              "      <th>Unnamed: 22</th>\n",
              "      <th>Unnamed: 23</th>\n",
              "      <th>Unnamed: 24</th>\n",
              "      <th>Unnamed: 25</th>\n",
              "    </tr>\n",
              "  </thead>\n",
              "  <tbody>\n",
              "    <tr>\n",
              "      <th>0</th>\n",
              "      <td>06-12-2021</td>\n",
              "      <td>202.0</td>\n",
              "      <td>198.0</td>\n",
              "      <td>8.0</td>\n",
              "      <td>3.0</td>\n",
              "      <td>0.0</td>\n",
              "      <td>0.0</td>\n",
              "      <td>Jakarta Pusat</td>\n",
              "      <td>SHM</td>\n",
              "      <td>2200.0</td>\n",
              "      <td>...</td>\n",
              "      <td>NaN</td>\n",
              "      <td>NaN</td>\n",
              "      <td>NaN</td>\n",
              "      <td>NaN</td>\n",
              "      <td>NaN</td>\n",
              "      <td>NaN</td>\n",
              "      <td>NaN</td>\n",
              "      <td>NaN</td>\n",
              "      <td>NaN</td>\n",
              "      <td>NaN</td>\n",
              "    </tr>\n",
              "    <tr>\n",
              "      <th>1</th>\n",
              "      <td>02-12-2021</td>\n",
              "      <td>30.0</td>\n",
              "      <td>55.0</td>\n",
              "      <td>2.0</td>\n",
              "      <td>1.0</td>\n",
              "      <td>0.0</td>\n",
              "      <td>1.0</td>\n",
              "      <td>Jakarta Pusat</td>\n",
              "      <td>SHM</td>\n",
              "      <td>2200.0</td>\n",
              "      <td>...</td>\n",
              "      <td>NaN</td>\n",
              "      <td>NaN</td>\n",
              "      <td>NaN</td>\n",
              "      <td>NaN</td>\n",
              "      <td>NaN</td>\n",
              "      <td>NaN</td>\n",
              "      <td>NaN</td>\n",
              "      <td>NaN</td>\n",
              "      <td>NaN</td>\n",
              "      <td>NaN</td>\n",
              "    </tr>\n",
              "    <tr>\n",
              "      <th>2</th>\n",
              "      <td>06-12-2021</td>\n",
              "      <td>19.0</td>\n",
              "      <td>35.0</td>\n",
              "      <td>2.0</td>\n",
              "      <td>1.0</td>\n",
              "      <td>0.0</td>\n",
              "      <td>0.0</td>\n",
              "      <td>Jakarta Pusat</td>\n",
              "      <td>SHM</td>\n",
              "      <td>2200.0</td>\n",
              "      <td>...</td>\n",
              "      <td>NaN</td>\n",
              "      <td>NaN</td>\n",
              "      <td>NaN</td>\n",
              "      <td>NaN</td>\n",
              "      <td>NaN</td>\n",
              "      <td>NaN</td>\n",
              "      <td>NaN</td>\n",
              "      <td>NaN</td>\n",
              "      <td>NaN</td>\n",
              "      <td>NaN</td>\n",
              "    </tr>\n",
              "    <tr>\n",
              "      <th>3</th>\n",
              "      <td>06-12-2021</td>\n",
              "      <td>33.0</td>\n",
              "      <td>42.0</td>\n",
              "      <td>2.0</td>\n",
              "      <td>2.0</td>\n",
              "      <td>0.0</td>\n",
              "      <td>1.0</td>\n",
              "      <td>Jakarta Pusat</td>\n",
              "      <td>SHM</td>\n",
              "      <td>2200.0</td>\n",
              "      <td>...</td>\n",
              "      <td>NaN</td>\n",
              "      <td>NaN</td>\n",
              "      <td>NaN</td>\n",
              "      <td>NaN</td>\n",
              "      <td>NaN</td>\n",
              "      <td>NaN</td>\n",
              "      <td>NaN</td>\n",
              "      <td>NaN</td>\n",
              "      <td>NaN</td>\n",
              "      <td>NaN</td>\n",
              "    </tr>\n",
              "    <tr>\n",
              "      <th>4</th>\n",
              "      <td>06-12-2021</td>\n",
              "      <td>30.0</td>\n",
              "      <td>55.0</td>\n",
              "      <td>2.0</td>\n",
              "      <td>2.0</td>\n",
              "      <td>0.0</td>\n",
              "      <td>1.0</td>\n",
              "      <td>Jakarta Pusat</td>\n",
              "      <td>SHM</td>\n",
              "      <td>2200.0</td>\n",
              "      <td>...</td>\n",
              "      <td>NaN</td>\n",
              "      <td>NaN</td>\n",
              "      <td>NaN</td>\n",
              "      <td>NaN</td>\n",
              "      <td>NaN</td>\n",
              "      <td>NaN</td>\n",
              "      <td>NaN</td>\n",
              "      <td>NaN</td>\n",
              "      <td>NaN</td>\n",
              "      <td>NaN</td>\n",
              "    </tr>\n",
              "  </tbody>\n",
              "</table>\n",
              "<p>5 rows × 26 columns</p>\n",
              "</div>\n",
              "      <button class=\"colab-df-convert\" onclick=\"convertToInteractive('df-15b3467c-f1a5-4687-bac5-22b7cde31e6e')\"\n",
              "              title=\"Convert this dataframe to an interactive table.\"\n",
              "              style=\"display:none;\">\n",
              "        \n",
              "  <svg xmlns=\"http://www.w3.org/2000/svg\" height=\"24px\"viewBox=\"0 0 24 24\"\n",
              "       width=\"24px\">\n",
              "    <path d=\"M0 0h24v24H0V0z\" fill=\"none\"/>\n",
              "    <path d=\"M18.56 5.44l.94 2.06.94-2.06 2.06-.94-2.06-.94-.94-2.06-.94 2.06-2.06.94zm-11 1L8.5 8.5l.94-2.06 2.06-.94-2.06-.94L8.5 2.5l-.94 2.06-2.06.94zm10 10l.94 2.06.94-2.06 2.06-.94-2.06-.94-.94-2.06-.94 2.06-2.06.94z\"/><path d=\"M17.41 7.96l-1.37-1.37c-.4-.4-.92-.59-1.43-.59-.52 0-1.04.2-1.43.59L10.3 9.45l-7.72 7.72c-.78.78-.78 2.05 0 2.83L4 21.41c.39.39.9.59 1.41.59.51 0 1.02-.2 1.41-.59l7.78-7.78 2.81-2.81c.8-.78.8-2.07 0-2.86zM5.41 20L4 18.59l7.72-7.72 1.47 1.35L5.41 20z\"/>\n",
              "  </svg>\n",
              "      </button>\n",
              "      \n",
              "  <style>\n",
              "    .colab-df-container {\n",
              "      display:flex;\n",
              "      flex-wrap:wrap;\n",
              "      gap: 12px;\n",
              "    }\n",
              "\n",
              "    .colab-df-convert {\n",
              "      background-color: #E8F0FE;\n",
              "      border: none;\n",
              "      border-radius: 50%;\n",
              "      cursor: pointer;\n",
              "      display: none;\n",
              "      fill: #1967D2;\n",
              "      height: 32px;\n",
              "      padding: 0 0 0 0;\n",
              "      width: 32px;\n",
              "    }\n",
              "\n",
              "    .colab-df-convert:hover {\n",
              "      background-color: #E2EBFA;\n",
              "      box-shadow: 0px 1px 2px rgba(60, 64, 67, 0.3), 0px 1px 3px 1px rgba(60, 64, 67, 0.15);\n",
              "      fill: #174EA6;\n",
              "    }\n",
              "\n",
              "    [theme=dark] .colab-df-convert {\n",
              "      background-color: #3B4455;\n",
              "      fill: #D2E3FC;\n",
              "    }\n",
              "\n",
              "    [theme=dark] .colab-df-convert:hover {\n",
              "      background-color: #434B5C;\n",
              "      box-shadow: 0px 1px 3px 1px rgba(0, 0, 0, 0.15);\n",
              "      filter: drop-shadow(0px 1px 2px rgba(0, 0, 0, 0.3));\n",
              "      fill: #FFFFFF;\n",
              "    }\n",
              "  </style>\n",
              "\n",
              "      <script>\n",
              "        const buttonEl =\n",
              "          document.querySelector('#df-15b3467c-f1a5-4687-bac5-22b7cde31e6e button.colab-df-convert');\n",
              "        buttonEl.style.display =\n",
              "          google.colab.kernel.accessAllowed ? 'block' : 'none';\n",
              "\n",
              "        async function convertToInteractive(key) {\n",
              "          const element = document.querySelector('#df-15b3467c-f1a5-4687-bac5-22b7cde31e6e');\n",
              "          const dataTable =\n",
              "            await google.colab.kernel.invokeFunction('convertToInteractive',\n",
              "                                                     [key], {});\n",
              "          if (!dataTable) return;\n",
              "\n",
              "          const docLinkHtml = 'Like what you see? Visit the ' +\n",
              "            '<a target=\"_blank\" href=https://colab.research.google.com/notebooks/data_table.ipynb>data table notebook</a>'\n",
              "            + ' to learn more about interactive tables.';\n",
              "          element.innerHTML = '';\n",
              "          dataTable['output_type'] = 'display_data';\n",
              "          await google.colab.output.renderOutput(dataTable, element);\n",
              "          const docLink = document.createElement('div');\n",
              "          docLink.innerHTML = docLinkHtml;\n",
              "          element.appendChild(docLink);\n",
              "        }\n",
              "      </script>\n",
              "    </div>\n",
              "  </div>\n",
              "  "
            ]
          },
          "metadata": {},
          "execution_count": 30
        },
        {
          "output_type": "stream",
          "name": "stdout",
          "text": [
            "created_at      903\n",
            "LT              903\n",
            "LB              903\n",
            "KT              903\n",
            "KM              903\n",
            "garasi            0\n",
            "carport           0\n",
            "lokasi          903\n",
            "sertifikat      905\n",
            "listrik         904\n",
            "hadap           988\n",
            "harga           903\n",
            "URL             903\n",
            "deskripsi       912\n",
            "Unnamed: 14    1024\n",
            "Unnamed: 15    1024\n",
            "Unnamed: 16    1024\n",
            "Unnamed: 17    1024\n",
            "Unnamed: 18    1024\n",
            "Unnamed: 19    1024\n",
            "Unnamed: 20    1024\n",
            "Unnamed: 21    1024\n",
            "Unnamed: 22    1024\n",
            "Unnamed: 23    1024\n",
            "Unnamed: 24    1024\n",
            "Unnamed: 25    1024\n",
            "dtype: int64\n"
          ]
        },
        {
          "output_type": "execute_result",
          "data": {
            "text/plain": [
              "   created_at     LT     LB   KT   KM  garasi  carport         lokasi  \\\n",
              "0  06-12-2021  202.0  198.0  8.0  3.0     0.0      0.0  Jakarta Pusat   \n",
              "1  02-12-2021   30.0   55.0  2.0  1.0     0.0      1.0  Jakarta Pusat   \n",
              "2  06-12-2021   19.0   35.0  2.0  1.0     0.0      0.0  Jakarta Pusat   \n",
              "3  06-12-2021   33.0   42.0  2.0  2.0     0.0      1.0  Jakarta Pusat   \n",
              "4  06-12-2021   30.0   55.0  2.0  2.0     0.0      1.0  Jakarta Pusat   \n",
              "\n",
              "  sertifikat  listrik  ... Unnamed: 16  Unnamed: 17 Unnamed: 18 Unnamed: 19  \\\n",
              "0        SHM   2200.0  ...         NaN          NaN         NaN         NaN   \n",
              "1        SHM   2200.0  ...         NaN          NaN         NaN         NaN   \n",
              "2        SHM   2200.0  ...         NaN          NaN         NaN         NaN   \n",
              "3        SHM   2200.0  ...         NaN          NaN         NaN         NaN   \n",
              "4        SHM   2200.0  ...         NaN          NaN         NaN         NaN   \n",
              "\n",
              "   Unnamed: 20  Unnamed: 21  Unnamed: 22  Unnamed: 23  Unnamed: 24  \\\n",
              "0          NaN          NaN          NaN          NaN          NaN   \n",
              "1          NaN          NaN          NaN          NaN          NaN   \n",
              "2          NaN          NaN          NaN          NaN          NaN   \n",
              "3          NaN          NaN          NaN          NaN          NaN   \n",
              "4          NaN          NaN          NaN          NaN          NaN   \n",
              "\n",
              "   Unnamed: 25  \n",
              "0          NaN  \n",
              "1          NaN  \n",
              "2          NaN  \n",
              "3          NaN  \n",
              "4          NaN  \n",
              "\n",
              "[5 rows x 26 columns]"
            ],
            "text/html": [
              "\n",
              "  <div id=\"df-6fe678fc-f8b4-47bf-93a3-a0158a651c1e\">\n",
              "    <div class=\"colab-df-container\">\n",
              "      <div>\n",
              "<style scoped>\n",
              "    .dataframe tbody tr th:only-of-type {\n",
              "        vertical-align: middle;\n",
              "    }\n",
              "\n",
              "    .dataframe tbody tr th {\n",
              "        vertical-align: top;\n",
              "    }\n",
              "\n",
              "    .dataframe thead th {\n",
              "        text-align: right;\n",
              "    }\n",
              "</style>\n",
              "<table border=\"1\" class=\"dataframe\">\n",
              "  <thead>\n",
              "    <tr style=\"text-align: right;\">\n",
              "      <th></th>\n",
              "      <th>created_at</th>\n",
              "      <th>LT</th>\n",
              "      <th>LB</th>\n",
              "      <th>KT</th>\n",
              "      <th>KM</th>\n",
              "      <th>garasi</th>\n",
              "      <th>carport</th>\n",
              "      <th>lokasi</th>\n",
              "      <th>sertifikat</th>\n",
              "      <th>listrik</th>\n",
              "      <th>...</th>\n",
              "      <th>Unnamed: 16</th>\n",
              "      <th>Unnamed: 17</th>\n",
              "      <th>Unnamed: 18</th>\n",
              "      <th>Unnamed: 19</th>\n",
              "      <th>Unnamed: 20</th>\n",
              "      <th>Unnamed: 21</th>\n",
              "      <th>Unnamed: 22</th>\n",
              "      <th>Unnamed: 23</th>\n",
              "      <th>Unnamed: 24</th>\n",
              "      <th>Unnamed: 25</th>\n",
              "    </tr>\n",
              "  </thead>\n",
              "  <tbody>\n",
              "    <tr>\n",
              "      <th>0</th>\n",
              "      <td>06-12-2021</td>\n",
              "      <td>202.0</td>\n",
              "      <td>198.0</td>\n",
              "      <td>8.0</td>\n",
              "      <td>3.0</td>\n",
              "      <td>0.0</td>\n",
              "      <td>0.0</td>\n",
              "      <td>Jakarta Pusat</td>\n",
              "      <td>SHM</td>\n",
              "      <td>2200.0</td>\n",
              "      <td>...</td>\n",
              "      <td>NaN</td>\n",
              "      <td>NaN</td>\n",
              "      <td>NaN</td>\n",
              "      <td>NaN</td>\n",
              "      <td>NaN</td>\n",
              "      <td>NaN</td>\n",
              "      <td>NaN</td>\n",
              "      <td>NaN</td>\n",
              "      <td>NaN</td>\n",
              "      <td>NaN</td>\n",
              "    </tr>\n",
              "    <tr>\n",
              "      <th>1</th>\n",
              "      <td>02-12-2021</td>\n",
              "      <td>30.0</td>\n",
              "      <td>55.0</td>\n",
              "      <td>2.0</td>\n",
              "      <td>1.0</td>\n",
              "      <td>0.0</td>\n",
              "      <td>1.0</td>\n",
              "      <td>Jakarta Pusat</td>\n",
              "      <td>SHM</td>\n",
              "      <td>2200.0</td>\n",
              "      <td>...</td>\n",
              "      <td>NaN</td>\n",
              "      <td>NaN</td>\n",
              "      <td>NaN</td>\n",
              "      <td>NaN</td>\n",
              "      <td>NaN</td>\n",
              "      <td>NaN</td>\n",
              "      <td>NaN</td>\n",
              "      <td>NaN</td>\n",
              "      <td>NaN</td>\n",
              "      <td>NaN</td>\n",
              "    </tr>\n",
              "    <tr>\n",
              "      <th>2</th>\n",
              "      <td>06-12-2021</td>\n",
              "      <td>19.0</td>\n",
              "      <td>35.0</td>\n",
              "      <td>2.0</td>\n",
              "      <td>1.0</td>\n",
              "      <td>0.0</td>\n",
              "      <td>0.0</td>\n",
              "      <td>Jakarta Pusat</td>\n",
              "      <td>SHM</td>\n",
              "      <td>2200.0</td>\n",
              "      <td>...</td>\n",
              "      <td>NaN</td>\n",
              "      <td>NaN</td>\n",
              "      <td>NaN</td>\n",
              "      <td>NaN</td>\n",
              "      <td>NaN</td>\n",
              "      <td>NaN</td>\n",
              "      <td>NaN</td>\n",
              "      <td>NaN</td>\n",
              "      <td>NaN</td>\n",
              "      <td>NaN</td>\n",
              "    </tr>\n",
              "    <tr>\n",
              "      <th>3</th>\n",
              "      <td>06-12-2021</td>\n",
              "      <td>33.0</td>\n",
              "      <td>42.0</td>\n",
              "      <td>2.0</td>\n",
              "      <td>2.0</td>\n",
              "      <td>0.0</td>\n",
              "      <td>1.0</td>\n",
              "      <td>Jakarta Pusat</td>\n",
              "      <td>SHM</td>\n",
              "      <td>2200.0</td>\n",
              "      <td>...</td>\n",
              "      <td>NaN</td>\n",
              "      <td>NaN</td>\n",
              "      <td>NaN</td>\n",
              "      <td>NaN</td>\n",
              "      <td>NaN</td>\n",
              "      <td>NaN</td>\n",
              "      <td>NaN</td>\n",
              "      <td>NaN</td>\n",
              "      <td>NaN</td>\n",
              "      <td>NaN</td>\n",
              "    </tr>\n",
              "    <tr>\n",
              "      <th>4</th>\n",
              "      <td>06-12-2021</td>\n",
              "      <td>30.0</td>\n",
              "      <td>55.0</td>\n",
              "      <td>2.0</td>\n",
              "      <td>2.0</td>\n",
              "      <td>0.0</td>\n",
              "      <td>1.0</td>\n",
              "      <td>Jakarta Pusat</td>\n",
              "      <td>SHM</td>\n",
              "      <td>2200.0</td>\n",
              "      <td>...</td>\n",
              "      <td>NaN</td>\n",
              "      <td>NaN</td>\n",
              "      <td>NaN</td>\n",
              "      <td>NaN</td>\n",
              "      <td>NaN</td>\n",
              "      <td>NaN</td>\n",
              "      <td>NaN</td>\n",
              "      <td>NaN</td>\n",
              "      <td>NaN</td>\n",
              "      <td>NaN</td>\n",
              "    </tr>\n",
              "  </tbody>\n",
              "</table>\n",
              "<p>5 rows × 26 columns</p>\n",
              "</div>\n",
              "      <button class=\"colab-df-convert\" onclick=\"convertToInteractive('df-6fe678fc-f8b4-47bf-93a3-a0158a651c1e')\"\n",
              "              title=\"Convert this dataframe to an interactive table.\"\n",
              "              style=\"display:none;\">\n",
              "        \n",
              "  <svg xmlns=\"http://www.w3.org/2000/svg\" height=\"24px\"viewBox=\"0 0 24 24\"\n",
              "       width=\"24px\">\n",
              "    <path d=\"M0 0h24v24H0V0z\" fill=\"none\"/>\n",
              "    <path d=\"M18.56 5.44l.94 2.06.94-2.06 2.06-.94-2.06-.94-.94-2.06-.94 2.06-2.06.94zm-11 1L8.5 8.5l.94-2.06 2.06-.94-2.06-.94L8.5 2.5l-.94 2.06-2.06.94zm10 10l.94 2.06.94-2.06 2.06-.94-2.06-.94-.94-2.06-.94 2.06-2.06.94z\"/><path d=\"M17.41 7.96l-1.37-1.37c-.4-.4-.92-.59-1.43-.59-.52 0-1.04.2-1.43.59L10.3 9.45l-7.72 7.72c-.78.78-.78 2.05 0 2.83L4 21.41c.39.39.9.59 1.41.59.51 0 1.02-.2 1.41-.59l7.78-7.78 2.81-2.81c.8-.78.8-2.07 0-2.86zM5.41 20L4 18.59l7.72-7.72 1.47 1.35L5.41 20z\"/>\n",
              "  </svg>\n",
              "      </button>\n",
              "      \n",
              "  <style>\n",
              "    .colab-df-container {\n",
              "      display:flex;\n",
              "      flex-wrap:wrap;\n",
              "      gap: 12px;\n",
              "    }\n",
              "\n",
              "    .colab-df-convert {\n",
              "      background-color: #E8F0FE;\n",
              "      border: none;\n",
              "      border-radius: 50%;\n",
              "      cursor: pointer;\n",
              "      display: none;\n",
              "      fill: #1967D2;\n",
              "      height: 32px;\n",
              "      padding: 0 0 0 0;\n",
              "      width: 32px;\n",
              "    }\n",
              "\n",
              "    .colab-df-convert:hover {\n",
              "      background-color: #E2EBFA;\n",
              "      box-shadow: 0px 1px 2px rgba(60, 64, 67, 0.3), 0px 1px 3px 1px rgba(60, 64, 67, 0.15);\n",
              "      fill: #174EA6;\n",
              "    }\n",
              "\n",
              "    [theme=dark] .colab-df-convert {\n",
              "      background-color: #3B4455;\n",
              "      fill: #D2E3FC;\n",
              "    }\n",
              "\n",
              "    [theme=dark] .colab-df-convert:hover {\n",
              "      background-color: #434B5C;\n",
              "      box-shadow: 0px 1px 3px 1px rgba(0, 0, 0, 0.15);\n",
              "      filter: drop-shadow(0px 1px 2px rgba(0, 0, 0, 0.3));\n",
              "      fill: #FFFFFF;\n",
              "    }\n",
              "  </style>\n",
              "\n",
              "      <script>\n",
              "        const buttonEl =\n",
              "          document.querySelector('#df-6fe678fc-f8b4-47bf-93a3-a0158a651c1e button.colab-df-convert');\n",
              "        buttonEl.style.display =\n",
              "          google.colab.kernel.accessAllowed ? 'block' : 'none';\n",
              "\n",
              "        async function convertToInteractive(key) {\n",
              "          const element = document.querySelector('#df-6fe678fc-f8b4-47bf-93a3-a0158a651c1e');\n",
              "          const dataTable =\n",
              "            await google.colab.kernel.invokeFunction('convertToInteractive',\n",
              "                                                     [key], {});\n",
              "          if (!dataTable) return;\n",
              "\n",
              "          const docLinkHtml = 'Like what you see? Visit the ' +\n",
              "            '<a target=\"_blank\" href=https://colab.research.google.com/notebooks/data_table.ipynb>data table notebook</a>'\n",
              "            + ' to learn more about interactive tables.';\n",
              "          element.innerHTML = '';\n",
              "          dataTable['output_type'] = 'display_data';\n",
              "          await google.colab.output.renderOutput(dataTable, element);\n",
              "          const docLink = document.createElement('div');\n",
              "          docLink.innerHTML = docLinkHtml;\n",
              "          element.appendChild(docLink);\n",
              "        }\n",
              "      </script>\n",
              "    </div>\n",
              "  </div>\n",
              "  "
            ]
          },
          "metadata": {},
          "execution_count": 31
        }
      ]
    },
    {
      "cell_type": "code",
      "source": [
        "dfJ2 = dfJ.iloc[0:121, 0:12]\n",
        "dfD2 = dfD.iloc[0:118, 0:12]\n",
        "dfB2 = dfB.iloc[0:193, 0:12]\n",
        "dfT2 = dfT.iloc[0:124, 0:12]\n",
        "dfX2 = dfX.iloc[0:107, 0:12]\n",
        "\n",
        "dfJ3 = dfJ2.drop(dfJ2.columns[[0,10]],axis = 1)\n",
        "dfD3 = dfD2.drop(dfD2.columns[[0,10]],axis = 1)\n",
        "dfB3 = dfB2.drop(dfB2.columns[[0,10]],axis = 1)\n",
        "dfT3 = dfT2.drop(dfT2.columns[[0,10]],axis = 1)\n",
        "dfX3 = dfX2.drop(dfX2.columns[[0,10]],axis = 1)\n",
        "print(dfJ3)\n",
        "print(dfD3)\n",
        "print(dfB3)\n",
        "print(dfT3)\n",
        "print(dfX3)"
      ],
      "metadata": {
        "colab": {
          "base_uri": "https://localhost:8080/"
        },
        "id": "huOGbIvhMkqe",
        "outputId": "4ecd33e6-df07-43dc-9274-431bbed6c742"
      },
      "execution_count": null,
      "outputs": [
        {
          "output_type": "stream",
          "name": "stdout",
          "text": [
            "        LT     LB   KT   KM  garasi  carport         lokasi sertifikat  \\\n",
            "0    202.0  198.0  8.0  3.0     0.0      0.0  Jakarta Pusat        SHM   \n",
            "1     30.0   55.0  2.0  1.0     0.0      1.0  Jakarta Pusat        SHM   \n",
            "2     19.0   35.0  2.0  1.0     0.0      0.0  Jakarta Pusat        SHM   \n",
            "3     33.0   42.0  2.0  2.0     0.0      1.0  Jakarta Pusat        SHM   \n",
            "4     30.0   55.0  2.0  2.0     0.0      1.0  Jakarta Pusat        SHM   \n",
            "..     ...    ...  ...  ...     ...      ...            ...        ...   \n",
            "116  220.0  239.0  5.0  4.0     1.0      2.0  Jakarta Timur       PPJB   \n",
            "117   70.0   57.0  3.0  2.0     0.0      2.0  Jakarta Timur        SHM   \n",
            "118  315.0  280.0  4.0  3.0     1.0      2.0  Jakarta Timur  SHM + IMB   \n",
            "119  135.0  190.0  5.0  5.0     0.0      2.0  Jakarta Timur  SHM + IMB   \n",
            "120  144.0  250.0  5.0  5.0     0.0      2.0  Jakarta Timur        SHM   \n",
            "\n",
            "     listrik         harga  \n",
            "0     2200.0  4.500000e+09  \n",
            "1     2200.0  1.100000e+09  \n",
            "2     2200.0  3.950000e+08  \n",
            "3     2200.0  8.350000e+08  \n",
            "4     2200.0  1.100000e+09  \n",
            "..       ...           ...  \n",
            "116   3500.0  3.850000e+09  \n",
            "117   2200.0  8.800000e+08  \n",
            "118   3500.0  4.300000e+09  \n",
            "119   2200.0  3.400000e+09  \n",
            "120   3500.0  2.250000e+09  \n",
            "\n",
            "[121 rows x 10 columns]\n",
            "      LT     LB   KT   KM  garasi  carport     lokasi sertifikat  listrik  \\\n",
            "0    165  200.0  4.0  2.0     0.0      1.0  Sukmajaya        SHM   2200.0   \n",
            "1     50   45.0  2.0  1.0     0.0      0.0   Cipayung        SHM   1300.0   \n",
            "2     50   36.0  2.0  1.0     0.0      1.0   Sawangan        SHM   1300.0   \n",
            "3     50   45.0  2.0  1.0     0.0      0.0  Cimanggis        SHM   1300.0   \n",
            "4     72   45.0  2.0  1.0     0.0      1.0   Sawangan        SHM   1300.0   \n",
            "..   ...    ...  ...  ...     ...      ...        ...        ...      ...   \n",
            "113   79  115.0  2.0  1.0     1.0      1.0  Sukmajaya        SHM      NaN   \n",
            "114   72   45.0  2.0  1.0     0.0      1.0  Cimanggis        SHM      NaN   \n",
            "115   40   40.0  2.0  1.0     0.0      0.0   Cipayung        SHM   1300.0   \n",
            "116   50   50.0  2.0  1.0     0.0      0.0   Cipayung        SHM   1300.0   \n",
            "117  100   15.0  3.0  3.0     1.0      1.0     Cinere        SHM   3500.0   \n",
            "\n",
            "      harga  \n",
            "0    2100.0  \n",
            "1     250.0  \n",
            "2     250.0  \n",
            "3     250.0  \n",
            "4     350.0  \n",
            "..      ...  \n",
            "113   750.0  \n",
            "114  1000.0  \n",
            "115   195.0  \n",
            "116   185.0  \n",
            "117  1750.0  \n",
            "\n",
            "[118 rows x 10 columns]\n",
            "        LT     LB   KT   KM  garasi  carport          lokasi sertifikat  \\\n",
            "0     75.0   38.0  2.0  1.0     1.0      1.0      Bojonggede        SHM   \n",
            "1     60.0   40.0  1.0  1.0     0.0      1.0  Babakan Madang        SHM   \n",
            "2     60.0   50.0  2.0  2.0     0.0      1.0  Babakan Madang        SHM   \n",
            "3     60.0   70.0  3.0  2.0     0.0      1.0  Babakan Madang        SHM   \n",
            "4     90.0   60.0  3.0  2.0     0.0      2.0  Babakan Madang        SHM   \n",
            "..     ...    ...  ...  ...     ...      ...             ...        ...   \n",
            "188   90.0   36.0  2.0  1.0     0.0      1.0    Gunung Putri        SHM   \n",
            "189  107.0   31.0  2.0  1.0     0.0      1.0        Sukaraja        SHM   \n",
            "190  210.0  150.0  4.0  2.0     1.0      1.0   Bogor Selatan        SHM   \n",
            "191   90.0   36.0  2.0  1.0     0.0      1.0       Cileungsi        SHM   \n",
            "192   72.0   90.0  3.0  2.0     1.0      1.0        Cibinong        SHM   \n",
            "\n",
            "     listrik         harga  \n",
            "0     1300.0  6.925500e+08  \n",
            "1     2200.0  8.114000e+08  \n",
            "2     2200.0  9.005000e+08  \n",
            "3     2200.0  1.001900e+09  \n",
            "4     2200.0  1.200800e+09  \n",
            "..       ...           ...  \n",
            "188   1300.0  4.405500e+08  \n",
            "189   1300.0  4.086500e+08  \n",
            "190   2200.0  1.200000e+09  \n",
            "191   1300.0  4.405500e+08  \n",
            "192   2200.0  9.000000e+08  \n",
            "\n",
            "[193 rows x 10 columns]\n",
            "        LT     LB   KT   KM  garasi  carport                     lokasi  \\\n",
            "0     60.0   50.0  3.0  2.0     0.0      0.0        BSD CITY, TANGERANG   \n",
            "1     72.0   54.0  2.0  1.0     1.0      1.0          CISAUK, TANGERANG   \n",
            "2     60.0   48.0  3.0  2.0     2.0      2.0         CILEDUG, TANGERANG   \n",
            "3    200.0  225.0  5.0  4.0     0.0      0.0  LIPPO KARAWACI, TANGERANG   \n",
            "4     76.0  123.0  3.0  3.0     0.0      2.0     PONDOK CABE, TANGERANG   \n",
            "..     ...    ...  ...  ...     ...      ...                        ...   \n",
            "119   60.0   55.0  2.0  2.0     0.0      1.0  LIPPO KARAWACI, TANGERANG   \n",
            "120   66.0   70.0  3.0  2.0     0.0      1.0          Ciater, Tangerang   \n",
            "121  202.0   85.0  4.0  3.0     1.0      1.0  BSD Griya Loka, Tangerang   \n",
            "122  108.0  130.0  3.0  3.0     1.0      1.0      Pagedangan, Tangerang   \n",
            "123   91.0   91.0  3.0  2.0     0.0      0.0           Poris, Tangerang   \n",
            "\n",
            "                          sertifikat  listrik   harga  \n",
            "0                                SHM   1300.0   500.0  \n",
            "1                                SHM   1300.0   480.0  \n",
            "2                                SHM   2200.0   600.0  \n",
            "3                                SHM   5500.0  4250.0  \n",
            "4                                SHM   2200.0  1700.0  \n",
            "..                               ...      ...     ...  \n",
            "119  lainnya(PPJB, GIRIK, ADAT, dll)   2200.0   711.0  \n",
            "120                              SHM   1300.0   850.0  \n",
            "121                              SHM   2200.0  1860.0  \n",
            "122                              SHM   2200.0  1800.0  \n",
            "123                              SHM   3500.0  1000.0  \n",
            "\n",
            "[124 rows x 10 columns]\n",
            "        LT     LB   KT   KM  garasi  carport            lokasi sertifikat  \\\n",
            "0     71.0   43.0  2.0  1.0     0.0      1.0  Kabupaten Bekasi        SHM   \n",
            "1     59.0   60.0  2.0  1.0     0.0      1.0  Kabupaten Bekasi        SHM   \n",
            "2    124.0   95.0  2.0  1.0     0.0      1.0  Kabupaten Bekasi        SHM   \n",
            "3    144.0  100.0  2.0  1.0     0.0      1.0  Kabupaten Bekasi        SHM   \n",
            "4    108.0  100.0  3.0  2.0     0.0      1.0  Kabupaten Bekasi        SHM   \n",
            "..     ...    ...  ...  ...     ...      ...               ...        ...   \n",
            "102  180.0  220.0  5.0  3.0     0.0      0.0       Kota Bekasi        SHM   \n",
            "103  140.0  250.0  3.0  2.0     0.0      0.0  Kabupaten Bekasi        SHM   \n",
            "104   60.0   55.0  2.0  1.0     0.0      0.0  Kabupaten Bekasi        SHM   \n",
            "105   36.0   60.0  2.0  1.0     0.0      0.0  Kabupaten Bekasi        SHM   \n",
            "106   60.0   55.0  2.0  1.0     0.0      0.0  Kabupaten Bekasi        SHM   \n",
            "\n",
            "     listrik         harga  \n",
            "0     1300.0  5.500000e+08  \n",
            "1        NaN  4.400000e+08  \n",
            "2        NaN  6.990000e+08  \n",
            "3     2200.0  1.350000e+09  \n",
            "4     2200.0  1.400000e+09  \n",
            "..       ...           ...  \n",
            "102   2200.0  1.600000e+09  \n",
            "103   2200.0  8.500000e+08  \n",
            "104   1300.0  2.500000e+08  \n",
            "105   1300.0  3.000000e+08  \n",
            "106   1300.0  2.500000e+08  \n",
            "\n",
            "[107 rows x 10 columns]\n"
          ]
        }
      ]
    },
    {
      "cell_type": "code",
      "source": [
        "dfJ3.dtypes"
      ],
      "metadata": {
        "colab": {
          "base_uri": "https://localhost:8080/"
        },
        "id": "6aJwehZOVFRk",
        "outputId": "599235e7-a26d-4266-e404-dd11c9c284c5"
      },
      "execution_count": null,
      "outputs": [
        {
          "output_type": "execute_result",
          "data": {
            "text/plain": [
              "LT             float64\n",
              "LB             float64\n",
              "KT             float64\n",
              "KM             float64\n",
              "garasi         float64\n",
              "carport        float64\n",
              "lokasi        category\n",
              "sertifikat    category\n",
              "listrik        float64\n",
              "harga          float64\n",
              "dtype: object"
            ]
          },
          "metadata": {},
          "execution_count": 75
        }
      ]
    },
    {
      "cell_type": "code",
      "source": [
        "dfJ3['lokasi'] = dfJ3['lokasi'].astype('category')\n",
        "dfJ3['sertifikat'] = dfJ3['sertifikat'].astype('category')"
      ],
      "metadata": {
        "id": "_0kDD3fVZF4K"
      },
      "execution_count": null,
      "outputs": []
    },
    {
      "cell_type": "code",
      "source": [
        "dfD3.dtypes"
      ],
      "metadata": {
        "colab": {
          "base_uri": "https://localhost:8080/"
        },
        "id": "y4fKfHOSaJGb",
        "outputId": "cf97aded-215c-4f91-a6b7-b41fef7e334b"
      },
      "execution_count": null,
      "outputs": [
        {
          "output_type": "execute_result",
          "data": {
            "text/plain": [
              "LT            category\n",
              "LB             float64\n",
              "KT             float64\n",
              "KM             float64\n",
              "garasi         float64\n",
              "carport        float64\n",
              "lokasi        category\n",
              "sertifikat    category\n",
              "listrik        float64\n",
              "harga          float64\n",
              "dtype: object"
            ]
          },
          "metadata": {},
          "execution_count": 78
        }
      ]
    },
    {
      "cell_type": "code",
      "source": [
        "dfD3['LT'] = dfD3['LT'].astype('category')\n",
        "dfD3['lokasi'] = dfD3['lokasi'].astype('category')\n",
        "dfD3['sertifikat'] = dfD3['sertifikat'].astype('category')"
      ],
      "metadata": {
        "id": "oYYNCjrsaT0-"
      },
      "execution_count": null,
      "outputs": []
    },
    {
      "cell_type": "code",
      "source": [
        "dfB3.dtypes"
      ],
      "metadata": {
        "colab": {
          "base_uri": "https://localhost:8080/"
        },
        "id": "36HxmdBFaebL",
        "outputId": "b2fcd700-a3c7-4c9b-957f-92f22c2c4ed5"
      },
      "execution_count": null,
      "outputs": [
        {
          "output_type": "execute_result",
          "data": {
            "text/plain": [
              "LT             float64\n",
              "LB             float64\n",
              "KT             float64\n",
              "KM             float64\n",
              "garasi         float64\n",
              "carport        float64\n",
              "lokasi        category\n",
              "sertifikat    category\n",
              "listrik        float64\n",
              "harga          float64\n",
              "dtype: object"
            ]
          },
          "metadata": {},
          "execution_count": 81
        }
      ]
    },
    {
      "cell_type": "code",
      "source": [
        "dfB3['lokasi'] = dfB3['lokasi'].astype('category')\n",
        "dfB3['sertifikat'] = dfB3['sertifikat'].astype('category')"
      ],
      "metadata": {
        "id": "50S_-GDrakWI"
      },
      "execution_count": null,
      "outputs": []
    },
    {
      "cell_type": "code",
      "source": [
        "dfT3.dtypes"
      ],
      "metadata": {
        "colab": {
          "base_uri": "https://localhost:8080/"
        },
        "id": "sSW4C384anYA",
        "outputId": "da8c2cd0-9fd5-4ec8-98da-cb1b88b4ae34"
      },
      "execution_count": null,
      "outputs": [
        {
          "output_type": "execute_result",
          "data": {
            "text/plain": [
              "LT             float64\n",
              "LB             float64\n",
              "KT             float64\n",
              "KM             float64\n",
              "garasi         float64\n",
              "carport        float64\n",
              "lokasi        category\n",
              "sertifikat    category\n",
              "listrik        float64\n",
              "harga          float64\n",
              "dtype: object"
            ]
          },
          "metadata": {},
          "execution_count": 84
        }
      ]
    },
    {
      "cell_type": "code",
      "source": [
        "dfT3['lokasi'] = dfT3['lokasi'].astype('category')\n",
        "dfT3['sertifikat'] = dfT3['sertifikat'].astype('category')"
      ],
      "metadata": {
        "id": "_XmYLGotarLY"
      },
      "execution_count": null,
      "outputs": []
    },
    {
      "cell_type": "code",
      "source": [
        "dfX3.dtypes"
      ],
      "metadata": {
        "colab": {
          "base_uri": "https://localhost:8080/"
        },
        "id": "kZso8sQVavF4",
        "outputId": "78424723-141e-4e49-fa28-4cbb36f46917"
      },
      "execution_count": null,
      "outputs": [
        {
          "output_type": "execute_result",
          "data": {
            "text/plain": [
              "LT             float64\n",
              "LB             float64\n",
              "KT             float64\n",
              "KM             float64\n",
              "garasi         float64\n",
              "carport        float64\n",
              "lokasi        category\n",
              "sertifikat    category\n",
              "listrik        float64\n",
              "harga          float64\n",
              "dtype: object"
            ]
          },
          "metadata": {},
          "execution_count": 87
        }
      ]
    },
    {
      "cell_type": "code",
      "source": [
        "dfX3['lokasi'] = dfX3['lokasi'].astype('category')\n",
        "dfX3['sertifikat'] = dfX3['sertifikat'].astype('category')"
      ],
      "metadata": {
        "id": "VlQ8AvxCaxAZ"
      },
      "execution_count": null,
      "outputs": []
    },
    {
      "cell_type": "code",
      "source": [
        "print(dfJ3.shape)\n",
        "dfJ3.duplicated().sum()\n"
      ],
      "metadata": {
        "colab": {
          "base_uri": "https://localhost:8080/"
        },
        "id": "hAoeF78dZrws",
        "outputId": "77974818-47d7-43cd-bd9e-3c976d84dd44"
      },
      "execution_count": null,
      "outputs": [
        {
          "output_type": "stream",
          "name": "stdout",
          "text": [
            "(121, 10)\n"
          ]
        },
        {
          "output_type": "execute_result",
          "data": {
            "text/plain": [
              "0"
            ]
          },
          "metadata": {},
          "execution_count": 90
        }
      ]
    },
    {
      "cell_type": "code",
      "source": [
        "\n",
        "print(dfD3.shape)\n",
        "dfD3.duplicated().sum()\n",
        "\n"
      ],
      "metadata": {
        "colab": {
          "base_uri": "https://localhost:8080/"
        },
        "id": "w_W4Y4fnZ9Cx",
        "outputId": "0955378f-335c-430e-a356-079d292910ed"
      },
      "execution_count": null,
      "outputs": [
        {
          "output_type": "stream",
          "name": "stdout",
          "text": [
            "(106, 10)\n"
          ]
        },
        {
          "output_type": "execute_result",
          "data": {
            "text/plain": [
              "0"
            ]
          },
          "metadata": {},
          "execution_count": 95
        }
      ]
    },
    {
      "cell_type": "code",
      "source": [
        "dfD3.drop_duplicates(inplace=True)\n",
        "print(dfD3.duplicated().sum())"
      ],
      "metadata": {
        "colab": {
          "base_uri": "https://localhost:8080/"
        },
        "id": "0-f7XLawbOWy",
        "outputId": "3d0c242e-a37a-43f3-c434-739e5f8b4501"
      },
      "execution_count": null,
      "outputs": [
        {
          "output_type": "stream",
          "name": "stdout",
          "text": [
            "0\n"
          ]
        }
      ]
    },
    {
      "cell_type": "code",
      "source": [
        "print(dfB3.shape)\n",
        "dfB3.duplicated().sum()\n",
        "\n"
      ],
      "metadata": {
        "colab": {
          "base_uri": "https://localhost:8080/"
        },
        "id": "o064apVMa_nq",
        "outputId": "fdac559b-0d53-4570-e3a6-9da6d10d1e2d"
      },
      "execution_count": null,
      "outputs": [
        {
          "output_type": "stream",
          "name": "stdout",
          "text": [
            "(191, 10)\n"
          ]
        },
        {
          "output_type": "execute_result",
          "data": {
            "text/plain": [
              "0"
            ]
          },
          "metadata": {},
          "execution_count": 97
        }
      ]
    },
    {
      "cell_type": "code",
      "source": [
        "dfB3.drop_duplicates(inplace=True)\n",
        "print(dfB3.duplicated().sum())"
      ],
      "metadata": {
        "colab": {
          "base_uri": "https://localhost:8080/"
        },
        "id": "yWSoQziAbbLh",
        "outputId": "1827937c-e685-4f2a-9f26-6132f95cb785"
      },
      "execution_count": null,
      "outputs": [
        {
          "output_type": "stream",
          "name": "stdout",
          "text": [
            "0\n"
          ]
        }
      ]
    },
    {
      "cell_type": "code",
      "source": [
        "print(dfT3.shape)\n",
        "dfT3.duplicated().sum()\n"
      ],
      "metadata": {
        "colab": {
          "base_uri": "https://localhost:8080/"
        },
        "id": "XLqDolgAbAOR",
        "outputId": "b9b6457d-1a05-4c80-9689-fc225dac959e"
      },
      "execution_count": null,
      "outputs": [
        {
          "output_type": "stream",
          "name": "stdout",
          "text": [
            "(122, 10)\n"
          ]
        },
        {
          "output_type": "execute_result",
          "data": {
            "text/plain": [
              "0"
            ]
          },
          "metadata": {},
          "execution_count": 99
        }
      ]
    },
    {
      "cell_type": "code",
      "source": [
        "dfT3.drop_duplicates(inplace=True)\n",
        "print(dfT3.duplicated().sum())"
      ],
      "metadata": {
        "colab": {
          "base_uri": "https://localhost:8080/"
        },
        "id": "f9mr2V9zbePK",
        "outputId": "56fd8217-1254-44d3-c9f9-121eea6ff6c9"
      },
      "execution_count": null,
      "outputs": [
        {
          "output_type": "stream",
          "name": "stdout",
          "text": [
            "0\n"
          ]
        }
      ]
    },
    {
      "cell_type": "code",
      "source": [
        "\n",
        "print(dfX3.shape)\n",
        "dfX3.duplicated().sum()"
      ],
      "metadata": {
        "colab": {
          "base_uri": "https://localhost:8080/"
        },
        "id": "hzwNSGwBbBGy",
        "outputId": "b729cd42-cf2a-4858-a6a0-a5266b619fc4"
      },
      "execution_count": null,
      "outputs": [
        {
          "output_type": "stream",
          "name": "stdout",
          "text": [
            "(103, 10)\n"
          ]
        },
        {
          "output_type": "execute_result",
          "data": {
            "text/plain": [
              "0"
            ]
          },
          "metadata": {},
          "execution_count": 101
        }
      ]
    },
    {
      "cell_type": "code",
      "source": [
        "dfX3.drop_duplicates(inplace=True)\n",
        "print(dfX3.duplicated().sum())"
      ],
      "metadata": {
        "colab": {
          "base_uri": "https://localhost:8080/"
        },
        "id": "M_jOZfmqbhTz",
        "outputId": "372da7f4-4c4f-42bc-9d58-d735137b3463"
      },
      "execution_count": null,
      "outputs": [
        {
          "output_type": "stream",
          "name": "stdout",
          "text": [
            "0\n"
          ]
        }
      ]
    },
    {
      "cell_type": "code",
      "source": [
        "p= sns.catplot(x=\"lokasi\", y=\"harga\", data=dfJ3)\n",
        "# Apa yang bisa dilihat dari hasil ini?"
      ],
      "metadata": {
        "colab": {
          "base_uri": "https://localhost:8080/",
          "height": 365
        },
        "id": "sBhHGC-UcLg3",
        "outputId": "dd9b594f-9ee0-4d4f-d06e-8f8a882a202d"
      },
      "execution_count": null,
      "outputs": [
        {
          "output_type": "display_data",
          "data": {
            "text/plain": [
              "<Figure size 360x360 with 1 Axes>"
            ],
            "image/png": "[encoded data removed]"
          },
          "metadata": {}
        }
      ]
    },
    {
      "cell_type": "markdown",
      "source": [
        "Terlihat bahwa ada kecenderungan harga rumah di Kota Jakarta Selatan lebih mahal di Provinsi DKI Jakarta"
      ],
      "metadata": {
        "id": "8imu2KAfcWRO"
      }
    },
    {
      "cell_type": "code",
      "source": [
        "p= sns.catplot(x=\"lokasi\", y=\"harga\", data=dfB3)\n",
        "# Apa yang bisa dilihat dari hasil ini?"
      ],
      "metadata": {
        "colab": {
          "base_uri": "https://localhost:8080/",
          "height": 365
        },
        "id": "KGY3J1vZc_I-",
        "outputId": "e20eeb95-27e3-4e27-e9b5-a421d6fffb06"
      },
      "execution_count": null,
      "outputs": [
        {
          "output_type": "display_data",
          "data": {
            "text/plain": [
              "<Figure size 360x360 with 1 Axes>"
            ],
            "image/png": "[encoded data removed]"
          },
          "metadata": {}
        }
      ]
    },
    {
      "cell_type": "code",
      "source": [
        "p= sns.catplot(x=\"lokasi\", y=\"harga\", data=dfT3)\n",
        "# Apa yang bisa dilihat dari hasil ini?"
      ],
      "metadata": {
        "id": "wxYAw-TbenJl",
        "colab": {
          "base_uri": "https://localhost:8080/",
          "height": 365
        },
        "outputId": "ccfcfb83-d2ac-40a9-db4c-b9df353a4117"
      },
      "execution_count": null,
      "outputs": [
        {
          "output_type": "display_data",
          "data": {
            "text/plain": [
              "<Figure size 360x360 with 1 Axes>"
            ],
            "image/png": "[encoded data removed]"
          },
          "metadata": {}
        }
      ]
    },
    {
      "cell_type": "code",
      "source": [
        "p= sns.catplot(x=\"lokasi\", y=\"harga\", data=dfX3)\n",
        "# Apa yang bisa dilihat dari hasil ini?"
      ],
      "metadata": {
        "id": "niIdSTNCerJ1",
        "colab": {
          "base_uri": "https://localhost:8080/",
          "height": 365
        },
        "outputId": "51591ebd-d526-4dae-c251-fe6a3c957e31"
      },
      "execution_count": null,
      "outputs": [
        {
          "output_type": "display_data",
          "data": {
            "text/plain": [
              "<Figure size 360x360 with 1 Axes>"
            ],
            "image/png": "[encoded data removed]"
          },
          "metadata": {}
        }
      ]
    },
    {
      "cell_type": "code",
      "source": [
        "p= sns.catplot(x=\"lokasi\", y=\"harga\", data=dfD3)\n",
        "# Apa yang bisa dilihat dari hasil ini?"
      ],
      "metadata": {
        "id": "nsnT-N7perVa",
        "colab": {
          "base_uri": "https://localhost:8080/",
          "height": 365
        },
        "outputId": "8e2fa826-97d6-46f8-8053-7dd3cd215f22"
      },
      "execution_count": null,
      "outputs": [
        {
          "output_type": "display_data",
          "data": {
            "text/plain": [
              "<Figure size 360x360 with 1 Axes>"
            ],
            "image/png": "[encoded data removed]"
          },
          "metadata": {}
        }
      ]
    },
    {
      "cell_type": "markdown",
      "source": [
        "Di studi kasus pertama, anda mendapat bantuan keterangan dari manajemen. Setelah berdiskusi over lunch dengan beberapa manager senior, anda mendengar bahwa mereka ingin mengetahui:\n",
        "\n",
        "1. Kualitas data yang dimiliki perusahaan.\n",
        "2. Apakah ada saran perbaikan data ke DE/DBA perusahaan agar RPPI menjadi data driven company yang unggul.\n",
        "3. Dari data yang ada, apakah ada kecenderungan rumah disuatu kota lebih mahal/murah dibandingkan kota lain?\n",
        "4. Dari data yang ada, apakah bisa dibuat rekomendasi sebaiknya RPPI membuat kantor cabang berikutnya di kota mana? Mengapa? (Asumsikan RPPI belum memiliki cabang di kota-kota yang disebutkan di data).\n",
        "5. Rumah dengan karakteristik seperti apa yang paling banyak dijual?\n",
        "6. Jika RPPI ingin melakukan investasi (max) Rp. 25 Milyar minggu besok, apakah dari data anda dapat memberikan rekomendasi rumah mana saja yang akan berpotensi menghasilkan keuntungan bagi perusahaan?\n",
        "7. Dan yang terpenting, informasi berharga apa lagi yang bisa anda dapatkan dari data?"
      ],
      "metadata": {
        "id": "7PeJMcQ0br-x"
      }
    },
    {
      "cell_type": "markdown",
      "source": [
        "Jawab:\n",
        "\n",
        "1. Kualitas data missing valuenya cukup baik. Namun banyak sehingga perlu dihilangkan terlebih dahulu"
      ],
      "metadata": {
        "id": "aby-95_lbuCc"
      }
    }
  ],
  "metadata": {
    "colab": {
      "provenance": [],
      "include_colab_link": true
    },
    "kernelspec": {
      "display_name": "Python 3",
      "name": "python3"
    },
    "language_info": {
      "name": "python"
    }
  },
  "nbformat": 4,
  "nbformat_minor": 0
}