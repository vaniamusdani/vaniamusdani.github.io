{
  "cells": [
    {
      "cell_type": "markdown",
      "metadata": {
        "id": "view-in-github",
        "colab_type": "text"
      },
      "source": [
        "<a href=\"https://colab.research.google.com/github/vaniamusdani/vaniamusdani.github.io/blob/main/LSTM_90_10.ipynb\" target=\"_parent\"><img src=\"https://colab.research.google.com/assets/colab-badge.svg\" alt=\"Open In Colab\"/></a>"
      ]
    },
    {
      "cell_type": "markdown",
      "metadata": {
        "id": "f18Vb9OTeTGG"
      },
      "source": [
        "# **Import Library**"
      ]
    },
    {
      "cell_type": "code",
      "execution_count": null,
      "metadata": {
        "id": "Ti6Q0ffcM04L"
      },
      "outputs": [],
      "source": [
        "import math\n",
        "import numpy as np\n",
        "import pandas as pd\n",
        "from google.colab import files\n",
        "from sklearn.preprocessing import MinMaxScaler\n",
        "from keras.models import Sequential\n",
        "from keras.layers import Dense, LSTM\n",
        "import matplotlib.pyplot as plt\n",
        "plt.style.use('fivethirtyeight')"
      ]
    },
    {
      "cell_type": "markdown",
      "metadata": {
        "id": "gxu5tBBveV8x"
      },
      "source": [
        "# **Import Data**"
      ]
    },
    {
      "cell_type": "code",
      "execution_count": null,
      "metadata": {
        "colab": {
          "base_uri": "https://localhost:8080/",
          "height": 424
        },
        "id": "2hOqfqN3T_zy",
        "outputId": "f48b1c81-f846-4ec8-bd3f-595c5e3d3ccd"
      },
      "outputs": [
        {
          "data": {
            "text/html": [
              "\n",
              "  <div id=\"df-4a8f8512-10c6-4fc6-946d-1ad2341d36c1\" class=\"colab-df-container\">\n",
              "    <div>\n",
              "<style scoped>\n",
              "    .dataframe tbody tr th:only-of-type {\n",
              "        vertical-align: middle;\n",
              "    }\n",
              "\n",
              "    .dataframe tbody tr th {\n",
              "        vertical-align: top;\n",
              "    }\n",
              "\n",
              "    .dataframe thead th {\n",
              "        text-align: right;\n",
              "    }\n",
              "</style>\n",
              "<table border=\"1\" class=\"dataframe\">\n",
              "  <thead>\n",
              "    <tr style=\"text-align: right;\">\n",
              "      <th></th>\n",
              "      <th>Date</th>\n",
              "      <th>Price</th>\n",
              "    </tr>\n",
              "  </thead>\n",
              "  <tbody>\n",
              "    <tr>\n",
              "      <th>0</th>\n",
              "      <td>2018-01-01</td>\n",
              "      <td>12783.678065</td>\n",
              "    </tr>\n",
              "    <tr>\n",
              "      <th>1</th>\n",
              "      <td>2018-02-01</td>\n",
              "      <td>12908.028646</td>\n",
              "    </tr>\n",
              "    <tr>\n",
              "      <th>2</th>\n",
              "      <td>2018-03-01</td>\n",
              "      <td>12797.553737</td>\n",
              "    </tr>\n",
              "    <tr>\n",
              "      <th>3</th>\n",
              "      <td>2018-04-01</td>\n",
              "      <td>12689.833424</td>\n",
              "    </tr>\n",
              "    <tr>\n",
              "      <th>4</th>\n",
              "      <td>2018-05-01</td>\n",
              "      <td>12604.199886</td>\n",
              "    </tr>\n",
              "    <tr>\n",
              "      <th>...</th>\n",
              "      <td>...</td>\n",
              "      <td>...</td>\n",
              "    </tr>\n",
              "    <tr>\n",
              "      <th>65</th>\n",
              "      <td>2023-06-01</td>\n",
              "      <td>13657.195180</td>\n",
              "    </tr>\n",
              "    <tr>\n",
              "      <th>66</th>\n",
              "      <td>2023-07-01</td>\n",
              "      <td>13680.269258</td>\n",
              "    </tr>\n",
              "    <tr>\n",
              "      <th>67</th>\n",
              "      <td>2023-08-01</td>\n",
              "      <td>13871.605208</td>\n",
              "    </tr>\n",
              "    <tr>\n",
              "      <th>68</th>\n",
              "      <td>2023-09-01</td>\n",
              "      <td>14582.197472</td>\n",
              "    </tr>\n",
              "    <tr>\n",
              "      <th>69</th>\n",
              "      <td>2023-10-01</td>\n",
              "      <td>15008.982278</td>\n",
              "    </tr>\n",
              "  </tbody>\n",
              "</table>\n",
              "<p>70 rows × 2 columns</p>\n",
              "</div>\n",
              "    <div class=\"colab-df-buttons\">\n",
              "\n",
              "  <div class=\"colab-df-container\">\n",
              "    <button class=\"colab-df-convert\" onclick=\"convertToInteractive('df-4a8f8512-10c6-4fc6-946d-1ad2341d36c1')\"\n",
              "            title=\"Convert this dataframe to an interactive table.\"\n",
              "            style=\"display:none;\">\n",
              "\n",
              "  <svg xmlns=\"http://www.w3.org/2000/svg\" height=\"24px\" viewBox=\"0 -960 960 960\">\n",
              "    <path d=\"M120-120v-720h720v720H120Zm60-500h600v-160H180v160Zm220 220h160v-160H400v160Zm0 220h160v-160H400v160ZM180-400h160v-160H180v160Zm440 0h160v-160H620v160ZM180-180h160v-160H180v160Zm440 0h160v-160H620v160Z\"/>\n",
              "  </svg>\n",
              "    </button>\n",
              "\n",
              "  <style>\n",
              "    .colab-df-container {\n",
              "      display:flex;\n",
              "      gap: 12px;\n",
              "    }\n",
              "\n",
              "    .colab-df-convert {\n",
              "      background-color: #E8F0FE;\n",
              "      border: none;\n",
              "      border-radius: 50%;\n",
              "      cursor: pointer;\n",
              "      display: none;\n",
              "      fill: #1967D2;\n",
              "      height: 32px;\n",
              "      padding: 0 0 0 0;\n",
              "      width: 32px;\n",
              "    }\n",
              "\n",
              "    .colab-df-convert:hover {\n",
              "      background-color: #E2EBFA;\n",
              "      box-shadow: 0px 1px 2px rgba(60, 64, 67, 0.3), 0px 1px 3px 1px rgba(60, 64, 67, 0.15);\n",
              "      fill: #174EA6;\n",
              "    }\n",
              "\n",
              "    .colab-df-buttons div {\n",
              "      margin-bottom: 4px;\n",
              "    }\n",
              "\n",
              "    [theme=dark] .colab-df-convert {\n",
              "      background-color: #3B4455;\n",
              "      fill: #D2E3FC;\n",
              "    }\n",
              "\n",
              "    [theme=dark] .colab-df-convert:hover {\n",
              "      background-color: #434B5C;\n",
              "      box-shadow: 0px 1px 3px 1px rgba(0, 0, 0, 0.15);\n",
              "      filter: drop-shadow(0px 1px 2px rgba(0, 0, 0, 0.3));\n",
              "      fill: #FFFFFF;\n",
              "    }\n",
              "  </style>\n",
              "\n",
              "    <script>\n",
              "      const buttonEl =\n",
              "        document.querySelector('#df-4a8f8512-10c6-4fc6-946d-1ad2341d36c1 button.colab-df-convert');\n",
              "      buttonEl.style.display =\n",
              "        google.colab.kernel.accessAllowed ? 'block' : 'none';\n",
              "\n",
              "      async function convertToInteractive(key) {\n",
              "        const element = document.querySelector('#df-4a8f8512-10c6-4fc6-946d-1ad2341d36c1');\n",
              "        const dataTable =\n",
              "          await google.colab.kernel.invokeFunction('convertToInteractive',\n",
              "                                                    [key], {});\n",
              "        if (!dataTable) return;\n",
              "\n",
              "        const docLinkHtml = 'Like what you see? Visit the ' +\n",
              "          '<a target=\"_blank\" href=https://colab.research.google.com/notebooks/data_table.ipynb>data table notebook</a>'\n",
              "          + ' to learn more about interactive tables.';\n",
              "        element.innerHTML = '';\n",
              "        dataTable['output_type'] = 'display_data';\n",
              "        await google.colab.output.renderOutput(dataTable, element);\n",
              "        const docLink = document.createElement('div');\n",
              "        docLink.innerHTML = docLinkHtml;\n",
              "        element.appendChild(docLink);\n",
              "      }\n",
              "    </script>\n",
              "  </div>\n",
              "\n",
              "\n",
              "<div id=\"df-b126f79b-d9e7-4c50-a808-4ebfcdd53b29\">\n",
              "  <button class=\"colab-df-quickchart\" onclick=\"quickchart('df-b126f79b-d9e7-4c50-a808-4ebfcdd53b29')\"\n",
              "            title=\"Suggest charts\"\n",
              "            style=\"display:none;\">\n",
              "\n",
              "<svg xmlns=\"http://www.w3.org/2000/svg\" height=\"24px\"viewBox=\"0 0 24 24\"\n",
              "     width=\"24px\">\n",
              "    <g>\n",
              "        <path d=\"M19 3H5c-1.1 0-2 .9-2 2v14c0 1.1.9 2 2 2h14c1.1 0 2-.9 2-2V5c0-1.1-.9-2-2-2zM9 17H7v-7h2v7zm4 0h-2V7h2v10zm4 0h-2v-4h2v4z\"/>\n",
              "    </g>\n",
              "</svg>\n",
              "  </button>\n",
              "\n",
              "<style>\n",
              "  .colab-df-quickchart {\n",
              "      --bg-color: #E8F0FE;\n",
              "      --fill-color: #1967D2;\n",
              "      --hover-bg-color: #E2EBFA;\n",
              "      --hover-fill-color: #174EA6;\n",
              "      --disabled-fill-color: #AAA;\n",
              "      --disabled-bg-color: #DDD;\n",
              "  }\n",
              "\n",
              "  [theme=dark] .colab-df-quickchart {\n",
              "      --bg-color: #3B4455;\n",
              "      --fill-color: #D2E3FC;\n",
              "      --hover-bg-color: #434B5C;\n",
              "      --hover-fill-color: #FFFFFF;\n",
              "      --disabled-bg-color: #3B4455;\n",
              "      --disabled-fill-color: #666;\n",
              "  }\n",
              "\n",
              "  .colab-df-quickchart {\n",
              "    background-color: var(--bg-color);\n",
              "    border: none;\n",
              "    border-radius: 50%;\n",
              "    cursor: pointer;\n",
              "    display: none;\n",
              "    fill: var(--fill-color);\n",
              "    height: 32px;\n",
              "    padding: 0;\n",
              "    width: 32px;\n",
              "  }\n",
              "\n",
              "  .colab-df-quickchart:hover {\n",
              "    background-color: var(--hover-bg-color);\n",
              "    box-shadow: 0 1px 2px rgba(60, 64, 67, 0.3), 0 1px 3px 1px rgba(60, 64, 67, 0.15);\n",
              "    fill: var(--button-hover-fill-color);\n",
              "  }\n",
              "\n",
              "  .colab-df-quickchart-complete:disabled,\n",
              "  .colab-df-quickchart-complete:disabled:hover {\n",
              "    background-color: var(--disabled-bg-color);\n",
              "    fill: var(--disabled-fill-color);\n",
              "    box-shadow: none;\n",
              "  }\n",
              "\n",
              "  .colab-df-spinner {\n",
              "    border: 2px solid var(--fill-color);\n",
              "    border-color: transparent;\n",
              "    border-bottom-color: var(--fill-color);\n",
              "    animation:\n",
              "      spin 1s steps(1) infinite;\n",
              "  }\n",
              "\n",
              "  @keyframes spin {\n",
              "    0% {\n",
              "      border-color: transparent;\n",
              "      border-bottom-color: var(--fill-color);\n",
              "      border-left-color: var(--fill-color);\n",
              "    }\n",
              "    20% {\n",
              "      border-color: transparent;\n",
              "      border-left-color: var(--fill-color);\n",
              "      border-top-color: var(--fill-color);\n",
              "    }\n",
              "    30% {\n",
              "      border-color: transparent;\n",
              "      border-left-color: var(--fill-color);\n",
              "      border-top-color: var(--fill-color);\n",
              "      border-right-color: var(--fill-color);\n",
              "    }\n",
              "    40% {\n",
              "      border-color: transparent;\n",
              "      border-right-color: var(--fill-color);\n",
              "      border-top-color: var(--fill-color);\n",
              "    }\n",
              "    60% {\n",
              "      border-color: transparent;\n",
              "      border-right-color: var(--fill-color);\n",
              "    }\n",
              "    80% {\n",
              "      border-color: transparent;\n",
              "      border-right-color: var(--fill-color);\n",
              "      border-bottom-color: var(--fill-color);\n",
              "    }\n",
              "    90% {\n",
              "      border-color: transparent;\n",
              "      border-bottom-color: var(--fill-color);\n",
              "    }\n",
              "  }\n",
              "</style>\n",
              "\n",
              "  <script>\n",
              "    async function quickchart(key) {\n",
              "      const quickchartButtonEl =\n",
              "        document.querySelector('#' + key + ' button');\n",
              "      quickchartButtonEl.disabled = true;  // To prevent multiple clicks.\n",
              "      quickchartButtonEl.classList.add('colab-df-spinner');\n",
              "      try {\n",
              "        const charts = await google.colab.kernel.invokeFunction(\n",
              "            'suggestCharts', [key], {});\n",
              "      } catch (error) {\n",
              "        console.error('Error during call to suggestCharts:', error);\n",
              "      }\n",
              "      quickchartButtonEl.classList.remove('colab-df-spinner');\n",
              "      quickchartButtonEl.classList.add('colab-df-quickchart-complete');\n",
              "    }\n",
              "    (() => {\n",
              "      let quickchartButtonEl =\n",
              "        document.querySelector('#df-b126f79b-d9e7-4c50-a808-4ebfcdd53b29 button');\n",
              "      quickchartButtonEl.style.display =\n",
              "        google.colab.kernel.accessAllowed ? 'block' : 'none';\n",
              "    })();\n",
              "  </script>\n",
              "</div>\n",
              "    </div>\n",
              "  </div>\n"
            ],
            "text/plain": [
              "         Date         Price\n",
              "0  2018-01-01  12783.678065\n",
              "1  2018-02-01  12908.028646\n",
              "2  2018-03-01  12797.553737\n",
              "3  2018-04-01  12689.833424\n",
              "4  2018-05-01  12604.199886\n",
              "..        ...           ...\n",
              "65 2023-06-01  13657.195180\n",
              "66 2023-07-01  13680.269258\n",
              "67 2023-08-01  13871.605208\n",
              "68 2023-09-01  14582.197472\n",
              "69 2023-10-01  15008.982278\n",
              "\n",
              "[70 rows x 2 columns]"
            ]
          },
          "execution_count": 3,
          "metadata": {},
          "output_type": "execute_result"
        }
      ],
      "source": [
        "df_pg = pd.read_excel('forecastinglstm.xlsx')\n",
        "df_pg"
      ]
    },
    {
      "cell_type": "code",
      "execution_count": null,
      "metadata": {
        "colab": {
          "base_uri": "https://localhost:8080/"
        },
        "id": "F2zP5mWizyXu",
        "outputId": "c4623c6c-c2f5-422d-f271-a095caf6439a"
      },
      "outputs": [
        {
          "name": "stdout",
          "output_type": "stream",
          "text": [
            "<class 'pandas.core.frame.DataFrame'>\n",
            "RangeIndex: 70 entries, 0 to 69\n",
            "Data columns (total 2 columns):\n",
            " #   Column  Non-Null Count  Dtype         \n",
            "---  ------  --------------  -----         \n",
            " 0   Date    70 non-null     datetime64[ns]\n",
            " 1   Price   70 non-null     float64       \n",
            "dtypes: datetime64[ns](1), float64(1)\n",
            "memory usage: 1.2 KB\n"
          ]
        },
        {
          "data": {
            "text/plain": [
              "Date     0\n",
              "Price    0\n",
              "dtype: int64"
            ]
          },
          "execution_count": 4,
          "metadata": {},
          "output_type": "execute_result"
        }
      ],
      "source": [
        "df_pg.info()\n",
        "df_pg.isna().sum()"
      ]
    },
    {
      "cell_type": "code",
      "execution_count": null,
      "metadata": {
        "colab": {
          "base_uri": "https://localhost:8080/"
        },
        "id": "qQUI5jvjeClW",
        "outputId": "375d2678-99fd-4fe8-c404-206160a71ab3"
      },
      "outputs": [
        {
          "data": {
            "text/plain": [
              "Date     0\n",
              "Price    0\n",
              "dtype: int64"
            ]
          },
          "execution_count": 5,
          "metadata": {},
          "output_type": "execute_result"
        }
      ],
      "source": [
        "df_pg = df_pg.dropna()\n",
        "df_pg.isna().sum()"
      ]
    },
    {
      "cell_type": "markdown",
      "metadata": {
        "id": "nPnmixdAeY_l"
      },
      "source": [
        "# **Plot Data**"
      ]
    },
    {
      "cell_type": "code",
      "execution_count": null,
      "metadata": {
        "colab": {
          "base_uri": "https://localhost:8080/",
          "height": 453
        },
        "id": "4Y-mneCgzhK4",
        "outputId": "423f4f4d-e7a4-4d2e-c10f-0e009eda375b"
      },
      "outputs": [
        {
          "data": {
            "image/png": "[encoded data removed]",
            "text/plain": [
              "<Figure size 1600x800 with 1 Axes>"
            ]
          },
          "metadata": {},
          "output_type": "display_data"
        }
      ],
      "source": [
        "plt.figure(figsize=(16,8))\n",
        "plt.title('Harga Beras Premium')\n",
        "plt.plot(df_pg['Date'],df_pg['Price'])\n",
        "plt.xlabel('Date',fontsize=18)\n",
        "plt.ylabel('Price',fontsize=18)\n",
        "plt.show()"
      ]
    },
    {
      "cell_type": "markdown",
      "metadata": {
        "id": "3qFh5031ef2R"
      },
      "source": [
        "## **Data Latih**"
      ]
    },
    {
      "cell_type": "code",
      "execution_count": null,
      "metadata": {
        "colab": {
          "base_uri": "https://localhost:8080/"
        },
        "id": "HQzE0hV9VjwV",
        "outputId": "a19fc3e5-7b3e-4893-fafc-c82046d84e00"
      },
      "outputs": [
        {
          "data": {
            "text/plain": [
              "63"
            ]
          },
          "execution_count": 8,
          "metadata": {},
          "output_type": "execute_result"
        }
      ],
      "source": [
        "data_pg = df_pg.filter(['Price'])\n",
        "dataset_pg = data_pg.values\n",
        "training_data_len_pg = math.ceil(len(dataset_pg)* 0.9)\n",
        "training_data_len_pg"
      ]
    },
    {
      "cell_type": "markdown",
      "metadata": {
        "id": "6eZmiOYRlQmm"
      },
      "source": [
        "##**MinMax**"
      ]
    },
    {
      "cell_type": "code",
      "execution_count": null,
      "metadata": {
        "colab": {
          "base_uri": "https://localhost:8080/"
        },
        "id": "Vge2Ao82V8Nz",
        "outputId": "15bbe1c5-1f35-4b90-d130-d061061f6453"
      },
      "outputs": [
        {
          "data": {
            "text/plain": [
              "array([[0.21266513],\n",
              "       [0.25666161],\n",
              "       [0.21757448],\n",
              "       [0.17946196],\n",
              "       [0.14916395],\n",
              "       [0.14046477],\n",
              "       [0.1258774 ],\n",
              "       [0.12551529],\n",
              "       [0.11476608],\n",
              "       [0.12634173],\n",
              "       [0.14800727],\n",
              "       [0.16383611],\n",
              "       [0.20441218],\n",
              "       [0.18122376],\n",
              "       [0.15052913],\n",
              "       [0.13002696],\n",
              "       [0.12555733],\n",
              "       [0.12774127],\n",
              "       [0.13286751],\n",
              "       [0.13711981],\n",
              "       [0.13488934],\n",
              "       [0.15240375],\n",
              "       [0.16068665],\n",
              "       [0.15998632],\n",
              "       [0.07111329],\n",
              "       [0.0891169 ],\n",
              "       [0.09546546],\n",
              "       [0.10154479],\n",
              "       [0.08593598],\n",
              "       [0.081011  ],\n",
              "       [0.05482553],\n",
              "       [0.0575321 ],\n",
              "       [0.05568629],\n",
              "       [0.05631636],\n",
              "       [0.05032563],\n",
              "       [0.0383042 ],\n",
              "       [0.04738926],\n",
              "       [0.04782724],\n",
              "       [0.0325592 ],\n",
              "       [0.01001318],\n",
              "       [0.        ],\n",
              "       [0.00565835],\n",
              "       [0.04861666],\n",
              "       [0.04887387],\n",
              "       [0.04762924],\n",
              "       [0.05309148],\n",
              "       [0.05256528],\n",
              "       [0.06887318],\n",
              "       [0.09024691],\n",
              "       [0.07346865],\n",
              "       [0.08867627],\n",
              "       [0.09284535],\n",
              "       [0.08048918],\n",
              "       [0.06284692],\n",
              "       [0.05946663],\n",
              "       [0.07368063],\n",
              "       [0.13717697],\n",
              "       [0.19307692],\n",
              "       [0.21693366],\n",
              "       [0.28956642],\n",
              "       [0.36685625],\n",
              "       [0.46153411],\n",
              "       [0.51194145],\n",
              "       [0.53642722],\n",
              "       [0.52354657],\n",
              "       [0.52172421],\n",
              "       [0.52988805],\n",
              "       [0.59758462],\n",
              "       [0.84899927],\n",
              "       [1.        ]])"
            ]
          },
          "execution_count": 9,
          "metadata": {},
          "output_type": "execute_result"
        }
      ],
      "source": [
        "scaler = MinMaxScaler(feature_range=(0,1))\n",
        "scaled_data_pg = scaler.fit_transform(dataset_pg)\n",
        "\n",
        "scaled_data_pg"
      ]
    },
    {
      "cell_type": "code",
      "execution_count": null,
      "metadata": {
        "colab": {
          "base_uri": "https://localhost:8080/"
        },
        "id": "4m89PCgFWBJe",
        "outputId": "b3166e62-d57a-4a26-f914-420d4ed9a601"
      },
      "outputs": [
        {
          "name": "stdout",
          "output_type": "stream",
          "text": [
            "[array([0.21266513, 0.25666161, 0.21757448, 0.17946196, 0.14916395])]\n",
            "[0.14046477054225637]\n"
          ]
        },
        {
          "data": {
            "text/plain": [
              "63"
            ]
          },
          "execution_count": 10,
          "metadata": {},
          "output_type": "execute_result"
        }
      ],
      "source": [
        "train_data_pg = scaled_data_pg[0:training_data_len_pg+5, :]\n",
        "\n",
        "x_train_pg =[]\n",
        "y_train_pg = []\n",
        "\n",
        "for i in range (5, len(train_data_pg)):\n",
        "  x_train_pg.append(train_data_pg[i-5:i, 0])\n",
        "  y_train_pg.append(train_data_pg[i,0])\n",
        "  if i <= 5:\n",
        "    print (x_train_pg)\n",
        "    print (y_train_pg)\n",
        "\n",
        "len(x_train_pg)"
      ]
    },
    {
      "cell_type": "code",
      "execution_count": null,
      "metadata": {
        "colab": {
          "base_uri": "https://localhost:8080/"
        },
        "id": "MIz5T_PCWEic",
        "outputId": "e3561337-e74f-44dd-da97-34ab35601b7e"
      },
      "outputs": [
        {
          "data": {
            "text/plain": [
              "(63, 5, 1)"
            ]
          },
          "execution_count": 11,
          "metadata": {},
          "output_type": "execute_result"
        }
      ],
      "source": [
        "x_train_pg, y_train_pg = np.array(x_train_pg), np.array(y_train_pg)\n",
        "\n",
        "x_train_pg = np.reshape(x_train_pg, (x_train_pg.shape[0], x_train_pg.shape[1], 1))\n",
        "x_train_pg.shape"
      ]
    },
    {
      "cell_type": "markdown",
      "metadata": {
        "id": "-4KTGJy1eiYF"
      },
      "source": [
        "## **Data Uji**"
      ]
    },
    {
      "cell_type": "code",
      "execution_count": null,
      "metadata": {
        "colab": {
          "base_uri": "https://localhost:8080/"
        },
        "id": "ps5bMPG0abJL",
        "outputId": "0728f43b-a1ef-4b29-86d2-e1ee79e91f0c"
      },
      "outputs": [
        {
          "data": {
            "text/plain": [
              "(7, 5)"
            ]
          },
          "execution_count": 12,
          "metadata": {},
          "output_type": "execute_result"
        }
      ],
      "source": [
        "test_data_pg = scaled_data_pg[training_data_len_pg - 5:, :]\n",
        "\n",
        "x_test_pg = []\n",
        "y_test_pg = dataset_pg[training_data_len_pg:, :]\n",
        "for i in range(5, len(test_data_pg)):\n",
        "  x_test_pg.append(test_data_pg[i-5:i,0])\n",
        "if i <= 5:\n",
        "    print (x_train_pg)\n",
        "    print (y_train_pg)\n",
        "\n",
        "x_test_pg = np.array(x_test_pg)\n",
        "\n",
        "x_test_pg = np.reshape(x_test_pg, (x_test_pg.shape[0], x_test_pg.shape[1]))\n",
        "x_test_pg.shape"
      ]
    },
    {
      "cell_type": "markdown",
      "metadata": {
        "id": "bWep9_F-ep1w"
      },
      "source": [
        "# **Membangun Arsitektur LSTM**"
      ]
    },
    {
      "cell_type": "code",
      "execution_count": null,
      "metadata": {
        "colab": {
          "background_save": true
        },
        "id": "a3tOKrNSesUQ"
      },
      "outputs": [],
      "source": [
        "model = Sequential()\n",
        "model.add(LSTM(150, return_sequences=True, batch_input_shape =(16, x_train_pg.shape[1],1)))\n",
        "model.add(LSTM(50, return_sequences=False))\n",
        "model.add(Dense(1))"
      ]
    },
    {
      "cell_type": "code",
      "execution_count": null,
      "metadata": {
        "id": "8ZJKUsQ4l6rp"
      },
      "outputs": [],
      "source": [
        "model.compile(optimizer='adam', loss='mean_squared_error')"
      ]
    },
    {
      "cell_type": "code",
      "execution_count": null,
      "metadata": {
        "colab": {
          "base_uri": "https://localhost:8080/"
        },
        "id": "ov8dvkLYmGnd",
        "outputId": "97d22c03-103b-4bde-c524-e22868797e68"
      },
      "outputs": [
        {
          "name": "stdout",
          "output_type": "stream",
          "text": [
            "Epoch 1/200\n",
            "2/2 [==============================] - 6s 27ms/step - loss: 0.0442\n",
            "Epoch 2/200\n",
            "2/2 [==============================] - 0s 19ms/step - loss: 0.0319\n",
            "Epoch 3/200\n",
            "2/2 [==============================] - 0s 19ms/step - loss: 0.0230\n",
            "Epoch 4/200\n",
            "2/2 [==============================] - 0s 21ms/step - loss: 0.0157\n",
            "Epoch 5/200\n",
            "2/2 [==============================] - 0s 19ms/step - loss: 0.0123\n",
            "Epoch 6/200\n",
            "2/2 [==============================] - 0s 21ms/step - loss: 0.0148\n",
            "Epoch 7/200\n",
            "2/2 [==============================] - 0s 18ms/step - loss: 0.0143\n",
            "Epoch 8/200\n",
            "2/2 [==============================] - 0s 19ms/step - loss: 0.0119\n",
            "Epoch 9/200\n",
            "2/2 [==============================] - 0s 20ms/step - loss: 0.0091\n",
            "Epoch 10/200\n",
            "2/2 [==============================] - 0s 24ms/step - loss: 0.0081\n",
            "Epoch 11/200\n",
            "2/2 [==============================] - 0s 23ms/step - loss: 0.0082\n",
            "Epoch 12/200\n",
            "2/2 [==============================] - 0s 21ms/step - loss: 0.0079\n",
            "Epoch 13/200\n",
            "2/2 [==============================] - 0s 21ms/step - loss: 0.0071\n",
            "Epoch 14/200\n",
            "2/2 [==============================] - 0s 21ms/step - loss: 0.0059\n",
            "Epoch 15/200\n",
            "2/2 [==============================] - 0s 23ms/step - loss: 0.0052\n",
            "Epoch 16/200\n",
            "2/2 [==============================] - 0s 21ms/step - loss: 0.0054\n",
            "Epoch 17/200\n",
            "2/2 [==============================] - 0s 21ms/step - loss: 0.0056\n",
            "Epoch 18/200\n",
            "2/2 [==============================] - 0s 23ms/step - loss: 0.0055\n",
            "Epoch 19/200\n",
            "2/2 [==============================] - 0s 20ms/step - loss: 0.0053\n",
            "Epoch 20/200\n",
            "2/2 [==============================] - 0s 20ms/step - loss: 0.0054\n",
            "Epoch 21/200\n",
            "2/2 [==============================] - 0s 20ms/step - loss: 0.0053\n",
            "Epoch 22/200\n",
            "2/2 [==============================] - 0s 20ms/step - loss: 0.0050\n",
            "Epoch 23/200\n",
            "2/2 [==============================] - 0s 20ms/step - loss: 0.0048\n",
            "Epoch 24/200\n",
            "2/2 [==============================] - 0s 20ms/step - loss: 0.0048\n",
            "Epoch 25/200\n",
            "2/2 [==============================] - 0s 21ms/step - loss: 0.0048\n",
            "Epoch 26/200\n",
            "2/2 [==============================] - 0s 21ms/step - loss: 0.0047\n",
            "Epoch 27/200\n",
            "2/2 [==============================] - 0s 20ms/step - loss: 0.0047\n",
            "Epoch 28/200\n",
            "2/2 [==============================] - 0s 21ms/step - loss: 0.0046\n",
            "Epoch 29/200\n",
            "2/2 [==============================] - 0s 19ms/step - loss: 0.0046\n",
            "Epoch 30/200\n",
            "2/2 [==============================] - 0s 20ms/step - loss: 0.0046\n",
            "Epoch 31/200\n",
            "2/2 [==============================] - 0s 21ms/step - loss: 0.0045\n",
            "Epoch 32/200\n",
            "2/2 [==============================] - 0s 21ms/step - loss: 0.0045\n",
            "Epoch 33/200\n",
            "2/2 [==============================] - 0s 20ms/step - loss: 0.0045\n",
            "Epoch 34/200\n",
            "2/2 [==============================] - 0s 20ms/step - loss: 0.0044\n",
            "Epoch 35/200\n",
            "2/2 [==============================] - 0s 21ms/step - loss: 0.0044\n",
            "Epoch 36/200\n",
            "2/2 [==============================] - 0s 20ms/step - loss: 0.0044\n",
            "Epoch 37/200\n",
            "2/2 [==============================] - 0s 20ms/step - loss: 0.0043\n",
            "Epoch 38/200\n",
            "2/2 [==============================] - 0s 27ms/step - loss: 0.0043\n",
            "Epoch 39/200\n",
            "2/2 [==============================] - 0s 20ms/step - loss: 0.0043\n",
            "Epoch 40/200\n",
            "2/2 [==============================] - 0s 22ms/step - loss: 0.0042\n",
            "Epoch 41/200\n",
            "2/2 [==============================] - 0s 22ms/step - loss: 0.0042\n",
            "Epoch 42/200\n",
            "2/2 [==============================] - 0s 22ms/step - loss: 0.0042\n",
            "Epoch 43/200\n",
            "2/2 [==============================] - 0s 20ms/step - loss: 0.0042\n",
            "Epoch 44/200\n",
            "2/2 [==============================] - 0s 21ms/step - loss: 0.0041\n",
            "Epoch 45/200\n",
            "2/2 [==============================] - 0s 19ms/step - loss: 0.0040\n",
            "Epoch 46/200\n",
            "2/2 [==============================] - 0s 22ms/step - loss: 0.0041\n",
            "Epoch 47/200\n",
            "2/2 [==============================] - 0s 19ms/step - loss: 0.0040\n",
            "Epoch 48/200\n",
            "2/2 [==============================] - 0s 20ms/step - loss: 0.0039\n",
            "Epoch 49/200\n",
            "2/2 [==============================] - 0s 23ms/step - loss: 0.0039\n",
            "Epoch 50/200\n",
            "2/2 [==============================] - 0s 22ms/step - loss: 0.0039\n",
            "Epoch 51/200\n",
            "2/2 [==============================] - 0s 21ms/step - loss: 0.0038\n",
            "Epoch 52/200\n",
            "2/2 [==============================] - 0s 19ms/step - loss: 0.0038\n",
            "Epoch 53/200\n",
            "2/2 [==============================] - 0s 23ms/step - loss: 0.0037\n",
            "Epoch 54/200\n",
            "2/2 [==============================] - 0s 23ms/step - loss: 0.0037\n",
            "Epoch 55/200\n",
            "2/2 [==============================] - 0s 26ms/step - loss: 0.0037\n",
            "Epoch 56/200\n",
            "2/2 [==============================] - 0s 20ms/step - loss: 0.0036\n",
            "Epoch 57/200\n",
            "2/2 [==============================] - 0s 21ms/step - loss: 0.0036\n",
            "Epoch 58/200\n",
            "2/2 [==============================] - 0s 19ms/step - loss: 0.0035\n",
            "Epoch 59/200\n",
            "2/2 [==============================] - 0s 22ms/step - loss: 0.0035\n",
            "Epoch 60/200\n",
            "2/2 [==============================] - 0s 21ms/step - loss: 0.0034\n",
            "Epoch 61/200\n",
            "2/2 [==============================] - 0s 25ms/step - loss: 0.0034\n",
            "Epoch 62/200\n",
            "2/2 [==============================] - 0s 21ms/step - loss: 0.0033\n",
            "Epoch 63/200\n",
            "2/2 [==============================] - 0s 27ms/step - loss: 0.0032\n",
            "Epoch 64/200\n",
            "2/2 [==============================] - 0s 20ms/step - loss: 0.0032\n",
            "Epoch 65/200\n",
            "2/2 [==============================] - 0s 20ms/step - loss: 0.0031\n",
            "Epoch 66/200\n",
            "2/2 [==============================] - 0s 19ms/step - loss: 0.0031\n",
            "Epoch 67/200\n",
            "2/2 [==============================] - 0s 19ms/step - loss: 0.0031\n",
            "Epoch 68/200\n",
            "2/2 [==============================] - 0s 21ms/step - loss: 0.0030\n",
            "Epoch 69/200\n",
            "2/2 [==============================] - 0s 25ms/step - loss: 0.0029\n",
            "Epoch 70/200\n",
            "2/2 [==============================] - 0s 22ms/step - loss: 0.0028\n",
            "Epoch 71/200\n",
            "2/2 [==============================] - 0s 19ms/step - loss: 0.0028\n",
            "Epoch 72/200\n",
            "2/2 [==============================] - 0s 19ms/step - loss: 0.0027\n",
            "Epoch 73/200\n",
            "2/2 [==============================] - 0s 20ms/step - loss: 0.0026\n",
            "Epoch 74/200\n",
            "2/2 [==============================] - 0s 20ms/step - loss: 0.0026\n",
            "Epoch 75/200\n",
            "2/2 [==============================] - 0s 20ms/step - loss: 0.0025\n",
            "Epoch 76/200\n",
            "2/2 [==============================] - 0s 21ms/step - loss: 0.0025\n",
            "Epoch 77/200\n",
            "2/2 [==============================] - 0s 21ms/step - loss: 0.0024\n",
            "Epoch 78/200\n",
            "2/2 [==============================] - 0s 27ms/step - loss: 0.0024\n",
            "Epoch 79/200\n",
            "2/2 [==============================] - 0s 21ms/step - loss: 0.0024\n",
            "Epoch 80/200\n",
            "2/2 [==============================] - 0s 20ms/step - loss: 0.0023\n",
            "Epoch 81/200\n",
            "2/2 [==============================] - 0s 21ms/step - loss: 0.0023\n",
            "Epoch 82/200\n",
            "2/2 [==============================] - 0s 20ms/step - loss: 0.0022\n",
            "Epoch 83/200\n",
            "2/2 [==============================] - 0s 20ms/step - loss: 0.0022\n",
            "Epoch 84/200\n",
            "2/2 [==============================] - 0s 23ms/step - loss: 0.0021\n",
            "Epoch 85/200\n",
            "2/2 [==============================] - 0s 20ms/step - loss: 0.0020\n",
            "Epoch 86/200\n",
            "2/2 [==============================] - 0s 27ms/step - loss: 0.0020\n",
            "Epoch 87/200\n",
            "2/2 [==============================] - 0s 25ms/step - loss: 0.0020\n",
            "Epoch 88/200\n",
            "2/2 [==============================] - 0s 20ms/step - loss: 0.0019\n",
            "Epoch 89/200\n",
            "2/2 [==============================] - 0s 22ms/step - loss: 0.0019\n",
            "Epoch 90/200\n",
            "2/2 [==============================] - 0s 22ms/step - loss: 0.0019\n",
            "Epoch 91/200\n",
            "2/2 [==============================] - 0s 19ms/step - loss: 0.0019\n",
            "Epoch 92/200\n",
            "2/2 [==============================] - 0s 19ms/step - loss: 0.0020\n",
            "Epoch 93/200\n",
            "2/2 [==============================] - 0s 21ms/step - loss: 0.0019\n",
            "Epoch 94/200\n",
            "2/2 [==============================] - 0s 21ms/step - loss: 0.0020\n",
            "Epoch 95/200\n",
            "2/2 [==============================] - 0s 22ms/step - loss: 0.0019\n",
            "Epoch 96/200\n",
            "2/2 [==============================] - 0s 19ms/step - loss: 0.0018\n",
            "Epoch 97/200\n",
            "2/2 [==============================] - 0s 21ms/step - loss: 0.0018\n",
            "Epoch 98/200\n",
            "2/2 [==============================] - 0s 20ms/step - loss: 0.0019\n",
            "Epoch 99/200\n",
            "2/2 [==============================] - 0s 24ms/step - loss: 0.0018\n",
            "Epoch 100/200\n",
            "2/2 [==============================] - 0s 25ms/step - loss: 0.0018\n",
            "Epoch 101/200\n",
            "2/2 [==============================] - 0s 23ms/step - loss: 0.0018\n",
            "Epoch 102/200\n",
            "2/2 [==============================] - 0s 20ms/step - loss: 0.0018\n",
            "Epoch 103/200\n",
            "2/2 [==============================] - 0s 23ms/step - loss: 0.0018\n",
            "Epoch 104/200\n",
            "2/2 [==============================] - 0s 31ms/step - loss: 0.0017\n",
            "Epoch 105/200\n",
            "2/2 [==============================] - 0s 21ms/step - loss: 0.0018\n",
            "Epoch 106/200\n",
            "2/2 [==============================] - 0s 20ms/step - loss: 0.0017\n",
            "Epoch 107/200\n",
            "2/2 [==============================] - 0s 23ms/step - loss: 0.0017\n",
            "Epoch 108/200\n",
            "2/2 [==============================] - 0s 31ms/step - loss: 0.0017\n",
            "Epoch 109/200\n",
            "2/2 [==============================] - 0s 20ms/step - loss: 0.0017\n",
            "Epoch 110/200\n",
            "2/2 [==============================] - 0s 21ms/step - loss: 0.0017\n",
            "Epoch 111/200\n",
            "2/2 [==============================] - 0s 22ms/step - loss: 0.0017\n",
            "Epoch 112/200\n",
            "2/2 [==============================] - 0s 21ms/step - loss: 0.0017\n",
            "Epoch 113/200\n",
            "2/2 [==============================] - 0s 22ms/step - loss: 0.0017\n",
            "Epoch 114/200\n",
            "2/2 [==============================] - 0s 22ms/step - loss: 0.0018\n",
            "Epoch 115/200\n",
            "2/2 [==============================] - 0s 21ms/step - loss: 0.0018\n",
            "Epoch 116/200\n",
            "2/2 [==============================] - 0s 20ms/step - loss: 0.0017\n",
            "Epoch 117/200\n",
            "2/2 [==============================] - 0s 21ms/step - loss: 0.0017\n",
            "Epoch 118/200\n",
            "2/2 [==============================] - 0s 20ms/step - loss: 0.0017\n",
            "Epoch 119/200\n",
            "2/2 [==============================] - 0s 21ms/step - loss: 0.0018\n",
            "Epoch 120/200\n",
            "2/2 [==============================] - 0s 21ms/step - loss: 0.0017\n",
            "Epoch 121/200\n",
            "2/2 [==============================] - 0s 21ms/step - loss: 0.0017\n",
            "Epoch 122/200\n",
            "2/2 [==============================] - 0s 20ms/step - loss: 0.0020\n",
            "Epoch 123/200\n",
            "2/2 [==============================] - 0s 20ms/step - loss: 0.0016\n",
            "Epoch 124/200\n",
            "2/2 [==============================] - 0s 23ms/step - loss: 0.0018\n",
            "Epoch 125/200\n",
            "2/2 [==============================] - 0s 23ms/step - loss: 0.0018\n",
            "Epoch 126/200\n",
            "2/2 [==============================] - 0s 21ms/step - loss: 0.0017\n",
            "Epoch 127/200\n",
            "2/2 [==============================] - 0s 21ms/step - loss: 0.0017\n",
            "Epoch 128/200\n",
            "2/2 [==============================] - 0s 22ms/step - loss: 0.0017\n",
            "Epoch 129/200\n",
            "2/2 [==============================] - 0s 21ms/step - loss: 0.0016\n",
            "Epoch 130/200\n",
            "2/2 [==============================] - 0s 30ms/step - loss: 0.0020\n",
            "Epoch 131/200\n",
            "2/2 [==============================] - 0s 22ms/step - loss: 0.0017\n",
            "Epoch 132/200\n",
            "2/2 [==============================] - 0s 20ms/step - loss: 0.0020\n",
            "Epoch 133/200\n",
            "2/2 [==============================] - 0s 23ms/step - loss: 0.0015\n",
            "Epoch 134/200\n",
            "2/2 [==============================] - 0s 21ms/step - loss: 0.0021\n",
            "Epoch 135/200\n",
            "2/2 [==============================] - 0s 21ms/step - loss: 0.0018\n",
            "Epoch 136/200\n",
            "2/2 [==============================] - 0s 21ms/step - loss: 0.0019\n",
            "Epoch 137/200\n",
            "2/2 [==============================] - 0s 20ms/step - loss: 0.0017\n",
            "Epoch 138/200\n",
            "2/2 [==============================] - 0s 21ms/step - loss: 0.0017\n",
            "Epoch 139/200\n",
            "2/2 [==============================] - 0s 20ms/step - loss: 0.0017\n",
            "Epoch 140/200\n",
            "2/2 [==============================] - 0s 26ms/step - loss: 0.0017\n",
            "Epoch 141/200\n",
            "2/2 [==============================] - 0s 21ms/step - loss: 0.0016\n",
            "Epoch 142/200\n",
            "2/2 [==============================] - 0s 25ms/step - loss: 0.0016\n",
            "Epoch 143/200\n",
            "2/2 [==============================] - 0s 38ms/step - loss: 0.0016\n",
            "Epoch 144/200\n",
            "2/2 [==============================] - 0s 30ms/step - loss: 0.0016\n",
            "Epoch 145/200\n",
            "2/2 [==============================] - 0s 32ms/step - loss: 0.0016\n",
            "Epoch 146/200\n",
            "2/2 [==============================] - 0s 27ms/step - loss: 0.0015\n",
            "Epoch 147/200\n",
            "2/2 [==============================] - 0s 33ms/step - loss: 0.0016\n",
            "Epoch 148/200\n",
            "2/2 [==============================] - 0s 35ms/step - loss: 0.0015\n",
            "Epoch 149/200\n",
            "2/2 [==============================] - 0s 31ms/step - loss: 0.0016\n",
            "Epoch 150/200\n",
            "2/2 [==============================] - 0s 37ms/step - loss: 0.0016\n",
            "Epoch 151/200\n",
            "2/2 [==============================] - 0s 31ms/step - loss: 0.0015\n",
            "Epoch 152/200\n",
            "2/2 [==============================] - 0s 31ms/step - loss: 0.0015\n",
            "Epoch 153/200\n",
            "2/2 [==============================] - 0s 29ms/step - loss: 0.0016\n",
            "Epoch 154/200\n",
            "2/2 [==============================] - 0s 30ms/step - loss: 0.0016\n",
            "Epoch 155/200\n",
            "2/2 [==============================] - 0s 32ms/step - loss: 0.0016\n",
            "Epoch 156/200\n",
            "2/2 [==============================] - 0s 30ms/step - loss: 0.0016\n",
            "Epoch 157/200\n",
            "2/2 [==============================] - 0s 30ms/step - loss: 0.0017\n",
            "Epoch 158/200\n",
            "2/2 [==============================] - 0s 30ms/step - loss: 0.0016\n",
            "Epoch 159/200\n",
            "2/2 [==============================] - 0s 31ms/step - loss: 0.0014\n",
            "Epoch 160/200\n",
            "2/2 [==============================] - 0s 32ms/step - loss: 0.0015\n",
            "Epoch 161/200\n",
            "2/2 [==============================] - 0s 33ms/step - loss: 0.0015\n",
            "Epoch 162/200\n",
            "2/2 [==============================] - 0s 30ms/step - loss: 0.0014\n",
            "Epoch 163/200\n",
            "2/2 [==============================] - 0s 30ms/step - loss: 0.0014\n",
            "Epoch 164/200\n",
            "2/2 [==============================] - 0s 33ms/step - loss: 0.0014\n",
            "Epoch 165/200\n",
            "2/2 [==============================] - 0s 29ms/step - loss: 0.0014\n",
            "Epoch 166/200\n",
            "2/2 [==============================] - 0s 29ms/step - loss: 0.0014\n",
            "Epoch 167/200\n",
            "2/2 [==============================] - 0s 30ms/step - loss: 0.0015\n",
            "Epoch 168/200\n",
            "2/2 [==============================] - 0s 29ms/step - loss: 0.0014\n",
            "Epoch 169/200\n",
            "2/2 [==============================] - 0s 30ms/step - loss: 0.0014\n",
            "Epoch 170/200\n",
            "2/2 [==============================] - 0s 32ms/step - loss: 0.0014\n",
            "Epoch 171/200\n",
            "2/2 [==============================] - 0s 31ms/step - loss: 0.0014\n",
            "Epoch 172/200\n",
            "2/2 [==============================] - 0s 32ms/step - loss: 0.0014\n",
            "Epoch 173/200\n",
            "2/2 [==============================] - 0s 31ms/step - loss: 0.0014\n",
            "Epoch 174/200\n",
            "2/2 [==============================] - 0s 31ms/step - loss: 0.0014\n",
            "Epoch 175/200\n",
            "2/2 [==============================] - 0s 31ms/step - loss: 0.0014\n",
            "Epoch 176/200\n",
            "2/2 [==============================] - 0s 27ms/step - loss: 0.0014\n",
            "Epoch 177/200\n",
            "2/2 [==============================] - 0s 27ms/step - loss: 0.0013\n",
            "Epoch 178/200\n",
            "2/2 [==============================] - 0s 27ms/step - loss: 0.0014\n",
            "Epoch 179/200\n",
            "2/2 [==============================] - 0s 29ms/step - loss: 0.0013\n",
            "Epoch 180/200\n",
            "2/2 [==============================] - 0s 29ms/step - loss: 0.0013\n",
            "Epoch 181/200\n",
            "2/2 [==============================] - 0s 27ms/step - loss: 0.0013\n",
            "Epoch 182/200\n",
            "2/2 [==============================] - 0s 30ms/step - loss: 0.0014\n",
            "Epoch 183/200\n",
            "2/2 [==============================] - 0s 29ms/step - loss: 0.0014\n",
            "Epoch 184/200\n",
            "2/2 [==============================] - 0s 35ms/step - loss: 0.0013\n",
            "Epoch 185/200\n",
            "2/2 [==============================] - 0s 27ms/step - loss: 0.0013\n",
            "Epoch 186/200\n",
            "2/2 [==============================] - 0s 28ms/step - loss: 0.0013\n",
            "Epoch 187/200\n",
            "2/2 [==============================] - 0s 26ms/step - loss: 0.0013\n",
            "Epoch 188/200\n",
            "2/2 [==============================] - 0s 28ms/step - loss: 0.0014\n",
            "Epoch 189/200\n",
            "2/2 [==============================] - 0s 36ms/step - loss: 0.0013\n",
            "Epoch 190/200\n",
            "2/2 [==============================] - 0s 34ms/step - loss: 0.0013\n",
            "Epoch 191/200\n",
            "2/2 [==============================] - 0s 38ms/step - loss: 0.0013\n",
            "Epoch 192/200\n",
            "2/2 [==============================] - 0s 32ms/step - loss: 0.0013\n",
            "Epoch 193/200\n",
            "2/2 [==============================] - 0s 30ms/step - loss: 0.0013\n",
            "Epoch 194/200\n",
            "2/2 [==============================] - 0s 30ms/step - loss: 0.0013\n",
            "Epoch 195/200\n",
            "2/2 [==============================] - 0s 34ms/step - loss: 0.0013\n",
            "Epoch 196/200\n",
            "2/2 [==============================] - 0s 29ms/step - loss: 0.0013\n",
            "Epoch 197/200\n",
            "2/2 [==============================] - 0s 32ms/step - loss: 0.0013\n",
            "Epoch 198/200\n",
            "2/2 [==============================] - 0s 34ms/step - loss: 0.0013\n",
            "Epoch 199/200\n",
            "2/2 [==============================] - 0s 30ms/step - loss: 0.0013\n",
            "Epoch 200/200\n",
            "2/2 [==============================] - 0s 30ms/step - loss: 0.0012\n"
          ]
        },
        {
          "data": {
            "text/plain": [
              "<keras.src.callbacks.History at 0x7e83c83f7f10>"
            ]
          },
          "execution_count": 15,
          "metadata": {},
          "output_type": "execute_result"
        }
      ],
      "source": [
        "model.fit(x_train_pg, y_train_pg, epochs=200)"
      ]
    },
    {
      "cell_type": "code",
      "execution_count": null,
      "metadata": {
        "colab": {
          "base_uri": "https://localhost:8080/"
        },
        "id": "uyXyUrlvl-FJ",
        "outputId": "b7568600-f58f-4de7-8417-bb47e06860c5"
      },
      "outputs": [
        {
          "name": "stdout",
          "output_type": "stream",
          "text": [
            "1/1 [==============================] - 1s 1s/step\n"
          ]
        }
      ],
      "source": [
        "predictions = model.predict(x_test_pg)\n",
        "predictions= scaler.inverse_transform(predictions)"
      ]
    },
    {
      "cell_type": "code",
      "execution_count": null,
      "metadata": {
        "colab": {
          "base_uri": "https://localhost:8080/"
        },
        "id": "x9TRYrptmjOG",
        "outputId": "6df6e99c-cc6b-4e75-eacb-5956e458e2d4"
      },
      "outputs": [
        {
          "name": "stderr",
          "output_type": "stream",
          "text": [
            "/usr/local/lib/python3.10/dist-packages/keras/src/engine/training.py:3079: UserWarning: You are saving your model as an HDF5 file via `model.save()`. This file format is considered legacy. We recommend using instead the native Keras format, e.g. `model.save('my_model.keras')`.\n",
            "  saving_api.save_model(\n"
          ]
        }
      ],
      "source": [
        "# menyimpan model\n",
        "model.save(f'model LSTM 90:10.h5')"
      ]
    },
    {
      "cell_type": "markdown",
      "metadata": {
        "id": "W5BROoNoe5tX"
      },
      "source": [
        "## **Error LSTM**"
      ]
    },
    {
      "cell_type": "code",
      "execution_count": null,
      "metadata": {
        "id": "-pN0XU1XY61v"
      },
      "outputs": [],
      "source": [
        "from tensorflow.keras.models import load_model\n",
        "from sklearn.metrics import mean_absolute_percentage_error\n",
        "model1 = load_model('model LSTM 90:10.h5')"
      ]
    },
    {
      "cell_type": "code",
      "execution_count": null,
      "metadata": {
        "colab": {
          "base_uri": "https://localhost:8080/"
        },
        "id": "lIOiKawnn4PS",
        "outputId": "4bf3f639-88e5-423a-9612-ebcf25998906"
      },
      "outputs": [
        {
          "name": "stdout",
          "output_type": "stream",
          "text": [
            "1/1 [==============================] - 1s 804ms/step\n"
          ]
        }
      ],
      "source": [
        "predictions = model1.predict(x_test_pg)\n",
        "predictions= scaler.inverse_transform(predictions)"
      ]
    },
    {
      "cell_type": "code",
      "execution_count": null,
      "metadata": {
        "colab": {
          "base_uri": "https://localhost:8080/"
        },
        "id": "BzXW7Iz5SA_G",
        "outputId": "b3e2a153-3872-4f48-8edf-bc470065b11b"
      },
      "outputs": [
        {
          "name": "stdout",
          "output_type": "stream",
          "text": [
            "Nilai RMSE =  188.33900182208475\n",
            "Nilai MAPE =  1.965197105103542\n"
          ]
        }
      ],
      "source": [
        "RMSE = np.sqrt(np.mean( predictions - y_test_pg)**2)\n",
        "print('Nilai RMSE = ', RMSE)\n",
        "MAPE = mean_absolute_percentage_error(y_test_pg,predictions)*100\n",
        "print('Nilai MAPE = ', MAPE)"
      ]
    },
    {
      "cell_type": "markdown",
      "metadata": {
        "id": "Jtt_Qzgge9t7"
      },
      "source": [
        "# **Plot Aktual vs Prediksi**"
      ]
    },
    {
      "cell_type": "code",
      "execution_count": null,
      "metadata": {
        "colab": {
          "background_save": true,
          "base_uri": "https://localhost:8080/",
          "height": 591
        },
        "id": "l0mcl64Mahl6",
        "outputId": "bb8fd061-13e2-4de5-bb8a-0994e250a7ba"
      },
      "outputs": [
        {
          "name": "stderr",
          "output_type": "stream",
          "text": [
            "<ipython-input-35-e503ed0156a1>:2: SettingWithCopyWarning: \n",
            "A value is trying to be set on a copy of a slice from a DataFrame.\n",
            "Try using .loc[row_indexer,col_indexer] = value instead\n",
            "\n",
            "See the caveats in the documentation: https://pandas.pydata.org/pandas-docs/stable/user_guide/indexing.html#returning-a-view-versus-a-copy\n",
            "  df1['Prediksi'] = predictions\n"
          ]
        },
        {
          "data": {
            "text/plain": [
              "<matplotlib.legend.Legend at 0x7e83c24a4f10>"
            ]
          },
          "execution_count": 35,
          "metadata": {},
          "output_type": "execute_result"
        },
        {
          "data": {
            "image/png": "[encoded data removed]",
            "text/plain": [
              "<Figure size 1600x800 with 1 Axes>"
            ]
          },
          "metadata": {},
          "output_type": "display_data"
        }
      ],
      "source": [
        "df1 = data_pg[training_data_len_pg:]\n",
        "df1['Prediksi'] = predictions\n",
        "plt.figure(figsize=(16,8))\n",
        "plt.title('Aktual vs Prediksi')\n",
        "plt.plot(df1['Price'])\n",
        "plt.plot(df1['Prediksi'])\n",
        "plt.legend(['Aktual','Prediksi'],loc=\"best\")"
      ]
    },
    {
      "cell_type": "code",
      "execution_count": null,
      "metadata": {
        "colab": {
          "base_uri": "https://localhost:8080/",
          "height": 706
        },
        "id": "lJnkPIE26pCI",
        "outputId": "3c1c1654-c974-47da-d974-d3cd3dd08a61"
      },
      "outputs": [
        {
          "name": "stderr",
          "output_type": "stream",
          "text": [
            "<ipython-input-25-38d8fd2239d2>:3: SettingWithCopyWarning: \n",
            "A value is trying to be set on a copy of a slice from a DataFrame.\n",
            "Try using .loc[row_indexer,col_indexer] = value instead\n",
            "\n",
            "See the caveats in the documentation: https://pandas.pydata.org/pandas-docs/stable/user_guide/indexing.html#returning-a-view-versus-a-copy\n",
            "  valid['predictions'] = predictions\n"
          ]
        },
        {
          "data": {
            "image/png": "[encoded data removed]",
            "text/plain": [
              "<Figure size 1200x800 with 1 Axes>"
            ]
          },
          "metadata": {},
          "output_type": "display_data"
        }
      ],
      "source": [
        "train = df_pg[:training_data_len_pg+1]\n",
        "valid = df_pg[training_data_len_pg:]\n",
        "valid['predictions'] = predictions\n",
        "\n",
        "plt.figure(figsize=(12,8))\n",
        "plt.title('Model LSTM 90-10')\n",
        "plt.xlabel('Date', fontsize=18)\n",
        "plt.ylabel('Price')\n",
        "plt.plot(train['Date'],train['Price'])\n",
        "plt.plot(valid['Date'],valid[['Price','predictions']])\n",
        "plt.legend(['train','test','predictions'], loc='lower right')\n",
        "plt.show()"
      ]
    },
    {
      "cell_type": "code",
      "execution_count": null,
      "metadata": {
        "id": "k-gksoHw6pw5"
      },
      "outputs": [],
      "source": [
        "valid\n",
        "valid.to_excel('Hasil Prediksi LSTM 90:10.xlsx', index = False)"
      ]
    }
  ],
  "metadata": {
    "colab": {
      "provenance": [],
      "include_colab_link": true
    },
    "kernelspec": {
      "display_name": "Python 3",
      "name": "python3"
    },
    "language_info": {
      "name": "python"
    }
  },
  "nbformat": 4,
  "nbformat_minor": 0
}